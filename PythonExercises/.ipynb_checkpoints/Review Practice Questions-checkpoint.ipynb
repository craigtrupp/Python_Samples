{
 "cells": [
  {
   "cell_type": "markdown",
   "id": "fd7efc47",
   "metadata": {},
   "source": [
    "**Challenge** : Create a list called emotions that contains the first word of every line in emotion_words.txt.\n",
    "* File a mocked file available within Rune environment but no noted download available\n",
    "* Good way to show how to use list comprehension to iterate through file and accumulate a particular value"
   ]
  },
  {
   "cell_type": "code",
   "execution_count": 2,
   "id": "158aeae7",
   "metadata": {},
   "outputs": [
    {
     "ename": "FileNotFoundError",
     "evalue": "[Errno 2] No such file or directory: 'emotion_words.txt'",
     "output_type": "error",
     "traceback": [
      "\u001b[0;31m---------------------------------------------------------------------------\u001b[0m",
      "\u001b[0;31mFileNotFoundError\u001b[0m                         Traceback (most recent call last)",
      "\u001b[0;32m/var/folders/r8/mmfd5rgj7v51_80zhnq8v9zc0000gn/T/ipykernel_11264/755318662.py\u001b[0m in \u001b[0;36m<module>\u001b[0;34m\u001b[0m\n\u001b[1;32m      1\u001b[0m \u001b[0memotions\u001b[0m \u001b[0;34m=\u001b[0m \u001b[0;34m[\u001b[0m\u001b[0;34m]\u001b[0m\u001b[0;34m\u001b[0m\u001b[0;34m\u001b[0m\u001b[0m\n\u001b[0;32m----> 2\u001b[0;31m \u001b[0;32mwith\u001b[0m \u001b[0mopen\u001b[0m\u001b[0;34m(\u001b[0m\u001b[0;34m'emotion_words.txt'\u001b[0m\u001b[0;34m,\u001b[0m \u001b[0;34m'r'\u001b[0m\u001b[0;34m)\u001b[0m \u001b[0;32mas\u001b[0m \u001b[0mf\u001b[0m\u001b[0;34m:\u001b[0m\u001b[0;34m\u001b[0m\u001b[0;34m\u001b[0m\u001b[0m\n\u001b[0m\u001b[1;32m      3\u001b[0m     \u001b[0;34m[\u001b[0m\u001b[0memotions\u001b[0m\u001b[0;34m.\u001b[0m\u001b[0mappend\u001b[0m\u001b[0;34m(\u001b[0m\u001b[0mx\u001b[0m\u001b[0;34m.\u001b[0m\u001b[0msplit\u001b[0m\u001b[0;34m(\u001b[0m\u001b[0;34m)\u001b[0m\u001b[0;34m[\u001b[0m\u001b[0;36m0\u001b[0m\u001b[0;34m]\u001b[0m\u001b[0;34m)\u001b[0m \u001b[0;32mfor\u001b[0m \u001b[0mx\u001b[0m \u001b[0;32min\u001b[0m \u001b[0mf\u001b[0m\u001b[0;34m.\u001b[0m\u001b[0mreadlines\u001b[0m\u001b[0;34m(\u001b[0m\u001b[0;34m)\u001b[0m\u001b[0;34m]\u001b[0m\u001b[0;34m\u001b[0m\u001b[0;34m\u001b[0m\u001b[0m\n\u001b[1;32m      4\u001b[0m \u001b[0;34m\u001b[0m\u001b[0m\n\u001b[1;32m      5\u001b[0m \u001b[0;34m[\u001b[0m\u001b[0;34m'Sad'\u001b[0m\u001b[0;34m,\u001b[0m \u001b[0;34m'Angry'\u001b[0m\u001b[0;34m,\u001b[0m \u001b[0;34m'Happy'\u001b[0m\u001b[0;34m,\u001b[0m \u001b[0;34m'Confused'\u001b[0m\u001b[0;34m,\u001b[0m \u001b[0;34m'Excited'\u001b[0m\u001b[0;34m,\u001b[0m \u001b[0;34m'Scared'\u001b[0m\u001b[0;34m,\u001b[0m \u001b[0;34m'Nervous'\u001b[0m\u001b[0;34m]\u001b[0m\u001b[0;34m\u001b[0m\u001b[0;34m\u001b[0m\u001b[0m\n",
      "\u001b[0;31mFileNotFoundError\u001b[0m: [Errno 2] No such file or directory: 'emotion_words.txt'"
     ]
    }
   ],
   "source": [
    "emotions = []\n",
    "with open('emotion_words.txt', 'r') as f:\n",
    "    [emotions.append(x.split()[0]) for x in f.readlines()]\n",
    "\n",
    "# ['Sad', 'Angry', 'Happy', 'Confused', 'Excited', 'Scared', 'Nervous']\n",
    "## Mocking a created file (disregard the file error below : output above)"
   ]
  },
  {
   "cell_type": "markdown",
   "id": "0d4ce9ce",
   "metadata": {},
   "source": [
    "#### Create a dictionary called **char_d**. \n",
    "* The keys of the dictionary should be each character in stri, and the value for each key should be how many times the character occurs in the string."
   ]
  },
  {
   "cell_type": "code",
   "execution_count": 3,
   "id": "95f40274",
   "metadata": {},
   "outputs": [
    {
     "name": "stdout",
     "output_type": "stream",
     "text": [
      "{'w': 1, 'h': 1, 'a': 2, 't': 1, 'c': 1, 'n': 1, 'I': 1, 'd': 1, 'o': 1}\n"
     ]
    }
   ],
   "source": [
    "stri = \"what can I do\"\n",
    "char_d = {}\n",
    "for x in stri:\n",
    "    if x.isalpha() and x not in char_d.keys():\n",
    "        char_d[x] = 1\n",
    "    elif x.isalpha() and x in char_d.keys():\n",
    "        char_d[x] += 1\n",
    "    else:\n",
    "        continue\n",
    "print(char_d)"
   ]
  },
  {
   "cell_type": "code",
   "execution_count": 4,
   "id": "5d100f5d",
   "metadata": {},
   "outputs": [
    {
     "name": "stdout",
     "output_type": "stream",
     "text": [
      "{'w': 1, 'h': 1, 'a': 1, 't': 1, 'c': 1, 'n': 1, 'I': 1, 'd': 1, 'o': 1, ' ': 1}\n"
     ]
    }
   ],
   "source": [
    "# With spaces \n",
    "char_d_1 = {}\n",
    "for x in stri:\n",
    "    if x not in char_d_1.keys():\n",
    "        char_d[x] = 1\n",
    "    elif x in char_d_1.keys():\n",
    "        char_d[x] += 1\n",
    "    else:\n",
    "        continue\n",
    "print(char_d)"
   ]
  },
  {
   "cell_type": "markdown",
   "id": "0ba89683",
   "metadata": {},
   "source": [
    "#### Dict Accumulation\n",
    "* The dictionary Junior shows a schedule for a junior year semester. The key is the course name and the value is the number of credits. Find the total number of credits taken this semester and assign it to the variable credits. Do not hardcode this – use dictionary accumulation!"
   ]
  },
  {
   "cell_type": "code",
   "execution_count": 5,
   "id": "6c035b7a",
   "metadata": {},
   "outputs": [
    {
     "name": "stdout",
     "output_type": "stream",
     "text": [
      "18\n"
     ]
    }
   ],
   "source": [
    "Junior = {'SI 206':4, 'SI 310':4, 'BL 300':3, 'TO 313':3, 'BCOM 350':1, 'MO 300':3}\n",
    "credits = 0\n",
    "for credit in Junior.values(): # values a dict_list is iterable\n",
    "    credits += credit\n",
    "print(credits)\n"
   ]
  },
  {
   "cell_type": "markdown",
   "id": "f38a6f60",
   "metadata": {},
   "source": [
    "* Create the dictionary characters that shows each character from the string sally and its frequency. Then, find the most frequent letter based on the dictionary. Assign this letter to the variable best_char."
   ]
  },
  {
   "cell_type": "code",
   "execution_count": 7,
   "id": "17276b6b",
   "metadata": {},
   "outputs": [
    {
     "name": "stdout",
     "output_type": "stream",
     "text": [
      "{'s': 8, 'a': 3, 'l': 6, 'y': 2, ' ': 7, 'e': 6, 'h': 3, 'b': 1, 't': 1, 'o': 1, 'r': 1}\n",
      "Character seen the most was : s. Which occured, 8 times!\n"
     ]
    }
   ],
   "source": [
    "sally = \"sally sells sea shells by the sea shore\"\n",
    "characters = {}\n",
    "for char in sally:\n",
    "    characters[char] = characters.get(char, 0) + 1\n",
    "print(characters)\n",
    "best_char = max(characters, key=lambda x: characters[x])\n",
    "print(\"Character seen the most was : {}. Which occured, {} times!\".format(best_char, characters[best_char]))"
   ]
  },
  {
   "cell_type": "code",
   "execution_count": null,
   "id": "6f88a415",
   "metadata": {},
   "outputs": [],
   "source": []
  },
  {
   "cell_type": "code",
   "execution_count": null,
   "id": "622db670",
   "metadata": {},
   "outputs": [],
   "source": []
  },
  {
   "cell_type": "code",
   "execution_count": null,
   "id": "b19fd88c",
   "metadata": {},
   "outputs": [],
   "source": []
  },
  {
   "cell_type": "code",
   "execution_count": null,
   "id": "eecbf117",
   "metadata": {},
   "outputs": [],
   "source": []
  },
  {
   "cell_type": "code",
   "execution_count": null,
   "id": "dd24e8be",
   "metadata": {},
   "outputs": [],
   "source": []
  },
  {
   "cell_type": "code",
   "execution_count": null,
   "id": "8ed6e259",
   "metadata": {},
   "outputs": [],
   "source": []
  },
  {
   "cell_type": "code",
   "execution_count": null,
   "id": "200ef257",
   "metadata": {},
   "outputs": [],
   "source": []
  },
  {
   "cell_type": "code",
   "execution_count": null,
   "id": "96283aee",
   "metadata": {},
   "outputs": [],
   "source": []
  }
 ],
 "metadata": {
  "kernelspec": {
   "display_name": "Python 3 (ipykernel)",
   "language": "python",
   "name": "python3"
  },
  "language_info": {
   "codemirror_mode": {
    "name": "ipython",
    "version": 3
   },
   "file_extension": ".py",
   "mimetype": "text/x-python",
   "name": "python",
   "nbconvert_exporter": "python",
   "pygments_lexer": "ipython3",
   "version": "3.9.12"
  }
 },
 "nbformat": 4,
 "nbformat_minor": 5
}
