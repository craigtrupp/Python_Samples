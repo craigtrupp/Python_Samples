{
 "cells": [
  {
   "cell_type": "markdown",
   "id": "62103691",
   "metadata": {},
   "source": [
    "### ``Day 46: Create a DataFrame`` \n",
    "* Create a DataFrame using pandas. You are going to create a code to put the following into a DataFrame. You will use the information in the table below. Basically, you are going to recreate this table using pandas. Use the information in the table to recreate the table.\n",
    "\n",
    "|year|title|genre|\n",
    "|----|----|----|\n",
    "|2009|Brothers|Drama|\n",
    "|2002|Spider-Man|Sci-Fi|\n",
    "|2009|WatchMen|Drama|\n",
    "|2010|Inception|Sci-Fi|\n",
    "|2009|Avatar|Fantasy|"
   ]
  },
  {
   "cell_type": "code",
   "execution_count": 1,
   "id": "7f1fdf7e",
   "metadata": {},
   "outputs": [],
   "source": [
    "import pandas as pd"
   ]
  },
  {
   "cell_type": "code",
   "execution_count": 2,
   "id": "35215943",
   "metadata": {},
   "outputs": [
    {
     "data": {
      "text/html": [
       "<div>\n",
       "<style scoped>\n",
       "    .dataframe tbody tr th:only-of-type {\n",
       "        vertical-align: middle;\n",
       "    }\n",
       "\n",
       "    .dataframe tbody tr th {\n",
       "        vertical-align: top;\n",
       "    }\n",
       "\n",
       "    .dataframe thead th {\n",
       "        text-align: right;\n",
       "    }\n",
       "</style>\n",
       "<table border=\"1\" class=\"dataframe\">\n",
       "  <thead>\n",
       "    <tr style=\"text-align: right;\">\n",
       "      <th></th>\n",
       "      <th>year</th>\n",
       "      <th>title</th>\n",
       "      <th>genre</th>\n",
       "    </tr>\n",
       "  </thead>\n",
       "  <tbody>\n",
       "    <tr>\n",
       "      <th>0</th>\n",
       "      <td>2009</td>\n",
       "      <td>Brothers</td>\n",
       "      <td>Drama</td>\n",
       "    </tr>\n",
       "    <tr>\n",
       "      <th>1</th>\n",
       "      <td>2002</td>\n",
       "      <td>Spider-Man</td>\n",
       "      <td>Sci-Fi</td>\n",
       "    </tr>\n",
       "    <tr>\n",
       "      <th>2</th>\n",
       "      <td>2009</td>\n",
       "      <td>WatchMen</td>\n",
       "      <td>Drama</td>\n",
       "    </tr>\n",
       "    <tr>\n",
       "      <th>3</th>\n",
       "      <td>2010</td>\n",
       "      <td>Inception</td>\n",
       "      <td>Sci-Fi</td>\n",
       "    </tr>\n",
       "    <tr>\n",
       "      <th>4</th>\n",
       "      <td>2009</td>\n",
       "      <td>Avatar</td>\n",
       "      <td>Fantasy</td>\n",
       "    </tr>\n",
       "  </tbody>\n",
       "</table>\n",
       "</div>"
      ],
      "text/plain": [
       "   year       title    genre\n",
       "0  2009    Brothers    Drama\n",
       "1  2002  Spider-Man   Sci-Fi\n",
       "2  2009    WatchMen    Drama\n",
       "3  2010   Inception   Sci-Fi\n",
       "4  2009      Avatar  Fantasy"
      ]
     },
     "execution_count": 2,
     "metadata": {},
     "output_type": "execute_result"
    }
   ],
   "source": [
    "movies = pd.DataFrame({\n",
    "    'year': [2009, 2002, 2009, 2010, 2009],\n",
    "    'title': ['Brothers', 'Spider-Man', 'WatchMen', 'Inception', 'Avatar'],\n",
    "    'genre': ['Drama', 'Sci-Fi', 'Drama', 'Sci-Fi', 'Fantasy']\n",
    "})\n",
    "movies"
   ]
  },
  {
   "cell_type": "markdown",
   "id": "4e7c4eed",
   "metadata": {},
   "source": [
    "#### `Extra Challenge: Website Data with Pandas` \n",
    "* Create code that extracts data from a website. \n",
    "* You will extract a table from the website. And from that table, you will extract columns about the data types in Python and their mutability. You will extract information from the following website: https://en.wikipedia.org/wiki/Python_(programming_language)z\n"
   ]
  },
  {
   "cell_type": "code",
   "execution_count": 3,
   "id": "379e5220",
   "metadata": {},
   "outputs": [
    {
     "name": "stdout",
     "output_type": "stream",
     "text": [
      "<class 'bs4.BeautifulSoup'>\n"
     ]
    }
   ],
   "source": [
    "from bs4 import BeautifulSoup\n",
    "import requests\n",
    "\n",
    "url = \"https://en.wikipedia.org/wiki/Python_(programming_language)\"\n",
    "data = requests.get(url).text\n",
    "\n",
    "soup = BeautifulSoup(data, 'html.parser')\n",
    "print(type(soup))"
   ]
  },
  {
   "cell_type": "code",
   "execution_count": 4,
   "id": "4953c285",
   "metadata": {},
   "outputs": [],
   "source": [
    "tables = soup.find_all('table')"
   ]
  },
  {
   "cell_type": "code",
   "execution_count": 5,
   "id": "d998feae",
   "metadata": {},
   "outputs": [
    {
     "data": {
      "text/plain": [
       "1"
      ]
     },
     "execution_count": 5,
     "metadata": {},
     "output_type": "execute_result"
    }
   ],
   "source": [
    "len(soup.find_all('table', class_=\"wikitable\"))"
   ]
  },
  {
   "cell_type": "markdown",
   "id": "d6ca75bc",
   "metadata": {},
   "source": [
    "* Now using the find_all method we inspected the webpage and found the class to be the wikitable which our length confirms above should be our primary table, let's look at it now"
   ]
  },
  {
   "cell_type": "code",
   "execution_count": 6,
   "id": "2a5c0d19",
   "metadata": {},
   "outputs": [
    {
     "name": "stdout",
     "output_type": "stream",
     "text": [
      "<th>Type\n",
      "</th>\n",
      "<th><a href=\"/wiki/Immutable_object\" title=\"Immutable object\">Mutability</a>\n",
      "</th>\n",
      "<th>Description\n",
      "</th>\n",
      "<th>Syntax examples\n",
      "</th>\n"
     ]
    }
   ],
   "source": [
    "wiki_table = soup.find_all('table', class_=\"wikitable\")\n",
    "table = wiki_table[0]\n",
    "# collect tableheading\n",
    "for heading in table.tbody.find_all('th'):\n",
    "    print(heading)"
   ]
  },
  {
   "cell_type": "code",
   "execution_count": 7,
   "id": "c9c6b869",
   "metadata": {},
   "outputs": [
    {
     "name": "stdout",
     "output_type": "stream",
     "text": [
      "0 <tr>\n",
      "<th>Type\n",
      "</th>\n",
      "<th><a href=\"/wiki/Immutable_object\" title=\"Immutable object\">Mutability</a>\n",
      "</th>\n",
      "<th>Description\n",
      "</th>\n",
      "<th>Syntax examples\n",
      "</th></tr>\n",
      "1 <tr>\n",
      "<td><code>bool</code>\n",
      "</td>\n",
      "<td>immutable\n",
      "</td>\n",
      "<td><a class=\"mw-redirect\" href=\"/wiki/Boolean_value\" title=\"Boolean value\">Boolean value</a>\n",
      "</td>\n",
      "<td><code class=\"mw-highlight mw-highlight-lang-python mw-content-ltr\" dir=\"ltr\" id=\"\" style=\"\"><span class=\"kc\">True</span></code><br/><code class=\"mw-highlight mw-highlight-lang-python mw-content-ltr\" dir=\"ltr\" id=\"\" style=\"\"><span class=\"kc\">False</span></code>\n",
      "</td></tr>\n",
      "2 <tr>\n",
      "<td><code>bytearray</code>\n",
      "</td>\n",
      "<td>mutable\n",
      "</td>\n",
      "<td>Sequence of <a href=\"/wiki/Byte\" title=\"Byte\">bytes</a>\n",
      "</td>\n",
      "<td><code class=\"mw-highlight mw-highlight-lang-python mw-content-ltr\" dir=\"ltr\" id=\"\" style=\"\"><span class=\"nb\">bytearray</span><span class=\"p\">(</span><span class=\"sa\">b</span><span class=\"s1\">'Some ASCII'</span><span class=\"p\">)</span></code><br/><code class=\"mw-highlight mw-highlight-lang-python mw-content-ltr\" dir=\"ltr\" id=\"\" style=\"\"><span class=\"nb\">bytearray</span><span class=\"p\">(</span><span class=\"sa\">b</span><span class=\"s2\">\"Some ASCII\"</span><span class=\"p\">)</span></code><br/><code class=\"mw-highlight mw-highlight-lang-python mw-content-ltr\" dir=\"ltr\" id=\"\" style=\"\"><span class=\"nb\">bytearray</span><span class=\"p\">([</span><span class=\"mi\">119</span><span class=\"p\">,</span> <span class=\"mi\">105</span><span class=\"p\">,</span> <span class=\"mi\">107</span><span class=\"p\">,</span> <span class=\"mi\">105</span><span class=\"p\">])</span></code>\n",
      "</td></tr>\n"
     ]
    }
   ],
   "source": [
    "# The result set returned can be sliced so we can look at like the first three\n",
    "for row_number, row in enumerate(table.tbody.find_all('tr')[:3]):\n",
    "    print(row_number, row)"
   ]
  },
  {
   "cell_type": "code",
   "execution_count": 8,
   "id": "5fd5f5df",
   "metadata": {},
   "outputs": [
    {
     "name": "stdout",
     "output_type": "stream",
     "text": [
      "['Type', 'Mutability', 'Description', 'Syntax examples']\n",
      "{'Description', 'Mutability', 'Syntax examples', 'Type'}\n"
     ]
    }
   ],
   "source": [
    "# remember to strip new line characters\n",
    "headings = [heading.text.strip('\\n') for heading in table.tbody.find_all('th')] \n",
    "print(headings)\n",
    "headings_dict = {heading.text.strip('\\n') for heading in table.tbody.find_all('th')}\n",
    "print(headings_dict)"
   ]
  },
  {
   "cell_type": "code",
   "execution_count": 9,
   "id": "4469c88d",
   "metadata": {},
   "outputs": [
    {
     "data": {
      "text/html": [
       "<div>\n",
       "<style scoped>\n",
       "    .dataframe tbody tr th:only-of-type {\n",
       "        vertical-align: middle;\n",
       "    }\n",
       "\n",
       "    .dataframe tbody tr th {\n",
       "        vertical-align: top;\n",
       "    }\n",
       "\n",
       "    .dataframe thead th {\n",
       "        text-align: right;\n",
       "    }\n",
       "</style>\n",
       "<table border=\"1\" class=\"dataframe\">\n",
       "  <thead>\n",
       "    <tr style=\"text-align: right;\">\n",
       "      <th></th>\n",
       "      <th>Type</th>\n",
       "      <th>Mutability</th>\n",
       "    </tr>\n",
       "  </thead>\n",
       "  <tbody>\n",
       "  </tbody>\n",
       "</table>\n",
       "</div>"
      ],
      "text/plain": [
       "Empty DataFrame\n",
       "Columns: [Type, Mutability]\n",
       "Index: []"
      ]
     },
     "execution_count": 9,
     "metadata": {},
     "output_type": "execute_result"
    }
   ],
   "source": [
    "# So let's make the pandas dataframe with the bare bones and the headings \n",
    "wiki_python_df = pd.DataFrame(columns=headings[:2])\n",
    "wiki_python_df"
   ]
  },
  {
   "cell_type": "code",
   "execution_count": 10,
   "id": "4c43b965",
   "metadata": {},
   "outputs": [],
   "source": [
    "# Loop through each table row after the headings\n",
    "rows_data = []\n",
    "for row_data in table.tbody.find_all('tr')[1:]:\n",
    "    # Reset column data for next row\n",
    "    columns_data = []\n",
    "    for column_data in row_data.find_all('td')[:2]:\n",
    "        columns_data.append(column_data.text.strip('\\n'))\n",
    "    #row_frames.append(pd.DataFrame([columns_data])) # create list of pandas dataframes to concat after all rows\n",
    "    rows_data.append(columns_data)"
   ]
  },
  {
   "cell_type": "code",
   "execution_count": 11,
   "id": "2fd0daca",
   "metadata": {},
   "outputs": [
    {
     "data": {
      "text/html": [
       "<div>\n",
       "<style scoped>\n",
       "    .dataframe tbody tr th:only-of-type {\n",
       "        vertical-align: middle;\n",
       "    }\n",
       "\n",
       "    .dataframe tbody tr th {\n",
       "        vertical-align: top;\n",
       "    }\n",
       "\n",
       "    .dataframe thead th {\n",
       "        text-align: right;\n",
       "    }\n",
       "</style>\n",
       "<table border=\"1\" class=\"dataframe\">\n",
       "  <thead>\n",
       "    <tr style=\"text-align: right;\">\n",
       "      <th></th>\n",
       "      <th>Type</th>\n",
       "      <th>Mutability</th>\n",
       "    </tr>\n",
       "  </thead>\n",
       "  <tbody>\n",
       "    <tr>\n",
       "      <th>0</th>\n",
       "      <td>bool</td>\n",
       "      <td>immutable</td>\n",
       "    </tr>\n",
       "    <tr>\n",
       "      <th>1</th>\n",
       "      <td>bytearray</td>\n",
       "      <td>mutable</td>\n",
       "    </tr>\n",
       "    <tr>\n",
       "      <th>2</th>\n",
       "      <td>bytes</td>\n",
       "      <td>immutable</td>\n",
       "    </tr>\n",
       "    <tr>\n",
       "      <th>3</th>\n",
       "      <td>complex</td>\n",
       "      <td>immutable</td>\n",
       "    </tr>\n",
       "    <tr>\n",
       "      <th>4</th>\n",
       "      <td>dict</td>\n",
       "      <td>mutable</td>\n",
       "    </tr>\n",
       "    <tr>\n",
       "      <th>5</th>\n",
       "      <td>types.EllipsisType</td>\n",
       "      <td>immutable</td>\n",
       "    </tr>\n",
       "    <tr>\n",
       "      <th>6</th>\n",
       "      <td>float</td>\n",
       "      <td>immutable</td>\n",
       "    </tr>\n",
       "    <tr>\n",
       "      <th>7</th>\n",
       "      <td>frozenset</td>\n",
       "      <td>immutable</td>\n",
       "    </tr>\n",
       "    <tr>\n",
       "      <th>8</th>\n",
       "      <td>int</td>\n",
       "      <td>immutable</td>\n",
       "    </tr>\n",
       "    <tr>\n",
       "      <th>9</th>\n",
       "      <td>list</td>\n",
       "      <td>mutable</td>\n",
       "    </tr>\n",
       "    <tr>\n",
       "      <th>10</th>\n",
       "      <td>types.NoneType</td>\n",
       "      <td>immutable</td>\n",
       "    </tr>\n",
       "    <tr>\n",
       "      <th>11</th>\n",
       "      <td>types.NotImplementedType</td>\n",
       "      <td>immutable</td>\n",
       "    </tr>\n",
       "    <tr>\n",
       "      <th>12</th>\n",
       "      <td>range</td>\n",
       "      <td>immutable</td>\n",
       "    </tr>\n",
       "    <tr>\n",
       "      <th>13</th>\n",
       "      <td>set</td>\n",
       "      <td>mutable</td>\n",
       "    </tr>\n",
       "    <tr>\n",
       "      <th>14</th>\n",
       "      <td>str</td>\n",
       "      <td>immutable</td>\n",
       "    </tr>\n",
       "    <tr>\n",
       "      <th>15</th>\n",
       "      <td>tuple</td>\n",
       "      <td>immutable</td>\n",
       "    </tr>\n",
       "  </tbody>\n",
       "</table>\n",
       "</div>"
      ],
      "text/plain": [
       "                        Type Mutability\n",
       "0                       bool  immutable\n",
       "1                  bytearray    mutable\n",
       "2                      bytes  immutable\n",
       "3                    complex  immutable\n",
       "4                       dict    mutable\n",
       "5         types.EllipsisType  immutable\n",
       "6                      float  immutable\n",
       "7                  frozenset  immutable\n",
       "8                        int  immutable\n",
       "9                       list    mutable\n",
       "10            types.NoneType  immutable\n",
       "11  types.NotImplementedType  immutable\n",
       "12                     range  immutable\n",
       "13                       set    mutable\n",
       "14                       str  immutable\n",
       "15                     tuple  immutable"
      ]
     },
     "execution_count": 11,
     "metadata": {},
     "output_type": "execute_result"
    }
   ],
   "source": [
    "pd.DataFrame(rows_data, columns=wiki_python_df.columns)"
   ]
  },
  {
   "cell_type": "markdown",
   "id": "6ef53059",
   "metadata": {},
   "source": [
    "* Alternatively, we should be able to use the `read_html` function from pandas to do this as well, let's try!"
   ]
  },
  {
   "cell_type": "code",
   "execution_count": 12,
   "id": "eb8f421b",
   "metadata": {},
   "outputs": [],
   "source": [
    "scrubbed_tables = pd.read_html('https://en.wikipedia.org/wiki/Python_(programming_language)')"
   ]
  },
  {
   "cell_type": "code",
   "execution_count": 13,
   "id": "a2a30f32",
   "metadata": {},
   "outputs": [
    {
     "name": "stdout",
     "output_type": "stream",
     "text": [
      "13 [<class 'pandas.core.frame.DataFrame'>, <class 'pandas.core.frame.DataFrame'>, <class 'pandas.core.frame.DataFrame'>, <class 'pandas.core.frame.DataFrame'>, <class 'pandas.core.frame.DataFrame'>, <class 'pandas.core.frame.DataFrame'>, <class 'pandas.core.frame.DataFrame'>, <class 'pandas.core.frame.DataFrame'>, <class 'pandas.core.frame.DataFrame'>, <class 'pandas.core.frame.DataFrame'>, <class 'pandas.core.frame.DataFrame'>, <class 'pandas.core.frame.DataFrame'>, <class 'pandas.core.frame.DataFrame'>]\n"
     ]
    }
   ],
   "source": [
    "print(len(scrubbed_tables), [type(x) for x in scrubbed_tables])"
   ]
  },
  {
   "cell_type": "code",
   "execution_count": 14,
   "id": "4f3d97d7",
   "metadata": {},
   "outputs": [
    {
     "data": {
      "text/plain": [
       "Index(['Type', 'Mutability', 'Description', 'Syntax examples'], dtype='object')"
      ]
     },
     "execution_count": 14,
     "metadata": {},
     "output_type": "execute_result"
    }
   ],
   "source": [
    "# Let's see where our tables is in the list of dataframes\n",
    "scrubbed_tables[1].columns"
   ]
  },
  {
   "cell_type": "code",
   "execution_count": 15,
   "id": "51ac1298",
   "metadata": {},
   "outputs": [],
   "source": [
    "pyth_types_table_list = [x for x in scrubbed_tables if list(x.columns) == \n",
    "                       ['Type', 'Mutability', 'Description', 'Syntax examples']]"
   ]
  },
  {
   "cell_type": "code",
   "execution_count": 16,
   "id": "9aefc535",
   "metadata": {},
   "outputs": [
    {
     "data": {
      "text/plain": [
       "(list, 1, pandas.core.frame.DataFrame)"
      ]
     },
     "execution_count": 16,
     "metadata": {},
     "output_type": "execute_result"
    }
   ],
   "source": [
    "type(pyth_types_table_list), len(pyth_types_table_list), type(pyth_types_table_list[0])"
   ]
  },
  {
   "cell_type": "code",
   "execution_count": 18,
   "id": "af7e941f",
   "metadata": {},
   "outputs": [
    {
     "data": {
      "text/html": [
       "<div>\n",
       "<style scoped>\n",
       "    .dataframe tbody tr th:only-of-type {\n",
       "        vertical-align: middle;\n",
       "    }\n",
       "\n",
       "    .dataframe tbody tr th {\n",
       "        vertical-align: top;\n",
       "    }\n",
       "\n",
       "    .dataframe thead th {\n",
       "        text-align: right;\n",
       "    }\n",
       "</style>\n",
       "<table border=\"1\" class=\"dataframe\">\n",
       "  <thead>\n",
       "    <tr style=\"text-align: right;\">\n",
       "      <th></th>\n",
       "      <th>Type</th>\n",
       "      <th>Mutability</th>\n",
       "      <th>Description</th>\n",
       "      <th>Syntax examples</th>\n",
       "    </tr>\n",
       "  </thead>\n",
       "  <tbody>\n",
       "    <tr>\n",
       "      <th>0</th>\n",
       "      <td>bool</td>\n",
       "      <td>immutable</td>\n",
       "      <td>Boolean value</td>\n",
       "      <td>TrueFalse</td>\n",
       "    </tr>\n",
       "    <tr>\n",
       "      <th>1</th>\n",
       "      <td>bytearray</td>\n",
       "      <td>mutable</td>\n",
       "      <td>Sequence of bytes</td>\n",
       "      <td>bytearray(b'Some ASCII')bytearray(b\"Some ASCII...</td>\n",
       "    </tr>\n",
       "    <tr>\n",
       "      <th>2</th>\n",
       "      <td>bytes</td>\n",
       "      <td>immutable</td>\n",
       "      <td>Sequence of bytes</td>\n",
       "      <td>b'Some ASCII'b\"Some ASCII\"bytes([119, 105, 107...</td>\n",
       "    </tr>\n",
       "    <tr>\n",
       "      <th>3</th>\n",
       "      <td>complex</td>\n",
       "      <td>immutable</td>\n",
       "      <td>Complex number with real and imaginary parts</td>\n",
       "      <td>3+2.7j3 + 2.7j</td>\n",
       "    </tr>\n",
       "    <tr>\n",
       "      <th>4</th>\n",
       "      <td>dict</td>\n",
       "      <td>mutable</td>\n",
       "      <td>Associative array (or dictionary) of key and v...</td>\n",
       "      <td>{'key1': 1.0, 3: False}{}</td>\n",
       "    </tr>\n",
       "    <tr>\n",
       "      <th>5</th>\n",
       "      <td>types.EllipsisType</td>\n",
       "      <td>immutable</td>\n",
       "      <td>An ellipsis placeholder to be used as an index...</td>\n",
       "      <td>...Ellipsis</td>\n",
       "    </tr>\n",
       "    <tr>\n",
       "      <th>6</th>\n",
       "      <td>float</td>\n",
       "      <td>immutable</td>\n",
       "      <td>Double-precision floating-point number. The pr...</td>\n",
       "      <td>1.33333</td>\n",
       "    </tr>\n",
       "    <tr>\n",
       "      <th>7</th>\n",
       "      <td>frozenset</td>\n",
       "      <td>immutable</td>\n",
       "      <td>Unordered set, contains no duplicates; can con...</td>\n",
       "      <td>frozenset([4.0, 'string', True])</td>\n",
       "    </tr>\n",
       "    <tr>\n",
       "      <th>8</th>\n",
       "      <td>int</td>\n",
       "      <td>immutable</td>\n",
       "      <td>Integer of unlimited magnitude[108]</td>\n",
       "      <td>42</td>\n",
       "    </tr>\n",
       "    <tr>\n",
       "      <th>9</th>\n",
       "      <td>list</td>\n",
       "      <td>mutable</td>\n",
       "      <td>List, can contain mixed types</td>\n",
       "      <td>[4.0, 'string', True][]</td>\n",
       "    </tr>\n",
       "    <tr>\n",
       "      <th>10</th>\n",
       "      <td>types.NoneType</td>\n",
       "      <td>immutable</td>\n",
       "      <td>An object representing the absence of a value,...</td>\n",
       "      <td>None</td>\n",
       "    </tr>\n",
       "    <tr>\n",
       "      <th>11</th>\n",
       "      <td>types.NotImplementedType</td>\n",
       "      <td>immutable</td>\n",
       "      <td>A placeholder that can be returned from overlo...</td>\n",
       "      <td>NotImplemented</td>\n",
       "    </tr>\n",
       "    <tr>\n",
       "      <th>12</th>\n",
       "      <td>range</td>\n",
       "      <td>immutable</td>\n",
       "      <td>An immutable sequence of numbers commonly used...</td>\n",
       "      <td>range(-1, 10)range(10, -5, -2)</td>\n",
       "    </tr>\n",
       "    <tr>\n",
       "      <th>13</th>\n",
       "      <td>set</td>\n",
       "      <td>mutable</td>\n",
       "      <td>Unordered set, contains no duplicates; can con...</td>\n",
       "      <td>{4.0, 'string', True}set()</td>\n",
       "    </tr>\n",
       "    <tr>\n",
       "      <th>14</th>\n",
       "      <td>str</td>\n",
       "      <td>immutable</td>\n",
       "      <td>A character string: sequence of Unicode codepo...</td>\n",
       "      <td>'Wikipedia'\"Wikipedia\"\"\"\"Spanning multiple lin...</td>\n",
       "    </tr>\n",
       "    <tr>\n",
       "      <th>15</th>\n",
       "      <td>tuple</td>\n",
       "      <td>immutable</td>\n",
       "      <td>Can contain mixed types</td>\n",
       "      <td>(4.0, 'string', True)('single element',)()</td>\n",
       "    </tr>\n",
       "  </tbody>\n",
       "</table>\n",
       "</div>"
      ],
      "text/plain": [
       "                        Type Mutability  \\\n",
       "0                       bool  immutable   \n",
       "1                  bytearray    mutable   \n",
       "2                      bytes  immutable   \n",
       "3                    complex  immutable   \n",
       "4                       dict    mutable   \n",
       "5         types.EllipsisType  immutable   \n",
       "6                      float  immutable   \n",
       "7                  frozenset  immutable   \n",
       "8                        int  immutable   \n",
       "9                       list    mutable   \n",
       "10            types.NoneType  immutable   \n",
       "11  types.NotImplementedType  immutable   \n",
       "12                     range  immutable   \n",
       "13                       set    mutable   \n",
       "14                       str  immutable   \n",
       "15                     tuple  immutable   \n",
       "\n",
       "                                          Description  \\\n",
       "0                                       Boolean value   \n",
       "1                                   Sequence of bytes   \n",
       "2                                   Sequence of bytes   \n",
       "3        Complex number with real and imaginary parts   \n",
       "4   Associative array (or dictionary) of key and v...   \n",
       "5   An ellipsis placeholder to be used as an index...   \n",
       "6   Double-precision floating-point number. The pr...   \n",
       "7   Unordered set, contains no duplicates; can con...   \n",
       "8                 Integer of unlimited magnitude[108]   \n",
       "9                       List, can contain mixed types   \n",
       "10  An object representing the absence of a value,...   \n",
       "11  A placeholder that can be returned from overlo...   \n",
       "12  An immutable sequence of numbers commonly used...   \n",
       "13  Unordered set, contains no duplicates; can con...   \n",
       "14  A character string: sequence of Unicode codepo...   \n",
       "15                            Can contain mixed types   \n",
       "\n",
       "                                      Syntax examples  \n",
       "0                                           TrueFalse  \n",
       "1   bytearray(b'Some ASCII')bytearray(b\"Some ASCII...  \n",
       "2   b'Some ASCII'b\"Some ASCII\"bytes([119, 105, 107...  \n",
       "3                                      3+2.7j3 + 2.7j  \n",
       "4                           {'key1': 1.0, 3: False}{}  \n",
       "5                                         ...Ellipsis  \n",
       "6                                             1.33333  \n",
       "7                    frozenset([4.0, 'string', True])  \n",
       "8                                                  42  \n",
       "9                             [4.0, 'string', True][]  \n",
       "10                                               None  \n",
       "11                                     NotImplemented  \n",
       "12                     range(-1, 10)range(10, -5, -2)  \n",
       "13                         {4.0, 'string', True}set()  \n",
       "14  'Wikipedia'\"Wikipedia\"\"\"\"Spanning multiple lin...  \n",
       "15         (4.0, 'string', True)('single element',)()  "
      ]
     },
     "execution_count": 18,
     "metadata": {},
     "output_type": "execute_result"
    }
   ],
   "source": [
    "pyth_types_table_list[0]"
   ]
  },
  {
   "cell_type": "code",
   "execution_count": 20,
   "id": "422bec0a",
   "metadata": {},
   "outputs": [
    {
     "data": {
      "text/html": [
       "<div>\n",
       "<style scoped>\n",
       "    .dataframe tbody tr th:only-of-type {\n",
       "        vertical-align: middle;\n",
       "    }\n",
       "\n",
       "    .dataframe tbody tr th {\n",
       "        vertical-align: top;\n",
       "    }\n",
       "\n",
       "    .dataframe thead th {\n",
       "        text-align: right;\n",
       "    }\n",
       "</style>\n",
       "<table border=\"1\" class=\"dataframe\">\n",
       "  <thead>\n",
       "    <tr style=\"text-align: right;\">\n",
       "      <th></th>\n",
       "      <th>Type</th>\n",
       "      <th>Mutability</th>\n",
       "    </tr>\n",
       "  </thead>\n",
       "  <tbody>\n",
       "    <tr>\n",
       "      <th>0</th>\n",
       "      <td>bool</td>\n",
       "      <td>immutable</td>\n",
       "    </tr>\n",
       "    <tr>\n",
       "      <th>1</th>\n",
       "      <td>bytearray</td>\n",
       "      <td>mutable</td>\n",
       "    </tr>\n",
       "    <tr>\n",
       "      <th>2</th>\n",
       "      <td>bytes</td>\n",
       "      <td>immutable</td>\n",
       "    </tr>\n",
       "    <tr>\n",
       "      <th>3</th>\n",
       "      <td>complex</td>\n",
       "      <td>immutable</td>\n",
       "    </tr>\n",
       "    <tr>\n",
       "      <th>4</th>\n",
       "      <td>dict</td>\n",
       "      <td>mutable</td>\n",
       "    </tr>\n",
       "    <tr>\n",
       "      <th>5</th>\n",
       "      <td>types.EllipsisType</td>\n",
       "      <td>immutable</td>\n",
       "    </tr>\n",
       "    <tr>\n",
       "      <th>6</th>\n",
       "      <td>float</td>\n",
       "      <td>immutable</td>\n",
       "    </tr>\n",
       "    <tr>\n",
       "      <th>7</th>\n",
       "      <td>frozenset</td>\n",
       "      <td>immutable</td>\n",
       "    </tr>\n",
       "    <tr>\n",
       "      <th>8</th>\n",
       "      <td>int</td>\n",
       "      <td>immutable</td>\n",
       "    </tr>\n",
       "    <tr>\n",
       "      <th>9</th>\n",
       "      <td>list</td>\n",
       "      <td>mutable</td>\n",
       "    </tr>\n",
       "    <tr>\n",
       "      <th>10</th>\n",
       "      <td>types.NoneType</td>\n",
       "      <td>immutable</td>\n",
       "    </tr>\n",
       "    <tr>\n",
       "      <th>11</th>\n",
       "      <td>types.NotImplementedType</td>\n",
       "      <td>immutable</td>\n",
       "    </tr>\n",
       "    <tr>\n",
       "      <th>12</th>\n",
       "      <td>range</td>\n",
       "      <td>immutable</td>\n",
       "    </tr>\n",
       "    <tr>\n",
       "      <th>13</th>\n",
       "      <td>set</td>\n",
       "      <td>mutable</td>\n",
       "    </tr>\n",
       "    <tr>\n",
       "      <th>14</th>\n",
       "      <td>str</td>\n",
       "      <td>immutable</td>\n",
       "    </tr>\n",
       "    <tr>\n",
       "      <th>15</th>\n",
       "      <td>tuple</td>\n",
       "      <td>immutable</td>\n",
       "    </tr>\n",
       "  </tbody>\n",
       "</table>\n",
       "</div>"
      ],
      "text/plain": [
       "                        Type Mutability\n",
       "0                       bool  immutable\n",
       "1                  bytearray    mutable\n",
       "2                      bytes  immutable\n",
       "3                    complex  immutable\n",
       "4                       dict    mutable\n",
       "5         types.EllipsisType  immutable\n",
       "6                      float  immutable\n",
       "7                  frozenset  immutable\n",
       "8                        int  immutable\n",
       "9                       list    mutable\n",
       "10            types.NoneType  immutable\n",
       "11  types.NotImplementedType  immutable\n",
       "12                     range  immutable\n",
       "13                       set    mutable\n",
       "14                       str  immutable\n",
       "15                     tuple  immutable"
      ]
     },
     "execution_count": 20,
     "metadata": {},
     "output_type": "execute_result"
    }
   ],
   "source": [
    "# So we can limit the pandas dataframe in our result set by a column check and then access the dataframe which\n",
    "# is still in the list, now we can subset as we'd like\n",
    "pyth_types_table_list[0].iloc[:, [0, 1]]"
   ]
  },
  {
   "cell_type": "markdown",
   "id": "bf7b4bda",
   "metadata": {},
   "source": [
    "### **Day 47: Save a JSON**\n",
    "* Write a function called `save_json`. This function takes a dictionary as an argument and saves it on a file in JSON format.\n",
    "* Write another function called `read_json` that opens the file that you just saved and reads its' contents. Use the following as an argument\n",
    "```python\n",
    "names = {'name':'Carol', 'sex':'female', 'age':55}\n",
    "```"
   ]
  },
  {
   "cell_type": "code",
   "execution_count": 33,
   "id": "605abc66",
   "metadata": {},
   "outputs": [
    {
     "data": {
      "text/plain": [
       "[(str, '{\"name\": \"Carol\", \"sex\": \"female\", \"age\": 55}'),\n",
       " (dict, {'name': 'Carol', 'sex': 'female', 'age': 55})]"
      ]
     },
     "execution_count": 33,
     "metadata": {},
     "output_type": "execute_result"
    }
   ],
   "source": [
    "import json\n",
    "def json_dumps_loads(sample_dict):\n",
    "    encapsulate_dict = json.dumps(sample_dict)\n",
    "    dict_from_str = json.loads(encapsulate_dict)\n",
    "    return [(type(encapsulate_dict), encapsulate_dict), \n",
    "           (type(dict_from_str), dict_from_str)]\n",
    "\n",
    "json_dumps_loads({'name':'Carol', 'sex':'female', 'age':55})"
   ]
  },
  {
   "cell_type": "markdown",
   "id": "d3985a54",
   "metadata": {},
   "source": [
    "* `Loads` returns a dictionary but requires an encapsulated sequence to load and return a dictionary type\n",
    "    - `Load` is intened to Deserialize fp (a .read()-supporting file-like object containing a JSON document) to a Python object \n",
    "* `Dumps` returns a encapsulated str of the json_object\n",
    "    - `Dump` is intended to Serialize obj as a JSON formatted stream to fp (a .write()-supporting file-like object)"
   ]
  },
  {
   "cell_type": "code",
   "execution_count": 41,
   "id": "0826e58f",
   "metadata": {},
   "outputs": [
    {
     "name": "stdout",
     "output_type": "stream",
     "text": [
      "{'name': 'Carol', 'sex': 'female', 'age': 55}\n"
     ]
    },
    {
     "data": {
      "text/plain": [
       "({'name': 'Carol', 'sex': 'female', 'age': 55}, dict)"
      ]
     },
     "execution_count": 41,
     "metadata": {},
     "output_type": "execute_result"
    }
   ],
   "source": [
    "# first function\n",
    "def save_json(sample_dict, file):\n",
    "    # you could use an import here if needed, we have imported above\n",
    "    with open(file, 'w') as f:\n",
    "        # We can use dumps to format and place the str into a file\n",
    "        json.dump(sample_dict, f, indent=4)\n",
    "\n",
    "save_json({'name':'Carol', 'sex':'female', 'age':55}, 'single.json')\n",
    "\n",
    "# second function\n",
    "def read_json(file):\n",
    "    # json.load can deserialize a file itself i.e. it accepts a file object\n",
    "    with open(file, 'r') as r:\n",
    "        json_file = json.load(r)\n",
    "        print(json_file)\n",
    "    return json_file, type(json_file)\n",
    "\n",
    "read_json('single.json')"
   ]
  },
  {
   "cell_type": "code",
   "execution_count": 42,
   "id": "bf4c833f",
   "metadata": {},
   "outputs": [
    {
     "name": "stdout",
     "output_type": "stream",
     "text": [
      "[{'name': 'Carol', 'sex': 'female', 'age': 55}, {'name': 'Harold', 'sex': 'male', 'age': 35}]\n"
     ]
    },
    {
     "data": {
      "text/plain": [
       "([{'name': 'Carol', 'sex': 'female', 'age': 55},\n",
       "  {'name': 'Harold', 'sex': 'male', 'age': 35}],\n",
       " list)"
      ]
     },
     "execution_count": 42,
     "metadata": {},
     "output_type": "execute_result"
    }
   ],
   "source": [
    "save_json([{'name':'Carol', 'sex':'female', 'age':55}, {'name':'Harold', 'sex':'male', 'age':35}], 'multi.json')\n",
    "read_json('multi.json')"
   ]
  },
  {
   "cell_type": "markdown",
   "id": "82a55b21",
   "metadata": {},
   "source": [
    "* Function can accept either a list or dictionary as the argument to write to the file which is thus subsequently read in the next function"
   ]
  },
  {
   "cell_type": "code",
   "execution_count": null,
   "id": "1d087bff",
   "metadata": {},
   "outputs": [],
   "source": []
  }
 ],
 "metadata": {
  "kernelspec": {
   "display_name": "Python 3 (ipykernel)",
   "language": "python",
   "name": "python3"
  },
  "language_info": {
   "codemirror_mode": {
    "name": "ipython",
    "version": 3
   },
   "file_extension": ".py",
   "mimetype": "text/x-python",
   "name": "python",
   "nbconvert_exporter": "python",
   "pygments_lexer": "ipython3",
   "version": "3.9.12"
  }
 },
 "nbformat": 4,
 "nbformat_minor": 5
}
