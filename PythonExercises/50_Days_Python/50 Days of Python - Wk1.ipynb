{
 "cells": [
  {
   "cell_type": "markdown",
   "id": "b2397677",
   "metadata": {},
   "source": [
    "## 50 Days of Python\n",
    "* Using Brett Alexander's Book to keep plugging away with `Python`\n",
    "* Bennett Alexander, Benjamin. 50 Days of Python : A Challenge a Day.: The Ultimate Challenges Book for Python Beginners (p. 10). Kindle Edition. "
   ]
  },
  {
   "cell_type": "markdown",
   "id": "bb6c88f9",
   "metadata": {},
   "source": [
    "### **Day 1**\n",
    "* Write a function called `divide_or_square` that takes one argument (a number) and returns the square root of the number if it is divisible by 5, or its remainder if it is not divisible by 5. \n",
    "* For example, if you pass 10 as an argument, then your function should return 3.16 as the square root.\n",
    "* `Longest_value`\n",
    "    * Write a function called longest_value that takes a dictionary as an argument and returns the first longest value of the dictionary. For example, the following dictionary should return \"apple\" as the longest value. fruits = {'fruit': 'apple', 'color': 'green'}\n",
    "\n",
    "Bennett Alexander, Benjamin. 50 Days of Python : A Challenge a Day.: The Ultimate Challenges Book for Python Beginners (p. 10). Kindle Edition. "
   ]
  },
  {
   "cell_type": "code",
   "execution_count": 7,
   "id": "6f8b64dd",
   "metadata": {},
   "outputs": [],
   "source": [
    "import numpy as np\n",
    "def divide_or_square(number):\n",
    "    return round(np.sqrt(number), 3) if number % 5 == 0 else number % 5"
   ]
  },
  {
   "cell_type": "code",
   "execution_count": 9,
   "id": "3aefa3e2",
   "metadata": {},
   "outputs": [
    {
     "name": "stdout",
     "output_type": "stream",
     "text": [
      "3.162\n",
      "3.873\n",
      "2\n"
     ]
    }
   ],
   "source": [
    "print(divide_or_square(10)) # should be square root or 3.16\n",
    "print(divide_or_square(15)) # shoulld be square root 3.87\n",
    "print(divide_or_square(7))"
   ]
  },
  {
   "cell_type": "code",
   "execution_count": 21,
   "id": "af82a28b",
   "metadata": {},
   "outputs": [],
   "source": [
    "def longest_value(sample_dictionary):\n",
    "    # we can use the key as the value with which max is judging by (similar for a sort )\n",
    "    return sample_dictionary[max(sample_dictionary, key=lambda k: len(sample_dictionary[k]))]"
   ]
  },
  {
   "cell_type": "code",
   "execution_count": 22,
   "id": "ca1e3df3",
   "metadata": {},
   "outputs": [
    {
     "name": "stdout",
     "output_type": "stream",
     "text": [
      "Whole Foods\n"
     ]
    }
   ],
   "source": [
    "print(longest_value({'fruit':'apple', 'color':'green', 'grocery': 'Whole Foods'}))"
   ]
  },
  {
   "cell_type": "code",
   "execution_count": 25,
   "id": "fa4d8bd4",
   "metadata": {},
   "outputs": [],
   "source": [
    "def longest_value_2(sample_dict):\n",
    "    longest = max(sample_dict.values(), key=len)\n",
    "    return longest"
   ]
  },
  {
   "cell_type": "code",
   "execution_count": 26,
   "id": "995f2f37",
   "metadata": {},
   "outputs": [
    {
     "name": "stdout",
     "output_type": "stream",
     "text": [
      "Whole Foods\n"
     ]
    }
   ],
   "source": [
    "print(longest_value_2({'fruit':'apple', 'color':'green', 'grocery': 'Whole Foods'}))"
   ]
  },
  {
   "cell_type": "markdown",
   "id": "e7e55e07",
   "metadata": {},
   "source": [
    "### **Day 2: Strings to Integers**\n",
    "* Write a function called `convert_add` that takes a list of strings as an argument, converts them to integers, and sums the list. For example, [\"1,\", \"3\", \"5\"] should be converted to [1, 3, 5] and summed to 9.\n",
    "* Write a function called `check_duplicates` that takes a list of strings as an argument. The function should check if the list has any duplicates. If there are duplicates, the function should return the duplicates. If there are no duplicates, the function should return \"no duplicates.\" For example, the list of fruits below should return \"apple\" as a duplicate, and the list of names should return \"no duplicates.\" `fruits = ['apple', 'orange', 'banana', 'apple']` `names = ['Yoda', 'Moses', 'Joshua', 'Mark']`"
   ]
  },
  {
   "cell_type": "code",
   "execution_count": 28,
   "id": "f56c8581",
   "metadata": {},
   "outputs": [],
   "source": [
    "def convert_add(lst_strings):\n",
    "    return sum([int(x) for x in lst_strings])"
   ]
  },
  {
   "cell_type": "code",
   "execution_count": 29,
   "id": "c9999e4f",
   "metadata": {},
   "outputs": [
    {
     "name": "stdout",
     "output_type": "stream",
     "text": [
      "9\n"
     ]
    }
   ],
   "source": [
    "print(convert_add(['1', '3', '5']))"
   ]
  },
  {
   "cell_type": "code",
   "execution_count": 30,
   "id": "1a1a285b",
   "metadata": {},
   "outputs": [],
   "source": [
    "import collections"
   ]
  },
  {
   "cell_type": "code",
   "execution_count": 37,
   "id": "62954427",
   "metadata": {},
   "outputs": [],
   "source": [
    "def check_duplicates(lst_strings):\n",
    "    # Counter({'apple': 2, 'orange': 1, 'banana': 1})) below returns count of each list item\n",
    "    counter_obj = collections.Counter(lst_strings)\n",
    "    counter_obj_com = [item for item, count in counter_obj.items()]\n",
    "    return (counter_obj_com, counter_obj, counter_obj.items())"
   ]
  },
  {
   "cell_type": "code",
   "execution_count": 38,
   "id": "c5e04d50",
   "metadata": {},
   "outputs": [
    {
     "name": "stdout",
     "output_type": "stream",
     "text": [
      "(['apple', 'orange', 'banana'], Counter({'apple': 2, 'orange': 1, 'banana': 1}), dict_items([('apple', 2), ('orange', 1), ('banana', 1)]))\n"
     ]
    }
   ],
   "source": [
    "print(check_duplicates(['apple', 'orange', 'banana', 'apple']))"
   ]
  },
  {
   "cell_type": "code",
   "execution_count": 44,
   "id": "80366ac6",
   "metadata": {},
   "outputs": [],
   "source": [
    "def check_duplicates_rtrn(lst_strings):\n",
    "    # Counter({'apple': 2, 'orange': 1, 'banana': 1})) below returns count of each list item\n",
    "    counter_obj = collections.Counter(lst_strings)\n",
    "    #  dict_items([('apple', 2), ('orange', 1), ('banana', 1)]) - counter_obj.items() return\n",
    "    counter_obj_repeating = [item for item, count in counter_obj.items() if count > 1 ]\n",
    "    return counter_obj_repeating if len(counter_obj_repeating) >= 1 else 'no duplicates'"
   ]
  },
  {
   "cell_type": "code",
   "execution_count": 45,
   "id": "d35df020",
   "metadata": {},
   "outputs": [
    {
     "name": "stdout",
     "output_type": "stream",
     "text": [
      "['apple']\n"
     ]
    }
   ],
   "source": [
    "print(check_duplicates_rtrn(['apple', 'orange', 'banana', 'apple']))"
   ]
  },
  {
   "cell_type": "code",
   "execution_count": 46,
   "id": "7cbe6234",
   "metadata": {},
   "outputs": [
    {
     "name": "stdout",
     "output_type": "stream",
     "text": [
      "no duplicates\n"
     ]
    }
   ],
   "source": [
    "print(check_duplicates_rtrn(['Yoda', 'Moses', 'Joshua', 'Mark']))"
   ]
  },
  {
   "cell_type": "markdown",
   "id": "952ab4c3",
   "metadata": {},
   "source": [
    "### Day 3 : Register Check\n",
    "* Write a function called reigster_check that checks how many students are in school. The function takes a dictionary as a parameter. If the student is in school, the dictionary says \"yes\". If the student is not in school, the dictionary says \"no\".\n",
    "* Your function should return the number of student in school. Use the dictionary below. \n",
    "    * Your function should return 3\n",
    "    * Provided dictionary example\n",
    "```python\n",
    "register = {'Michael' : 'yes', 'John': 'no', 'Peter':'yes', 'Mary':'yes'}\n",
    "```"
   ]
  },
  {
   "cell_type": "code",
   "execution_count": 14,
   "id": "63472bae",
   "metadata": {},
   "outputs": [],
   "source": [
    "def register_check(sample_dict):\n",
    "    dict_standardized_values = len([item.lower() for item in sample_dict.values() if item == 'yes'])\n",
    "    return dict_standardized_values"
   ]
  },
  {
   "cell_type": "code",
   "execution_count": 15,
   "id": "30892150",
   "metadata": {},
   "outputs": [
    {
     "name": "stdout",
     "output_type": "stream",
     "text": [
      "3\n"
     ]
    }
   ],
   "source": [
    "print(register_check({'Michael' : 'yes', 'John': 'no', 'Peter':'yes', 'Mary':'yes'}))"
   ]
  },
  {
   "cell_type": "markdown",
   "id": "f2b60600",
   "metadata": {},
   "source": [
    "### Bonus (Day3) : Lowercase Names\n",
    "* You are given a list of names above. This list is made up of names of lowercase and uppercase letters. Your task is to write a code that will return a tuple of all the names in the list that have only lowercase letter. Your tuple should have names sorted alphabetically in descending order\n",
    "```python\n",
    "names = [\"kerry\", \"dickson\", \"John\", \"Mary\", \n",
    "         \"carol\", \"Rose\", \"adam\"]\n",
    "## return\n",
    "('kerry', 'dickson', 'carol', 'adam')\n",
    "\n",
    "```"
   ]
  },
  {
   "cell_type": "code",
   "execution_count": 44,
   "id": "8bc9013d",
   "metadata": {},
   "outputs": [
    {
     "name": "stdout",
     "output_type": "stream",
     "text": [
      "['zane', 'kerry', 'dickson', 'carol', 'adam']\n"
     ]
    }
   ],
   "source": [
    "def lower_list_return(sample_list):\n",
    "    lower_names = []\n",
    "    for name in sample_list:\n",
    "        lower_loop_check = len(name)\n",
    "        counter = 0\n",
    "        for letter in name:\n",
    "            if letter.islower() != True:\n",
    "                continue\n",
    "            else:\n",
    "                counter += 1\n",
    "        if counter == lower_loop_check:\n",
    "            lower_names.append(name)\n",
    "    return sorted(lower_names, reverse=True) # quick way to reverse\n",
    "\n",
    "print(lower_list_return([\"kerry\", \"dickson\", \"zane\", \"John\", \"Mary\", \"carol\", \"Rose\", \"adam\"]))"
   ]
  },
  {
   "cell_type": "markdown",
   "id": "98a8a696",
   "metadata": {},
   "source": [
    "* Quicker way below"
   ]
  },
  {
   "cell_type": "code",
   "execution_count": 46,
   "id": "452a02aa",
   "metadata": {},
   "outputs": [
    {
     "name": "stdout",
     "output_type": "stream",
     "text": [
      "['zane', 'kerry', 'dickson', 'carol', 'adam']\n"
     ]
    }
   ],
   "source": [
    "def lower_list_take_two(sample_list):\n",
    "    for name in sorted(sample_list, reverse=True):\n",
    "        lower_case_names = []\n",
    "        if name.islower(): # convenient way to check if all values in the string is lower\n",
    "            lower_case_names.append(name)\n",
    "        return lower_case_names\n",
    "\n",
    "print(lower_list_return([\"kerry\", \"dickson\", \"zane\", \"John\", \"Mary\", \"carol\", \"Rose\", \"adam\"]))"
   ]
  },
  {
   "cell_type": "code",
   "execution_count": 17,
   "id": "a0bfc0d5",
   "metadata": {},
   "outputs": [
    {
     "data": {
      "text/plain": [
       "[[0, 1, 2, 3, 4],\n",
       " [0, 1, 2, 3, 4],\n",
       " [0, 1, 2, 3, 4],\n",
       " [0, 1, 2, 3, 4],\n",
       " [0, 1, 2, 3, 4]]"
      ]
     },
     "execution_count": 17,
     "metadata": {},
     "output_type": "execute_result"
    }
   ],
   "source": [
    "# Nested List Comprehension\n",
    "[[j for j in range(5)] for i in range(5)]"
   ]
  },
  {
   "cell_type": "code",
   "execution_count": 26,
   "id": "61c8c9f6",
   "metadata": {},
   "outputs": [
    {
     "data": {
      "text/plain": [
       "['Venus', 'Earth', 'Mars', 'Pluto']"
      ]
     },
     "execution_count": 26,
     "metadata": {},
     "output_type": "execute_result"
    }
   ],
   "source": [
    "# 2-D List of planets\n",
    "planets = [['Mercury', 'Venus', 'Earth'], ['Mars', 'Jupiter', 'Saturn'], ['Uranus', 'Neptune', 'Pluto']]\n",
    "  \n",
    "# Nested List comprehension with an if condition\n",
    "flatten_planets = [planet for sublist in planets for planet in sublist if len(planet) < 6]\n",
    "flatten_planets"
   ]
  },
  {
   "cell_type": "markdown",
   "id": "0a0cf39e",
   "metadata": {},
   "source": [
    "### Day 4 : Only floats\n",
    "Write a function called only_floats, which takes two parameters `a` and `b` and returns 2 if both arguments are floats, returns 1 if only one argument is float, and 0 if neighter is a float\n",
    "* (12.1, 23) == 1"
   ]
  },
  {
   "cell_type": "code",
   "execution_count": 55,
   "id": "22f0074f",
   "metadata": {},
   "outputs": [
    {
     "name": "stdout",
     "output_type": "stream",
     "text": [
      "1\n",
      "2\n",
      "0\n"
     ]
    }
   ],
   "source": [
    "def only_floats(a, b):\n",
    "    # isinstance method takes argument then type check\n",
    "    return len([x for x in [a, b] if isinstance(x, float)])\n",
    "\n",
    "print(only_floats(12.1,23))\n",
    "print(only_floats(12.1, 12.2))\n",
    "print(only_floats(12, 11))"
   ]
  },
  {
   "cell_type": "markdown",
   "id": "96e5faf3",
   "metadata": {},
   "source": [
    "#### Extra Challenge : Inde of the Longest Word\n",
    "Write a function called word_index that takes one argument, `a list of strings`, and returns the index of the longest word in the list. If there is no longest word (all strings of same length), the function should return zero.\n",
    "```python\n",
    "words1 = ['Hate', 'remorse', 'vengeance'] # would return 2 or the position of vengeance\n",
    "```"
   ]
  },
  {
   "cell_type": "code",
   "execution_count": 73,
   "id": "a1ac9eea",
   "metadata": {},
   "outputs": [],
   "source": [
    "def word_index(list_o_strings):\n",
    "    longest_first = sorted(list_o_strings, key=len, reverse=True)\n",
    "    return longest_first[0] if longest_first[0] > longest_first[1] else 0\n",
    "    # # sorted used the key of len to order in ascending lowest to highest, reverse argument flips, then just grab first index"
   ]
  },
  {
   "cell_type": "code",
   "execution_count": 74,
   "id": "484e0504",
   "metadata": {},
   "outputs": [
    {
     "data": {
      "text/plain": [
       "'vengeance'"
      ]
     },
     "execution_count": 74,
     "metadata": {},
     "output_type": "execute_result"
    }
   ],
   "source": [
    "word_index(['Hate', 'remorse', 'vengeance'])"
   ]
  },
  {
   "cell_type": "code",
   "execution_count": 75,
   "id": "7f74cb46",
   "metadata": {},
   "outputs": [
    {
     "data": {
      "text/plain": [
       "0"
      ]
     },
     "execution_count": 75,
     "metadata": {},
     "output_type": "execute_result"
    }
   ],
   "source": [
    "word_index(['six', 'two', 'one'])"
   ]
  },
  {
   "cell_type": "code",
   "execution_count": 85,
   "id": "1f8a6f19",
   "metadata": {},
   "outputs": [
    {
     "data": {
      "text/plain": [
       "['Country',\n",
       " '2006',\n",
       " '2007',\n",
       " '2008',\n",
       " '2009',\n",
       " '2010',\n",
       " '2011',\n",
       " '2012',\n",
       " '2013',\n",
       " '2014',\n",
       " '2015']"
      ]
     },
     "execution_count": 85,
     "metadata": {},
     "output_type": "execute_result"
    }
   ],
   "source": [
    "years = [str(x) for x in range(2006, 2016)]\n",
    "years.insert(0, 'Country')\n",
    "years"
   ]
  },
  {
   "cell_type": "markdown",
   "id": "830007c3",
   "metadata": {},
   "source": [
    "### Day 5 `My Discount`\n",
    "Create a function called my_discount. The function takes no arguments but asks the user to input the price and the discount (percentage) of the product. Once the user inputs the price and discount, it calculates the price after the discount. The function should return the price after the discount. \n",
    "* For example, if the user enters 150 as the price and 15% as the discount, your function should return 127.5.\n"
   ]
  },
  {
   "cell_type": "code",
   "execution_count": 88,
   "id": "55e1eb75",
   "metadata": {},
   "outputs": [],
   "source": [
    "def my_discount():\n",
    "    price = float(input(\"What is the price of your item : \"))\n",
    "    discount = float(input(\"What is the discount percentage : \"))\n",
    "    discount_amount = (discount / 100) * price\n",
    "    return price - discount_amount"
   ]
  },
  {
   "cell_type": "code",
   "execution_count": 89,
   "id": "6e5ffe5f",
   "metadata": {},
   "outputs": [
    {
     "name": "stdout",
     "output_type": "stream",
     "text": [
      "What is the price of your item : 150\n",
      "What is the discount percentage : 15\n",
      "127.5\n"
     ]
    }
   ],
   "source": [
    "print(my_discount())"
   ]
  },
  {
   "cell_type": "markdown",
   "id": "f0d26350",
   "metadata": {},
   "source": [
    "#### Extra Challenge : Tuploe of Student Sex\n",
    "You work for a school, and your boss wants to know how many female and male students are enrolled in the school. The school has saved the students on a list. \n",
    "* Your task is to write a code that will count how many males and females are in the list.\n",
    "* Sample list \n",
    "```python \n",
    "students = ['Male', 'Female', 'female', 'male', 'male', 'male', 'female', 'male', 'Female', 'Male', 'Female', 'Male', 'female']\n",
    "```\n",
    "* Your code should return a list of tuples. The list above should return \n",
    "```python\n",
    "[(‘Male’,7), (‘female’,6)]\n",
    "```\n"
   ]
  },
  {
   "cell_type": "code",
   "execution_count": 95,
   "id": "70839ab8",
   "metadata": {},
   "outputs": [
    {
     "name": "stdout",
     "output_type": "stream",
     "text": [
      "{'male': 7, 'female': 6}\n"
     ]
    },
    {
     "data": {
      "text/plain": [
       "[('male', 7), ('female', 6)]"
      ]
     },
     "execution_count": 95,
     "metadata": {},
     "output_type": "execute_result"
    }
   ],
   "source": [
    "def sex_count(sample_list):\n",
    "    import collections\n",
    "    # we'll standardize to lower\n",
    "    sample_count = dict(collections.Counter([x.lower() for x in sample_list]))\n",
    "    print(sample_count)\n",
    "    return list(sample_count.items()) # items call on dictionary packages key/value into dict_list of tuples\n",
    "\n",
    "sex_count(['Male', 'Female', 'female', 'male', 'male', 'male', 'female', 'male', 'Female', 'Male', 'Female', 'Male', 'female'])"
   ]
  },
  {
   "cell_type": "markdown",
   "id": "5c894629",
   "metadata": {},
   "source": [
    "### Day 6 : `User Name Generator`\n",
    "Write a function called `user_name` that generates a username from the user’s email. The code should ask the user to input an email, and the code should return everything before the @ sign as their user name. For example, if someone enters ben@gmail.com, the code should return ben as their user name."
   ]
  },
  {
   "cell_type": "code",
   "execution_count": 97,
   "id": "39335009",
   "metadata": {},
   "outputs": [
    {
     "name": "stdout",
     "output_type": "stream",
     "text": [
      "Please enter your user email : crages@yahoo.com\n"
     ]
    },
    {
     "data": {
      "text/plain": [
       "('crages@yahoo.com', 'crages')"
      ]
     },
     "execution_count": 97,
     "metadata": {},
     "output_type": "execute_result"
    }
   ],
   "source": [
    "def user_name():\n",
    "    user_email = str(input(\"Please enter your user email : \"))\n",
    "    return user_email, user_email[:user_email.index('@')]\n",
    "\n",
    "user_name()"
   ]
  },
  {
   "cell_type": "markdown",
   "id": "6c303df8",
   "metadata": {},
   "source": [
    "`Extra Challenge`: Zero Both Ends Write a function called zeroed code that takes a list of numbers as an argument. The code should zero (0) the first and last number in the list. \n",
    "* For example, if the input is [2, 5, 7, 8, 9], your code should return [0, 5, 7, 8, 0].\n",
    "\n"
   ]
  },
  {
   "cell_type": "code",
   "execution_count": 99,
   "id": "197abc07",
   "metadata": {},
   "outputs": [
    {
     "data": {
      "text/plain": [
       "[0, 5, 7, 8, 0]"
      ]
     },
     "execution_count": 99,
     "metadata": {},
     "output_type": "execute_result"
    }
   ],
   "source": [
    "def zeroed(sample_list):\n",
    "    if len(sample_list) <= 2:\n",
    "        return [0, 0] # simply see if the code is less than or equal to two items which would just set the list to two zeros\n",
    "    else:\n",
    "        mutated_list = sample_list[1:-1] # will subset and omit the first and last item of a list\n",
    "        mutated_list.insert(0, 0) # add zero at beginning\n",
    "        mutated_list.append(0) # add zero at end\n",
    "        return mutated_list\n",
    "    \n",
    "zeroed([2,5,7,8,9])"
   ]
  },
  {
   "cell_type": "markdown",
   "id": "547c1eb0",
   "metadata": {},
   "source": [
    "### Day 7 : `A String Range`\n",
    "Write a function called `string_range` that takes a single number and returns a string of its range. The string characters should be separated by dots(.). For example, if you pass 6 as an argument, your function should return \"0.1.2.3.4.5.\"\n"
   ]
  },
  {
   "cell_type": "code",
   "execution_count": 6,
   "id": "ad6dec49",
   "metadata": {},
   "outputs": [
    {
     "data": {
      "text/plain": [
       "'0.1.2.3.4.5'"
      ]
     },
     "execution_count": 6,
     "metadata": {},
     "output_type": "execute_result"
    }
   ],
   "source": [
    "def string_range(single_number):\n",
    "    single_number_range = list(range(single_number))\n",
    "    return \".\".join([str(x) for x in single_number_range])\n",
    "\n",
    "string_range(6)"
   ]
  },
  {
   "cell_type": "markdown",
   "id": "7dd19d6a",
   "metadata": {},
   "source": [
    "#### Extra Challenge : `Dictionary of Names`\n",
    "You are given a list of names, and you are asked to write a code that returns all the names that start with \"S.\" Your code should return a dictionary of all the names that start with S and how many times they appear in the dictionary. Here is a list below: \n",
    "\n",
    "```python\n",
    "names = [\"Joseph\",\"Nathan\", \"Sasha\", \"Kelly\",\"Muhammad\", \"Jabulani\", \"Sera\", \"Patel\", \"Sera\"]\n",
    "```\n",
    "\n"
   ]
  },
  {
   "cell_type": "code",
   "execution_count": 10,
   "id": "2b5e6ddf",
   "metadata": {},
   "outputs": [
    {
     "data": {
      "text/plain": [
       "{'Sasha': 1, 'Sera': 2}"
      ]
     },
     "execution_count": 10,
     "metadata": {},
     "output_type": "execute_result"
    }
   ],
   "source": [
    "def dict_of_s_names_counts(smple_list):\n",
    "    import collections\n",
    "    s_names_list = [x for x in smple_list if x[0].lower() == 's']\n",
    "    return dict(collections.Counter(s_names_list))\n",
    "\n",
    "dict_of_s_names_counts([\"Joseph\",\"Nathan\", \"Sasha\", \"Kelly\",\"Muhammad\", \"Jabulani\", \"Sera\", \"Patel\", \"Sera\"])"
   ]
  },
  {
   "cell_type": "code",
   "execution_count": null,
   "id": "d5ae26fc",
   "metadata": {},
   "outputs": [],
   "source": []
  }
 ],
 "metadata": {
  "kernelspec": {
   "display_name": "Python 3 (ipykernel)",
   "language": "python",
   "name": "python3"
  },
  "language_info": {
   "codemirror_mode": {
    "name": "ipython",
    "version": 3
   },
   "file_extension": ".py",
   "mimetype": "text/x-python",
   "name": "python",
   "nbconvert_exporter": "python",
   "pygments_lexer": "ipython3",
   "version": "3.9.12"
  }
 },
 "nbformat": 4,
 "nbformat_minor": 5
}
