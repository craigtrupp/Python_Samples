{
 "cells": [
  {
   "cell_type": "markdown",
   "id": "091827c7",
   "metadata": {},
   "source": [
    "### 50 Days of Python Week 3 (Start At Question 17)"
   ]
  },
  {
   "cell_type": "markdown",
   "id": "1cf164b2",
   "metadata": {},
   "source": [
    "### **Day 17: User Name Generator**\n",
    "* Write a function called `user_name`, that creates a username for the user. \n",
    "* The function should ask a user to input their name. \n",
    "* The function should then reverse the name and attach a randomly issued number between 0 and 9 at the end of the name. \n",
    "* The function should return the username.\n",
    "    - Ex call : user_name('craig') == 'giarc7'"
   ]
  },
  {
   "cell_type": "code",
   "execution_count": 1,
   "id": "d534e0b6",
   "metadata": {},
   "outputs": [
    {
     "name": "stdout",
     "output_type": "stream",
     "text": [
      "Please enter your desired username : Darthvader_249\n"
     ]
    },
    {
     "data": {
      "text/plain": [
       "'Here is your new username : 942_redavhtrad0'"
      ]
     },
     "execution_count": 1,
     "metadata": {},
     "output_type": "execute_result"
    }
   ],
   "source": [
    "def user_name():\n",
    "    import random\n",
    "    random_number_between_0_10 = random.choice(list(range(0, 10)))\n",
    "    user_name = input('Please enter your desired username : ').strip().lower()\n",
    "    return f'Here is your new username : {user_name[::-1]+str(random_number_between_0_10)}'\n",
    "\n",
    "\n",
    "user_name()"
   ]
  },
  {
   "cell_type": "markdown",
   "id": "39ac41c8",
   "metadata": {},
   "source": [
    "#### `Extra Challenge`  - Sort in Place!\n",
    "Sort by Length names = [ \"Peter\", \"Jon\", \"Andrew\"] \n",
    "\n",
    "* Write a function called `sort_length` that takes a list of strings as an argument and sorts the strings in ascending order according to their length. \n",
    "* For example, the list above should return: ['Jon', 'Peter', 'Andrew'] Do not use the built-in sort functions."
   ]
  },
  {
   "cell_type": "code",
   "execution_count": 14,
   "id": "d3c2ed2d",
   "metadata": {},
   "outputs": [
    {
     "data": {
      "text/plain": [
       "['Jon', 'Peter', 'Andrew']"
      ]
     },
     "execution_count": 14,
     "metadata": {},
     "output_type": "execute_result"
    }
   ],
   "source": [
    "def sorted_helper(arg_list):\n",
    "    return sorted(arg_list, key=len, reverse=False) \n",
    "\n",
    "sorted_helper(['Peter', 'Jon', 'Andrew'])"
   ]
  },
  {
   "cell_type": "code",
   "execution_count": 15,
   "id": "07ccc390",
   "metadata": {},
   "outputs": [
    {
     "name": "stdout",
     "output_type": "stream",
     "text": [
      "['Jon', 'Peter', 'Andrew', 'Chad'] 0\n",
      "['Jon', 'Peter', 'Chad', 'Andrew'] 2\n",
      "['Jon', 'Chad', 'Peter', 'Andrew'] 1\n",
      "['Jon', 'Chad', 'Peter', 'Andrew']\n"
     ]
    }
   ],
   "source": [
    "def sort_length(arg_list):\n",
    "    # Outer loop\n",
    "    for item in arg_list:\n",
    "        #inner loop to run check against one another\n",
    "        for item_j in range(len(arg_list) - 1):\n",
    "            # see if current item is greater than one greater than it\n",
    "            if len(arg_list[item_j]) > len(arg_list[item_j + 1]):\n",
    "                arg_list[item_j], arg_list[item_j + 1] = arg_list[item_j + 1], arg_list[item_j]\n",
    "                print(arg_list, item_j)\n",
    "    return arg_list\n",
    "        \n",
    "        \n",
    "names = [\"Peter\", \"Jon\", \"Andrew\", \"Chad\"] # Jon, Chad, Peter, Andrew (should be return)\n",
    "print(sort_length(names))   "
   ]
  },
  {
   "cell_type": "markdown",
   "id": "7c24c039",
   "metadata": {},
   "source": [
    "####  **Walkthrough of above**\n",
    "* All evaluations are length of the respective strings\n",
    "* Iterations reference the evaluation\n",
    "\n",
    "1) First Iteration (First Outer Loop Item) - Inner Loop\n",
    "* At inner loop we evaluate first if the 'Peter' > 'Jon', it's true so we set the current index (0) = the second value or one spot ahead\n",
    "* Next we set one index ahead equal to the other value (we can swap values in place here without accidentally getting the wrong item)!\n",
    "    \n",
    "2) Second Iteration (First Outer Loop Item) - Inner Loop\n",
    "* `item_j` is now 1 and we see if 'Peter' > 'Andrew' which is false\n",
    "* Current arr (arg_list) : ['Jon', 'Peter', 'Andrew', 'Chad']\n",
    "    \n",
    "3) Third Iteration - (First Outer Loop Item) - Inner Loop\n",
    "* `item_j` is now 2 and we see if arr[2] == 'Andrew' > arr[3] 'Chad'\n",
    "* Evaluates to True (we swap position)\n",
    "\n",
    "From the first outer loop/inner completion, we changed two positions of item in the list. We can see the output of 0 and 2 above which are the indexes in the original list : [\"Peter\", \"Jon\", \"Andrew\", \"Chad\"] which are the two index areas that the value is bigger than one index area to the right\n",
    "\n",
    "<br>\n",
    "\n",
    "##### **Next Outer Loop Iteration - Second**\n",
    "\n",
    "- We've looped as many positions in the range as allowed for possible range(3) - inner loop length\n",
    "- Now we'll move to the outer loop and the next item, keep in mind the list has been mutated in place!\n",
    "- Entering the Second iteration of the outer loop would have us with a list of : ['Jon', 'Peter', 'Chad', 'Andrew']\n",
    "\n",
    "4) First Iteration (Second Outer Loop Item == 'Peter')\n",
    "* The outer loop isn't super important but just performs the recursive search again for if there are items of greater length more than 1 position apart in the changing list\n",
    "* `item_j` is 0 as we start the second looping of the item\n",
    "* Jon >! Peter so we move to the next range value for item_j or 1\n",
    "* **1** in this iteration is 'Peter' who is > 'Chad', thus we swap\n",
    "* Now with the last range item (2 for item_j) we see if 'Peter' > 'Andrew'\n",
    "* This is false so we exit to the outer loop as we have exhausted the range length of the inner loop\n",
    "\n",
    "<br>\n",
    "\n",
    "#### **Next Outer Loop Iteration - Third**\n",
    "\n",
    "* We have now looped through two items in the outer loop and move to the third item\n",
    "* Our list is ['Jon', 'Chad', 'Peter', 'Andrew'] : So we have already sorted everything but the iterations continue as 'Chad' that was moved in the last grouping of iterations could still be less than 'Jon' in theory as they have yet to be compared against one another with the list mutation (they have never been next to each other to commpare in our inner loop logic)\n",
    "* Now further items are moved and we exit to our last iteration of the outer loop\n",
    "\n",
    "<br>\n",
    "\n",
    "#### **Next Outer loop Iteration - Fourth**\n",
    "\n",
    "* In our last sequencing of checks we evaluate to false for each inner check and as that is the last item in the list, we exit and return the arr that has been sorted in place"
   ]
  },
  {
   "cell_type": "markdown",
   "id": "653f13db",
   "metadata": {},
   "source": [
    "### **Day 18: Any Number**\n",
    "* Write a function called `any_number` that can receive any number of arguments (integers and floats) and return the average of those integers. \n",
    "* If you pass 12, 90, 12, 34 as arguments, your function should return 37.0 as the average. \n",
    "* If you pass 12 and 90 your function should return 51.0 as the average."
   ]
  },
  {
   "cell_type": "code",
   "execution_count": 16,
   "id": "23b997fa",
   "metadata": {},
   "outputs": [
    {
     "name": "stdout",
     "output_type": "stream",
     "text": [
      "[12, 90, 12, 34] ([12, 90, 12, 34],)\n"
     ]
    },
    {
     "data": {
      "text/plain": [
       "([12, 90, 12, 34], [[12, 90, 12, 34]])"
      ]
     },
     "execution_count": 16,
     "metadata": {},
     "output_type": "execute_result"
    }
   ],
   "source": [
    "def any_number_unpacking(*args):\n",
    "    print(*args, args)\n",
    "    arg_unpacked = list(*args) # unpack and flatten \n",
    "    arg_w_o_unpacking = list(args) # we just mutate the parent type here from tuple to list (2D array)\n",
    "    # Return shows that we can unpack the args to create a 1D list or transform tuple/list item (how args is to 2D list)\n",
    "    return arg_unpacked, arg_w_o_unpacking\n",
    "\n",
    "any_number_unpacking([12,90,12,34])"
   ]
  },
  {
   "cell_type": "code",
   "execution_count": 17,
   "id": "ec7b91a4",
   "metadata": {},
   "outputs": [
    {
     "name": "stdout",
     "output_type": "stream",
     "text": [
      "37.0\n",
      "51.0\n"
     ]
    }
   ],
   "source": [
    "def any_number(*args):\n",
    "    flattened_list = list(*args)\n",
    "    return sum(flattened_list) / len(flattened_list)\n",
    "\n",
    "print(any_number([12,90,12,34]))\n",
    "print(any_number([12,90]))"
   ]
  },
  {
   "cell_type": "markdown",
   "id": "b8303bc8",
   "metadata": {},
   "source": [
    "#### `Extra Challenge: Add & Reverse`\n",
    "* Write a function called `add_reverse`. \n",
    "* This function takes two lists as argument, and adds each corresponding number, and reverses the outcome. \n",
    "* For example, if you pass [10, 12, 34] and [12, 56, 78]. \n",
    "    - Your code should return [112, 22, 68]."
   ]
  },
  {
   "cell_type": "code",
   "execution_count": 18,
   "id": "212a8784",
   "metadata": {},
   "outputs": [
    {
     "name": "stdout",
     "output_type": "stream",
     "text": [
      "0 iteration\n",
      "[22]\n",
      "[22]\n",
      "1 iteration\n",
      "[22, 68]\n",
      "[68, 22]\n",
      "2 iteration\n",
      "[68, 22, 112]\n",
      "[112, 22, 68]\n",
      "[112, 22, 68]\n"
     ]
    }
   ],
   "source": [
    "def add_reverse(n:list, k:list):\n",
    "    return_list = []\n",
    "    if len(n) != len(k):\n",
    "        raise ValueError('List are not of equal size for operations')\n",
    "    else:\n",
    "        for i in range(len(n)):\n",
    "            print(f'{str(i)} iteration')\n",
    "            return_list.append(n[i] + k[i])\n",
    "            print(return_list) # list appended\n",
    "            return_list.reverse()\n",
    "            print(return_list) # list reversed\n",
    "    return return_list\n",
    "\n",
    "\n",
    "print(add_reverse([10,12,34], [12,56,78]))            "
   ]
  },
  {
   "cell_type": "markdown",
   "id": "bc3c4fcd",
   "metadata": {},
   "source": [
    "#### Class Definition\n",
    "* Build a basic cit and compare multiple instances of the base class"
   ]
  },
  {
   "cell_type": "code",
   "execution_count": 19,
   "id": "c628f01b",
   "metadata": {},
   "outputs": [
    {
     "name": "stdout",
     "output_type": "stream",
     "text": [
      "Seoul, South Korea\n",
      "Seoul, South Korea\n",
      "\n"
     ]
    }
   ],
   "source": [
    "# define a basic city class\n",
    "class City:\n",
    "    name = \"\"\n",
    "    country = \"\"\n",
    "    elevation = 0 \n",
    "    population = 0\n",
    "\n",
    "# create a new instance of the City class and\n",
    "# define each attribute\n",
    "city1 = City()\n",
    "city1.name = \"Cusco\"\n",
    "city1.country = \"Peru\"\n",
    "city1.elevation = 3399\n",
    "city1.population = 358052\n",
    "\n",
    "# create a new instance of the City class and\n",
    "# define each attribute\n",
    "city2 = City()\n",
    "city2.name = \"Sofia\"\n",
    "city2.country = \"Bulgaria\"\n",
    "city2.elevation = 2290\n",
    "city2.population = 1241675\n",
    "\n",
    "# create a new instance of the City class and\n",
    "# define each attribute\n",
    "city3 = City()\n",
    "city3.name = \"Seoul\"\n",
    "city3.country = \"South Korea\"\n",
    "city3.elevation = 38\n",
    "city3.population = 9733509\n",
    "\n",
    "def max_elevation_city(min_population):\n",
    "# Initialize the variable that will hold \n",
    "# the information of the city with \n",
    "# the highest elevation \n",
    "    return_city = City()\n",
    "\n",
    "    # Evaluate the 1st instance to meet the requirements:\n",
    "    # does city #1 have at least min_population and\n",
    "    # is its elevation the highest evaluated so far?\n",
    "    if city1.population >= min_population and city1.elevation > city2.elevation:\n",
    "        return_city = city1\n",
    "    # Evaluate the 2nd instance to meet the requirements:\n",
    "    # does city #2 have at least min_population and\n",
    "    # is its elevation the highest evaluated so far?\n",
    "    if city2.population >= min_population:\n",
    "        return_city = city2\n",
    "    # Evaluate the 3rd instance to meet the requirements:\n",
    "    # does city #3 have at least min_population and\n",
    "    # is its elevation the highest evaluated so far?\n",
    "    if city3.population >= min_population:\n",
    "        return_city = city3\n",
    "\n",
    "    #Format the return string\n",
    "    if return_city.name:\n",
    "        return f'{return_city.name}, {return_city.country}'\n",
    "    else:\n",
    "        return \"\"\n",
    "\n",
    "print(max_elevation_city(100000)) # Should print \"Cusco, Peru\"\n",
    "print(max_elevation_city(1000000)) # Should print \"Sofia, Bulgaria\"\n",
    "print(max_elevation_city(10000000)) # Should print \"\""
   ]
  },
  {
   "cell_type": "markdown",
   "id": "f03758d4",
   "metadata": {},
   "source": [
    "### **Day 19: Words & Elements**\n",
    "* Write two functions. \n",
    "* The first function is called `count_words` which takes a string of words and counts how many words are in the string. \n",
    "* The second function, called `count_elements` takes a string of words and counts how many elements are in the string. \n",
    "    * Do not count the whitespaces. \n",
    "\n",
    "* The first function will return the number of words in a string, and the second one will return the number of elements (less whitespace). \n",
    "    * If you pass \"I love learning,\" the count_words function should return 3 words and count_elements should return 13 elements.\n",
    "\n"
   ]
  },
  {
   "cell_type": "code",
   "execution_count": 20,
   "id": "670fec60",
   "metadata": {},
   "outputs": [
    {
     "name": "stdout",
     "output_type": "stream",
     "text": [
      "['I', 'love', 'learning'] ('Ilovelearning', 13)\n"
     ]
    }
   ],
   "source": [
    "def count_words(str_words):\n",
    "    word_build = ''\n",
    "    words = []\n",
    "    for i in range(len(str_words)):\n",
    "        if str_words[i].isalpha():\n",
    "            word_build += str_words[i]\n",
    "        else:\n",
    "            words.append(word_build)\n",
    "            word_build = ''\n",
    "    return words\n",
    "\n",
    "def count_elements(word_arr):\n",
    "    return (''.join(word_arr), len(''.join(word_arr)))\n",
    "\n",
    "words = count_words('I love learning,')\n",
    "elements = count_elements(words)\n",
    "print(words, elements)"
   ]
  },
  {
   "cell_type": "markdown",
   "id": "a30f876d",
   "metadata": {},
   "source": [
    "### **Day 20: Capitalize First Letter**\n",
    "* Write a function called `capitalize`. \n",
    "* This function takes a string as an argument and capitalizes the first letter of each word"
   ]
  },
  {
   "cell_type": "code",
   "execution_count": 22,
   "id": "4d7c2b4c",
   "metadata": {},
   "outputs": [
    {
     "name": "stdout",
     "output_type": "stream",
     "text": [
      "I LikeLearning\n",
      "I Like Learning\n",
      "(['I', 'Like', 'Learning'], [(1, ' '), (6, ' ')], 'ILikeLearning', 'I Like Learning')\n",
      "I LikeLearning\n",
      "I Like,Learning\n",
      "I Like, Learning\n",
      "I Like, Learning!\n",
      "(['I', 'Like', 'Learning'], [(1, ' '), (6, ','), (7, ' '), (16, '!')], 'ILikeLearning', 'I Like, Learning!')\n",
      "I LikeLearning\n",
      "I Like Learning\n",
      "I Like Learning.\n",
      "(['I', 'Like', 'Learning'], [(1, ' '), (6, ' '), (15, '.')], 'ILikeLearning', 'I Like Learning.')\n",
      "I LikeLearning\n",
      "I Like Learning\n",
      "I Like Learning?\n",
      "(['I', 'Like', 'Learning'], [(1, ' '), (6, ' '), (15, '?')], 'ILikeLearning', 'I Like Learning?')\n"
     ]
    }
   ],
   "source": [
    "def capitalize(str_words):\n",
    "    words = []\n",
    "    spec_characters = []\n",
    "    word_build = ''\n",
    "    for char in range(len(str_words)):\n",
    "        #print(str_words[char], char, len(str_words))\n",
    "        if str_words[char].isalpha():\n",
    "            word_build += str_words[char]\n",
    "            # see if current characters is last characters\n",
    "            if char + 1 == len(str_words):\n",
    "                words.append(word_build)\n",
    "        elif str_words[char].isalpha() != True and len(word_build) >= 1:\n",
    "            words.append(word_build)\n",
    "            word_build = ''\n",
    "            spec_characters.append((char, str_words[char]))\n",
    "        # catch spaces or other characters without a word formed\n",
    "        elif str_words[char].isalpha() != True and len(word_build) == 0:\n",
    "            spec_characters.append((char, str_words[char]))\n",
    "\n",
    "    # At this point the two lists have the words and special characters indexed\n",
    "    words = [x[0].upper() + x[1:] for x in words] # Can't mutate in string so will build new one to capitalize each first letter\n",
    "    sc_indexes = [x[0] for x in spec_characters]\n",
    "    sc_chars_copy = spec_characters.copy()\n",
    "    # Need to build the special characters back into the return string\n",
    "    word_joined = ''.join(words)\n",
    "    word_w_sc = word_joined\n",
    "    # Loop through special characters and mutate string in place for index in special characters position to match\n",
    "    for spec_char_tup in spec_characters:\n",
    "        end_concat = word_w_sc[spec_char_tup[0]:]\n",
    "        pre_concat = word_w_sc[:spec_char_tup[0]]\n",
    "        mutating_string_w_sc = pre_concat + spec_char_tup[1] + end_concat\n",
    "        print(mutating_string_w_sc)\n",
    "        word_w_sc = mutating_string_w_sc\n",
    "    \n",
    "    return words, spec_characters, word_joined, word_w_sc\n",
    "        \n",
    "print(capitalize('i like learning'))\n",
    "print(capitalize('i like, learning!'))\n",
    "print(capitalize('I like Learning.'))\n",
    "print(capitalize('i Like learning?'))"
   ]
  },
  {
   "cell_type": "markdown",
   "id": "1a2291fe",
   "metadata": {},
   "source": [
    "* So no way in hell the above is a efficient way to perform but is instructive on how you can capitalize a word in each sentence while maintaining any characters in the sentence (within the sentence of a closing punctuation) to not change the sentence\n",
    "* Likely a RegEx type operation to isolate different parts of the sentence and simply capitalize all found words and join would be a better path"
   ]
  },
  {
   "cell_type": "markdown",
   "id": "5d31524f",
   "metadata": {},
   "source": [
    "#### `Extra Challenge: Reversed List`\n",
    "You are given a string of words. Some of the words in the string contain uppercase letters. \n",
    "* Write a code that will return all the words that have an uppercase letter. \n",
    "* Your code should return a list of the words. \n",
    "* Each word in the list should be reversed. \n",
    "* Here is how your output should look:['gninrAel', 'tUb', 'uoY', 'yLppa', 'flesRuoy', 'eVeihca']\n",
    "\n",
    "```python\n",
    "str1 = 'leArning is hard, bUt if You appLy youRself ' \\\n",
    "       'you can achieVe success'\n",
    "```\n"
   ]
  },
  {
   "cell_type": "code",
   "execution_count": 23,
   "id": "13757176",
   "metadata": {},
   "outputs": [
    {
     "name": "stdout",
     "output_type": "stream",
     "text": [
      "leArning is hard, bUt if You appLy youRself you can achieVe success\n",
      "['gninrAel', 'tUb', 'uoY', 'yLppa', 'flesRuoy', 'eVeihca']\n"
     ]
    }
   ],
   "source": [
    "# let's split on words\n",
    "def reverse_capital_words(some_str):\n",
    "    import re\n",
    "    # isolate strings for alpha only to avoid any special characters in the string\n",
    "    words = re.split('[^a-zA-Z]', some_str) # ['leArning','is','hard','', 'bUt','if', 'You' .. etc]\n",
    "    # print(words) \n",
    "    # clear out non words (empty index spots) and isolate words with a capital letter \n",
    "    words_cap = [word for word in words if len(word) >= 1 and bool(re.search('([A-Z])', word))]\n",
    "    # print(words_cap)\n",
    "    words_cap_reversed = [word[::-1] for word in words_cap]\n",
    "    print(words_cap_reversed)\n",
    "    return words_cap_reversed\n",
    "    \n",
    "    \n",
    "str1 = 'leArning is hard, bUt if You appLy youRself ' \\\n",
    "       'you can achieVe success'\n",
    "print(str1)\n",
    "function_return = reverse_capital_words(str1)\n",
    "assert ['gninrAel', 'tUb', 'uoY', 'yLppa', 'flesRuoy', 'eVeihca'] == function_return"
   ]
  },
  {
   "cell_type": "code",
   "execution_count": 24,
   "id": "e6c3ae81",
   "metadata": {},
   "outputs": [
    {
     "data": {
      "text/plain": [
       "True"
      ]
     },
     "execution_count": 24,
     "metadata": {},
     "output_type": "execute_result"
    }
   ],
   "source": [
    "import re\n",
    "word = 'abcdD'\n",
    "bool(re.search('([A-Z])', word))"
   ]
  },
  {
   "cell_type": "markdown",
   "id": "0f121a69",
   "metadata": {},
   "source": [
    "### **Day 21: List of Tuples**\n",
    "* Write a function called `make_tuples` that takes two equal lists and combines them into a list of tuples. \n",
    "* For example, if list a is [1,2,3,4] and list b is [5,6,7,8], your function should return [(1,5), (2,6), (3,7), (4,8)].\n"
   ]
  },
  {
   "cell_type": "code",
   "execution_count": 25,
   "id": "7b53fae1",
   "metadata": {},
   "outputs": [
    {
     "data": {
      "text/plain": [
       "[(1, 5), (2, 6), (3, 7), (4, 8)]"
      ]
     },
     "execution_count": 25,
     "metadata": {},
     "output_type": "execute_result"
    }
   ],
   "source": [
    "def make_tuples(lst_a, lst_b):\n",
    "    return list(zip(lst_a, lst_b))\n",
    "\n",
    "lst_tuples_rt = make_tuples([1,2,3,4], [5,6,7,8])\n",
    "lst_tuples_rt"
   ]
  },
  {
   "cell_type": "markdown",
   "id": "a83d2ca8",
   "metadata": {},
   "source": [
    "#### `Extra Challenge: Even Number or Average`\n",
    "* Write a function called `even_or_average` that asks a user to input five numbers. \n",
    "* Once the user is done, the code should return the `largest even number` in the inputted numbers. \n",
    "* If there is no even number in the list, the code should return the average of all the five numbers."
   ]
  },
  {
   "cell_type": "code",
   "execution_count": 29,
   "id": "6b812dae",
   "metadata": {},
   "outputs": [
    {
     "name": "stdout",
     "output_type": "stream",
     "text": [
      "Please see the user prompt below for integer entry!\n",
      "Please enter a valid whole number : 3\n",
      "Please enter a valid whole number : 9\n",
      "Please enter a valid whole number : craig\n",
      "Please enter a valid number\n",
      "Please enter a valid whole number : 7\n",
      "Please enter a valid whole number : 13\n",
      "Please enter a valid whole number : 11\n"
     ]
    },
    {
     "data": {
      "text/plain": [
       "8.6"
      ]
     },
     "execution_count": 29,
     "metadata": {},
     "output_type": "execute_result"
    }
   ],
   "source": [
    "def even_or_average():\n",
    "    user_input = []\n",
    "    print('Please see the user prompt below for integer entry!')\n",
    "    # First while block captures here 5 valid integer number then breaks out of the loop\n",
    "    while len(user_input) < 5:\n",
    "        try:\n",
    "            user_number = int(input(\"Please enter a valid whole number : \"))\n",
    "            user_input.append(user_number)\n",
    "        except ValueError:\n",
    "            print('Please enter a valid number')\n",
    "            continue\n",
    "    even_numbers = [x for x in user_input if x > 1 and x % 2 == 0]\n",
    "    if len(even_numbers) >= 1:\n",
    "        return max(even_numbers)\n",
    "    else:\n",
    "        return sum(user_input)/len(user_input)\n",
    "\n",
    "func_ = even_or_average\n",
    "func_()"
   ]
  },
  {
   "cell_type": "code",
   "execution_count": 30,
   "id": "a3835916",
   "metadata": {},
   "outputs": [
    {
     "name": "stdout",
     "output_type": "stream",
     "text": [
      "Please see the user prompt below for integer entry!\n",
      "Please enter a valid whole number : 14\n",
      "Please enter a valid whole number : 12\n",
      "Please enter a valid whole number : 10\n",
      "Please enter a valid whole number : 24\n",
      "Please enter a valid whole number : 9\n"
     ]
    },
    {
     "data": {
      "text/plain": [
       "24"
      ]
     },
     "execution_count": 30,
     "metadata": {},
     "output_type": "execute_result"
    }
   ],
   "source": [
    "func2_ = even_or_average\n",
    "func2_()"
   ]
  },
  {
   "cell_type": "markdown",
   "id": "50c65b10",
   "metadata": {},
   "source": [
    "* This `try/except` block validates a valid integer and tries until the length equals 5 (will not empty list contents if invalid input received in between valid inputs being captured in try block\n",
    "* Check user input for even numbers and declare return for even_largest return or average of summed up odd integer input list"
   ]
  },
  {
   "cell_type": "markdown",
   "id": "6d1ab40d",
   "metadata": {},
   "source": [
    "### **Day 22: Add Under_Score**\n",
    "* Create three functions. \n",
    "* The first, called `add_hash` takes a string and adds a hash (#) between the words. \n",
    "* The second function, called `add_underscore` removes the hash (#) and replaces it with an underscore (\"_\"). \n",
    "* The third function, called `remove_underscore`, removes the underscore and replaces it with nothing. \n",
    "* If you pass \"Python\" as an argument for the three functions, and you call them at the same time like: \n",
    "```python\n",
    "print(remove_underscore(add_underscore(add_hash('Python')))) # it should return \"Python\".\n",
    "```\n"
   ]
  },
  {
   "cell_type": "code",
   "execution_count": 37,
   "id": "8b70b55f",
   "metadata": {},
   "outputs": [
    {
     "name": "stdout",
     "output_type": "stream",
     "text": [
      "Here is out hashed string : Python#is#a#programming#language,#dude\n",
      "Here is our underscored string : Python_is_a_programming_language,_dude\n",
      "Here is underscored removed : Python is a programming language, dude\n"
     ]
    }
   ],
   "source": [
    "def add_hash(str_arg):\n",
    "    hashed = '#'.join([word for word in str_arg.split()])\n",
    "    print(f'Here is out hashed string : {hashed}')\n",
    "    return hashed\n",
    "\n",
    "def add_underscore(str_arg):\n",
    "    underscored = str_arg.replace('#', '_')\n",
    "    print(f'Here is our underscored string : {underscored}')\n",
    "    return underscored\n",
    "\n",
    "def remove_underscore(str_arg):\n",
    "    no_sc = str_arg.replace('_', ' ')\n",
    "    print(f'Here is underscored removed : {no_sc}')\n",
    "\n",
    "hashed = add_hash('Python is a programming language, dude')\n",
    "scored = add_underscore(hashed)\n",
    "no_under = remove_underscore(scored)"
   ]
  },
  {
   "cell_type": "markdown",
   "id": "c8e621a6",
   "metadata": {},
   "source": [
    "### **Day 23: Simple Calculator**\n",
    "Create a simple calculator. \n",
    "* The calculator should be able to perform basic math operations: `add, subtract, divide, and multiply`. \n",
    "* The calculator should take input from users. \n",
    "* The calculator should be able to handle ZeroDivisionError, NameError, and ValueError.\n"
   ]
  },
  {
   "cell_type": "markdown",
   "id": "1b7b9767",
   "metadata": {},
   "source": [
    "```python\n",
    "def user_calculator():\n",
    "    user_input_completed = False\n",
    "    while user_input_completed != True:\n",
    "        captured_numeric = []\n",
    "        operation = {1: '+', 2:'-', 3:'*', 4:'/', 5:'**'}\n",
    "        def user_int():\n",
    "            try:\n",
    "                user_int_value = float(input('Please enter a number : '))\n",
    "                return user_int_value\n",
    "            except ValueError as ve:\n",
    "                print('Please enter a number')\n",
    "                continue\n",
    "        def user_operation():\n",
    "            try:\n",
    "                user_operation = int(input('''Please enter your digit corresponding to an operation from below\n",
    "                {1: 'add', 2: 'minus', 3: 'multiply', 4: 'divide', 5: 'raise'}\n",
    "                '''))\n",
    "                return user_operation\n",
    "            except ValueError as ve:\n",
    "                print('Please enter a number')\n",
    "                continue\n",
    "        # start flow\n",
    "        first_digit = user_int()\n",
    "        captured_numeric.append(first_digit)\n",
    "        operation_choice = operation[user_operation()] # index the operation\n",
    "        second_digit = user_int()\n",
    "        captured_numeric.append(second_digit)\n",
    "        first = captured_numeric[0]\n",
    "        second = captured_numeric[-1]\n",
    "        return_val = []\n",
    "        match operation_choice:\n",
    "            case '+':\n",
    "                return_val.append(first + second)\n",
    "            case '-':\n",
    "                return_val.append(first - second)\n",
    "            case '*':\n",
    "                return_val.append(first * second)\n",
    "            case '/':\n",
    "                try:\n",
    "                    division_att = first / second\n",
    "                    return_val.append(division_att)\n",
    "                except ZeroDivisionError:\n",
    "                    return \"Can't do division on zero\"\n",
    "            case '**':\n",
    "                return_val.append(first ** second)\n",
    "        if len(return_val) == 1:\n",
    "            user_input_completed = True\n",
    "            return return_val[0] \n",
    "```\n",
    "* Match/Case not accepted here so commenting out code"
   ]
  },
  {
   "cell_type": "code",
   "execution_count": 30,
   "id": "95249599",
   "metadata": {},
   "outputs": [
    {
     "name": "stdout",
     "output_type": "stream",
     "text": [
      "Enter number: 3\n",
      "Pick operator(+,-,*,/,**) : /\n",
      "Enter another number: 0\n",
      "You cannot divide a number by zero. Try again\n",
      "Enter number: 100\n",
      "Pick operator(+,-,*,/,**) : /\n",
      "Enter another number: 0\n",
      "You cannot divide a number by zero. Try again\n",
      "Enter number: 27\n",
      "Pick operator(+,-,*,/,**) : /\n",
      "Enter another number: 6\n",
      "answ is : 4.5\n"
     ]
    }
   ],
   "source": [
    "import operator\n",
    "def calculator():\n",
    "    completed_operation = False\n",
    "    while not completed_operation:\n",
    "        try:\n",
    "            num1 = int(input(\"Enter number: \"))\n",
    "            # asking the user to pick an operator\n",
    "            opt = input(\"Pick operator(+,-,*,/,**) : \")\n",
    "            num2 = int(input('Enter another number: '))\n",
    "            if opt not in ['+', '-', '*', '/', '**'] or len(opt) > 1:\n",
    "                print('Please enter a valid operator')\n",
    "        except ValueError:\n",
    "            print('Please enter a valid number')\n",
    "        else:\n",
    "            if opt == '+':\n",
    "                return f'ans is: {operator.add(num1, num2)}'\n",
    "            elif opt == '-':\n",
    "                return f'ans is: {operator.sub(num1, num2)}'\n",
    "            elif opt == '*':\n",
    "                return f'ans is: {operator.mul(num1, num2)}'\n",
    "            elif opt == '**':\n",
    "                return f'ans is: {operator.pow(num1, num2)}'\n",
    "            elif opt == '/':\n",
    "                try:\n",
    "                    return f'answ is : {operator.truediv(num1, num2)}'\n",
    "                except ZeroDivisionError:\n",
    "                    print('You cannot divide a number by zero. Try again')   \n",
    "        \n",
    "\n",
    "print(calculator())            "
   ]
  },
  {
   "cell_type": "markdown",
   "id": "56fe3f9f",
   "metadata": {},
   "source": [
    "* Cool! we can see with our while condition how our `zero division error` is being caught and reiterating through the process til a valid operation can be performed\n",
    " \n",
    "#### `What about our to the power of operator??`"
   ]
  },
  {
   "cell_type": "code",
   "execution_count": 31,
   "id": "3ec28b7b",
   "metadata": {},
   "outputs": [
    {
     "name": "stdout",
     "output_type": "stream",
     "text": [
      "Enter number: 3\n",
      "Pick operator(+,-,*,/,**) : **\n",
      "Enter another number: 6\n",
      "Please enter a valid operator\n"
     ]
    },
    {
     "data": {
      "text/plain": [
       "'ans is: 729'"
      ]
     },
     "execution_count": 31,
     "metadata": {},
     "output_type": "execute_result"
    }
   ],
   "source": [
    "calculator()"
   ]
  },
  {
   "cell_type": "code",
   "execution_count": 32,
   "id": "f0999feb",
   "metadata": {},
   "outputs": [
    {
     "name": "stdout",
     "output_type": "stream",
     "text": [
      "Enter number: 3\n",
      "Pick operator(+,-,*,/,**) : **\n",
      "Enter another number: 3\n",
      "Please enter a valid operator\n"
     ]
    },
    {
     "data": {
      "text/plain": [
       "'ans is: 27'"
      ]
     },
     "execution_count": 32,
     "metadata": {},
     "output_type": "execute_result"
    }
   ],
   "source": [
    "calculator()"
   ]
  },
  {
   "cell_type": "markdown",
   "id": "bc76cfce",
   "metadata": {},
   "source": [
    "#### `Extra Challenge: Multiply Words`\n",
    "```python\n",
    "s = \"love live and laugh\"\n",
    "```\n",
    "* Write a function called `multiply_words` that takes a string as an argument and multiplies the length of each word in the string by the length of other words in the string. \n",
    "    - For example, the string above should return 240: love (4), live (4), and (3), laugh (5). \n",
    "* However, your function should only multiply words with all lowercase letters. If a word has one uppercase letter, it should be ignored. \n",
    "    - For example, the following string: s = \"Hate war love Peace\" should return 12 – war (3) love (4). `Hate` and `Peace` will be ignored because they have at least one uppercase letter."
   ]
  },
  {
   "cell_type": "code",
   "execution_count": 46,
   "id": "9c3129c3",
   "metadata": {},
   "outputs": [],
   "source": [
    "import re\n",
    "re_match = re.match('^[a-zA-Z]+', 'love,')"
   ]
  },
  {
   "cell_type": "code",
   "execution_count": 47,
   "id": "f443404e",
   "metadata": {},
   "outputs": [
    {
     "data": {
      "text/plain": [
       "'love'"
      ]
     },
     "execution_count": 47,
     "metadata": {},
     "output_type": "execute_result"
    }
   ],
   "source": [
    "re_match.group(0)"
   ]
  },
  {
   "cell_type": "code",
   "execution_count": 56,
   "id": "cb481310",
   "metadata": {},
   "outputs": [
    {
     "data": {
      "text/plain": [
       "['love', 'live', 'and', 'laugh']"
      ]
     },
     "execution_count": 56,
     "metadata": {},
     "output_type": "execute_result"
    }
   ],
   "source": [
    "# We can now take sentences, split\n",
    "words = re.findall(r'\\w+', 'love live, and laugh')\n",
    "words"
   ]
  },
  {
   "cell_type": "code",
   "execution_count": 59,
   "id": "da64ffdf",
   "metadata": {},
   "outputs": [],
   "source": [
    "from functools import reduce\n",
    "def multiply_words(str_arg):\n",
    "    words = re.findall(r'\\w+', str_arg)\n",
    "    print(f'These are our words prior to lower case test: {words}')\n",
    "    words = [word for word in words if word.islower()]\n",
    "    print(f'These are our words after the lower case test: {words}')\n",
    "    words = [len(word) for word in words if word.islower()]\n",
    "    # We can use reduce from functools to perform the lambda operation to multiply the items (3 * 4 * 4 == 48)\n",
    "    return reduce(lambda x,y: x*y, words)"
   ]
  },
  {
   "cell_type": "code",
   "execution_count": 62,
   "id": "87ef1966",
   "metadata": {},
   "outputs": [
    {
     "name": "stdout",
     "output_type": "stream",
     "text": [
      "These are our words prior to lower case test: ['love', 'live', 'and', 'laugh']\n",
      "These are our words after the lower case test: ['love', 'live', 'and', 'laugh']\n"
     ]
    },
    {
     "data": {
      "text/plain": [
       "240"
      ]
     },
     "execution_count": 62,
     "metadata": {},
     "output_type": "execute_result"
    }
   ],
   "source": [
    "multiply_words('love live, and laugh')"
   ]
  },
  {
   "cell_type": "code",
   "execution_count": 63,
   "id": "1437bce3",
   "metadata": {},
   "outputs": [
    {
     "name": "stdout",
     "output_type": "stream",
     "text": [
      "These are our words prior to lower case test: ['Hate', 'war', 'love', 'Peace']\n",
      "These are our words after the lower case test: ['war', 'love']\n"
     ]
    },
    {
     "data": {
      "text/plain": [
       "12"
      ]
     },
     "execution_count": 63,
     "metadata": {},
     "output_type": "execute_result"
    }
   ],
   "source": [
    "multiply_words('Hate war love Peace!')"
   ]
  },
  {
   "cell_type": "code",
   "execution_count": null,
   "id": "78af0b28",
   "metadata": {},
   "outputs": [],
   "source": []
  }
 ],
 "metadata": {
  "kernelspec": {
   "display_name": "Python 3 (ipykernel)",
   "language": "python",
   "name": "python3"
  },
  "language_info": {
   "codemirror_mode": {
    "name": "ipython",
    "version": 3
   },
   "file_extension": ".py",
   "mimetype": "text/x-python",
   "name": "python",
   "nbconvert_exporter": "python",
   "pygments_lexer": "ipython3",
   "version": "3.9.12"
  }
 },
 "nbformat": 4,
 "nbformat_minor": 5
}
