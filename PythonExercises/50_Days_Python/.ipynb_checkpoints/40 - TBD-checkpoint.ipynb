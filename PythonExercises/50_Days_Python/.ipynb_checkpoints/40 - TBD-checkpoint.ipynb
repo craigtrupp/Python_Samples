{
 "cells": [
  {
   "cell_type": "markdown",
   "id": "5f8a285f",
   "metadata": {},
   "source": [
    "### **Day 40: Pig Latin** \n",
    "* Write a function called translate that takes the following words and translates them into Pig Latin.\n",
    "\n",
    "```python\n",
    "a = 'i love python'\n",
    "\n",
    "# Should return : iyay ovelay ythonpay\n",
    "```\n",
    "\n",
    "`Rules`\n",
    "* IF a word starts with a vowel (a, e, i, o, u) add 'yay' at the end. \n",
    "    - For example, 'eat' will become **eatyay**\n",
    "* IF a word start with anything other than a vowel, move the first leeter to the end and add 'ay' to the end\n",
    "    - For example 'day' will become **ayday**\n",
    "\n",
    "\n"
   ]
  },
  {
   "cell_type": "code",
   "execution_count": 10,
   "id": "4760dc13",
   "metadata": {},
   "outputs": [],
   "source": [
    "import re\n",
    "def translate(str_words):\n",
    "    print([re.match('^[(aeiou)|(AEIOU)].*', x) for x in str_words.split()])\n",
    "    pig_latin_words = []\n",
    "    # split string on whitespace, iterate through each \n",
    "    for word in str_words.split():\n",
    "        if re.match('^[(aeiou)|(AEIOU)].*', word) is not None:\n",
    "            pig_latin_words.append(f'{word}yay')\n",
    "        else:\n",
    "            pig_latin_words.append(f'{word[1:]}{word[0]}ay')\n",
    "    return pig_latin_words, ' '.join(pig_latin_words)"
   ]
  },
  {
   "cell_type": "code",
   "execution_count": 11,
   "id": "d15492f7",
   "metadata": {},
   "outputs": [
    {
     "name": "stdout",
     "output_type": "stream",
     "text": [
      "[<re.Match object; span=(0, 1), match='i'>, None, None]\n"
     ]
    },
    {
     "data": {
      "text/plain": [
       "(['iyay', 'ovelay', 'ythonpay'], 'iyay ovelay ythonpay')"
      ]
     },
     "execution_count": 11,
     "metadata": {},
     "output_type": "execute_result"
    }
   ],
   "source": [
    "translate('i love python')"
   ]
  },
  {
   "cell_type": "markdown",
   "id": "bb81dad4",
   "metadata": {},
   "source": [
    "### **Day 41: Only Words w/Vowels**\n",
    "* Create a function called `words_with_vowels`. \n",
    "* This function takes a string of words and returns a list of only the words that have vowles in them\n",
    "* For example,\n",
    "    * \"You have no rhythm\" should return : ['you', 'have', 'no']"
   ]
  },
  {
   "cell_type": "code",
   "execution_count": 18,
   "id": "3c612570",
   "metadata": {},
   "outputs": [],
   "source": [
    "def words_with_vowels(str_words):\n",
    "    words_containing_vowels = []\n",
    "    for word in str_words.split():\n",
    "        if re.search('[AEIOU]', word, re.IGNORECASE) is not None:\n",
    "            words_containing_vowels.append(word)\n",
    "    return words_containing_vowels"
   ]
  },
  {
   "cell_type": "code",
   "execution_count": 19,
   "id": "aa7fa8a8",
   "metadata": {},
   "outputs": [
    {
     "data": {
      "text/plain": [
       "['You', 'have', 'no']"
      ]
     },
     "execution_count": 19,
     "metadata": {},
     "output_type": "execute_result"
    }
   ],
   "source": [
    "words_with_vowels('You have no rhythm')"
   ]
  },
  {
   "cell_type": "code",
   "execution_count": 21,
   "id": "ecc3267b",
   "metadata": {},
   "outputs": [
    {
     "data": {
      "text/plain": [
       "['you', 'have', 'nO']"
      ]
     },
     "execution_count": 21,
     "metadata": {},
     "output_type": "execute_result"
    }
   ],
   "source": [
    "words_with_vowels('you have nO rhythm')"
   ]
  },
  {
   "cell_type": "markdown",
   "id": "bfacce83",
   "metadata": {},
   "source": [
    "* The IGNORECASE third condition with search catches the vowel regardles (see nO)"
   ]
  },
  {
   "cell_type": "markdown",
   "id": "9e4d270b",
   "metadata": {},
   "source": [
    "#### `Extra Challenge`\n",
    "* Inheritance"
   ]
  },
  {
   "cell_type": "code",
   "execution_count": 30,
   "id": "b5d9ac83",
   "metadata": {},
   "outputs": [],
   "source": [
    "class Cars:\n",
    "    def __init__(self, model, color, year, transmission, electric=False):\n",
    "        self.model = model\n",
    "        self.color = color\n",
    "        self.year = year\n",
    "        self.transmission = transmission\n",
    "        self.electric = electric\n",
    "    # Class method\n",
    "    def print_car(self):\n",
    "        return f'car_model={self.model}\\nColor={self.color}\\nYear={self.year}'\\\n",
    "                f'\\nTransmission={self.transmission}\\nElectric={self.electric}'\n",
    "\n",
    "class BMW(Cars):\n",
    "    def __init__(self, model, color, year, transmission, electric=False):\n",
    "        super().__init__(model, color, year, transmission, electric)\n",
    "        \n",
    "class Tesla(Cars):\n",
    "    def __init__(self, model, color, year, transmission, electric=False):\n",
    "        super().__init__(model, color, year, transmission, electric)"
   ]
  },
  {
   "cell_type": "code",
   "execution_count": 31,
   "id": "22608cc0",
   "metadata": {},
   "outputs": [
    {
     "name": "stdout",
     "output_type": "stream",
     "text": [
      "car_model=X6\n",
      "Color=silver\n",
      "Year=2019\n",
      "Transmission=Auto\n",
      "Electric=False\n"
     ]
    }
   ],
   "source": [
    "bmw1 = BMW('X6', 'silver', 2019, 'Auto')\n",
    "print(bmw1.print_car())"
   ]
  },
  {
   "cell_type": "code",
   "execution_count": 32,
   "id": "3afa5dd1",
   "metadata": {},
   "outputs": [
    {
     "name": "stdout",
     "output_type": "stream",
     "text": [
      "car_model=S3\n",
      "Color=Grey\n",
      "Year=2020\n",
      "Transmission=Auto\n",
      "Electric=True\n"
     ]
    }
   ],
   "source": [
    "tesla = Tesla('S3', 'Grey', 2020, 'Auto', True)\n",
    "print(tesla.print_car())"
   ]
  },
  {
   "cell_type": "markdown",
   "id": "2ec3a434",
   "metadata": {},
   "source": [
    "### **Day 42: Spelling Checker** \n",
    "* Write a function called spelling_checker. \n",
    "* This code asks the user to input a word, and if the user inputs the wrong spelling, it should suggest the correct spelling by asking the user if they meant to type that word. \n",
    "* If the user says no, it should ask the user to enter the word again. \n",
    "    - If the user says yes, it should return the correct word. \n",
    "    - If the word entered by the user is correctly spelled, the function should return the correct word. \n",
    " \n",
    "Use the module textblob.\n"
   ]
  },
  {
   "cell_type": "code",
   "execution_count": 3,
   "id": "beb2a075",
   "metadata": {},
   "outputs": [
    {
     "name": "stdout",
     "output_type": "stream",
     "text": [
      "Requirement already satisfied: textblob in /Users/craigrupp/opt/anaconda3/lib/python3.9/site-packages (0.17.1)\n",
      "Requirement already satisfied: nltk>=3.1 in /Users/craigrupp/opt/anaconda3/lib/python3.9/site-packages (from textblob) (3.7)\n",
      "Requirement already satisfied: joblib in /Users/craigrupp/.local/lib/python3.9/site-packages (from nltk>=3.1->textblob) (1.2.0)\n",
      "Requirement already satisfied: tqdm in /Users/craigrupp/opt/anaconda3/lib/python3.9/site-packages (from nltk>=3.1->textblob) (4.64.0)\n",
      "Requirement already satisfied: click in /Users/craigrupp/opt/anaconda3/lib/python3.9/site-packages (from nltk>=3.1->textblob) (8.0.4)\n",
      "Requirement already satisfied: regex>=2021.8.3 in /Users/craigrupp/opt/anaconda3/lib/python3.9/site-packages (from nltk>=3.1->textblob) (2022.7.9)\n",
      "Note: you may need to restart the kernel to use updated packages.\n"
     ]
    }
   ],
   "source": [
    "%pip install textblob"
   ]
  },
  {
   "cell_type": "code",
   "execution_count": 12,
   "id": "e59c9c53",
   "metadata": {},
   "outputs": [],
   "source": [
    "# In IPython (jupyter) 7.3 and later, there is a magic %pip and %conda command that will install \n",
    "# into the current kernel (rather than into the instance of Python that launched the notebook).\n",
    "from textblob import TextBlob\n",
    "\n",
    "def spelling_checker():\n",
    "    # Start with a while loop\n",
    "    while True:\n",
    "        word = input(\"Enter a word : \").strip()\n",
    "        print(f'Your entered word was : {word}')\n",
    "        return TextBlob(word)"
   ]
  },
  {
   "cell_type": "code",
   "execution_count": 13,
   "id": "339699d2",
   "metadata": {},
   "outputs": [
    {
     "name": "stdout",
     "output_type": "stream",
     "text": [
      "Enter a word : health\n",
      "Your entered word was : health\n"
     ]
    }
   ],
   "source": [
    "test = spelling_checker()"
   ]
  },
  {
   "cell_type": "code",
   "execution_count": 15,
   "id": "a8428d7a",
   "metadata": {},
   "outputs": [
    {
     "data": {
      "text/plain": [
       "TextBlob(\"health\")"
      ]
     },
     "execution_count": 15,
     "metadata": {},
     "output_type": "execute_result"
    }
   ],
   "source": [
    "test.correct()"
   ]
  },
  {
   "cell_type": "code",
   "execution_count": 16,
   "id": "0f1db93f",
   "metadata": {},
   "outputs": [
    {
     "data": {
      "text/plain": [
       "True"
      ]
     },
     "execution_count": 16,
     "metadata": {},
     "output_type": "execute_result"
    }
   ],
   "source": [
    "'health' == test.correct()"
   ]
  },
  {
   "cell_type": "code",
   "execution_count": 1,
   "id": "0f9a5cca",
   "metadata": {},
   "outputs": [],
   "source": [
    "# Alright let's do the logic, just wanted to take a little look at what we had with the object\n",
    "from textblob import TextBlob\n",
    "def spelling_checker():\n",
    "    # Start with a while loop\n",
    "    while True:\n",
    "        word = input(\"Enter a word : \").strip()\n",
    "        print(f'Your entered word was : {word}')\n",
    "        word_blob = TextBlob(word)\n",
    "        # see if it matches and if so break from while loop and return word\n",
    "        if word == word_blob.correct():\n",
    "            break\n",
    "        else:\n",
    "            usr_question = input(f'Did you mean : '\n",
    "                                f'{TextBlob(word).correct()}?\\n'\n",
    "                                f'y/n : ')\n",
    "            if usr_question.lower() == 'y':\n",
    "                word = TextBlob(word).correct()\n",
    "                break\n",
    "            else:\n",
    "                # If it makes it here we'll just step back into the while loop\n",
    "                print('Please try again')\n",
    "    return f'Your final matched word was : {word}'"
   ]
  },
  {
   "cell_type": "code",
   "execution_count": 2,
   "id": "60202ad7",
   "metadata": {},
   "outputs": [
    {
     "name": "stdout",
     "output_type": "stream",
     "text": [
      "Enter a word : health\n",
      "Your entered word was : health\n"
     ]
    },
    {
     "data": {
      "text/plain": [
       "'Your final matched word was : health'"
      ]
     },
     "execution_count": 2,
     "metadata": {},
     "output_type": "execute_result"
    }
   ],
   "source": [
    "spelling_checker()"
   ]
  },
  {
   "cell_type": "code",
   "execution_count": 3,
   "id": "f646ec73",
   "metadata": {},
   "outputs": [
    {
     "name": "stdout",
     "output_type": "stream",
     "text": [
      "Enter a word : hostil\n",
      "Your entered word was : hostil\n",
      "Did you mean : hostile?\n",
      "y/n : n\n",
      "Please try again\n",
      "Enter a word : hostel\n",
      "Your entered word was : hostel\n"
     ]
    },
    {
     "data": {
      "text/plain": [
       "'Your final matched word was : hostel'"
      ]
     },
     "execution_count": 3,
     "metadata": {},
     "output_type": "execute_result"
    }
   ],
   "source": [
    "spelling_checker()"
   ]
  },
  {
   "cell_type": "code",
   "execution_count": 4,
   "id": "b0c7b63c",
   "metadata": {},
   "outputs": [
    {
     "name": "stdout",
     "output_type": "stream",
     "text": [
      "Enter a word : hostil\n",
      "Your entered word was : hostil\n",
      "Did you mean : hostile?\n",
      "y/n : y\n"
     ]
    },
    {
     "data": {
      "text/plain": [
       "'Your final matched word was : hostile'"
      ]
     },
     "execution_count": 4,
     "metadata": {},
     "output_type": "execute_result"
    }
   ],
   "source": [
    "spelling_checker()"
   ]
  },
  {
   "cell_type": "markdown",
   "id": "c84fc44d",
   "metadata": {},
   "source": [
    "#### `Extra Challenge : Alarm Clock`\n",
    "* Use a function named **set_alarm** that will take a user input (hour/minute) and return the interval until the alarm would go off\n",
    "* Alarm setting logic will allow for using a AM/PM indicator and if the current time is greater, the interval will calculate the timedifference for the alarm being set in the future to the subsequent day "
   ]
  },
  {
   "cell_type": "code",
   "execution_count": 91,
   "id": "92b77562",
   "metadata": {},
   "outputs": [],
   "source": [
    "from datetime import datetime, timedelta"
   ]
  },
  {
   "cell_type": "code",
   "execution_count": 12,
   "id": "b9143fc0",
   "metadata": {},
   "outputs": [
    {
     "data": {
      "text/plain": [
       "(datetime.datetime(2023, 8, 11, 12, 24, 53, 368919), '12:24', '12:24 PM')"
      ]
     },
     "execution_count": 12,
     "metadata": {},
     "output_type": "execute_result"
    }
   ],
   "source": [
    "datetime.now(), datetime.now().strftime('%H:%M'), datetime.now().strftime('%I:%M %p')"
   ]
  },
  {
   "cell_type": "code",
   "execution_count": 17,
   "id": "e57179c5",
   "metadata": {},
   "outputs": [
    {
     "name": "stdout",
     "output_type": "stream",
     "text": [
      "Difference: 4:04:20\n",
      "Total difference in minutes: 244.33333333333334\n",
      "Difference in minutes: 244.33333333333334\n"
     ]
    }
   ],
   "source": [
    "# datetime(year, month, day, hour, minute, second)\n",
    "alarm = datetime(2023, 8, 11, 18, 25, 30)\n",
    "b_now = datetime(2023, 8, 11, 14, 21, 10)\n",
    "  \n",
    "# returns a timedelta object\n",
    "c = alarm-b_now \n",
    "print('Difference:', c)\n",
    "  \n",
    "minutes = c.total_seconds() / 60\n",
    "print('Total difference in minutes:', minutes) # same as seconds as same day for interval difference\n",
    "  \n",
    "# returns the difference of the time of the day\n",
    "minutes = c.seconds / 60\n",
    "print('Difference in minutes:', minutes)"
   ]
  },
  {
   "cell_type": "code",
   "execution_count": 26,
   "id": "a46578b5",
   "metadata": {},
   "outputs": [],
   "source": [
    "def set_alarm():\n",
    "    hour = int(input(\"Please enter an hour : \"))\n",
    "    minute = int(input(\"Please enter a minutes value : \"))\n",
    "    am_pm = input(\"AM or PM : \").strip().upper()\n",
    "    alarm = f'{hour}:{minute}{am_pm}'\n",
    "    return alarm, type(alarm), datetime.strptime(alarm, '%I:%M%p')\n",
    "#     alarm_time \n",
    "#     while True:\n",
    "#         now = datetime.now().strftime()"
   ]
  },
  {
   "cell_type": "markdown",
   "id": "62ba75d3",
   "metadata": {},
   "source": [
    "* Let's validate the same time registering the right difference for AM/PM logic"
   ]
  },
  {
   "cell_type": "code",
   "execution_count": 29,
   "id": "7de345ec",
   "metadata": {},
   "outputs": [
    {
     "name": "stdout",
     "output_type": "stream",
     "text": [
      "Please enter an hour : 7\n",
      "Please enter a minutes value : 45\n",
      "AM or PM : am\n"
     ]
    }
   ],
   "source": [
    "am_1 = set_alarm()"
   ]
  },
  {
   "cell_type": "code",
   "execution_count": 30,
   "id": "84799680",
   "metadata": {},
   "outputs": [
    {
     "name": "stdout",
     "output_type": "stream",
     "text": [
      "Please enter an hour : 7\n",
      "Please enter a minutes value : 45\n",
      "AM or PM : pm\n"
     ]
    }
   ],
   "source": [
    "pm_1 = set_alarm()"
   ]
  },
  {
   "cell_type": "code",
   "execution_count": 58,
   "id": "e77f3381",
   "metadata": {},
   "outputs": [
    {
     "data": {
      "text/plain": [
       "(datetime.datetime,\n",
       " 7,\n",
       " datetime.datetime(1900, 1, 1, 7, 45),\n",
       " datetime.datetime(1900, 1, 1, 19, 45))"
      ]
     },
     "execution_count": 58,
     "metadata": {},
     "output_type": "execute_result"
    }
   ],
   "source": [
    "type(pm_1[-1]), am_1[-1].hour, am_1[-1], pm_1[-1]"
   ]
  },
  {
   "cell_type": "markdown",
   "id": "235e2090",
   "metadata": {},
   "source": [
    "* We can see here how the the final return value in a primer for the function can differentiate between am/pm\n",
    "* This will be important in the logic for determining how long until the alarm should go off"
   ]
  },
  {
   "cell_type": "code",
   "execution_count": 33,
   "id": "df444669",
   "metadata": {},
   "outputs": [],
   "source": [
    "delta_diff = pm_1[-1] - am_1[-1]"
   ]
  },
  {
   "cell_type": "code",
   "execution_count": 48,
   "id": "ef1791c2",
   "metadata": {},
   "outputs": [
    {
     "name": "stdout",
     "output_type": "stream",
     "text": [
      "12 720 43200\n"
     ]
    }
   ],
   "source": [
    "hour = delta_diff.seconds // 3600\n",
    "minutes = delta_diff.seconds // 60\n",
    "print(hour, minutes, delta_diff.seconds)"
   ]
  },
  {
   "cell_type": "code",
   "execution_count": 82,
   "id": "0aa1d57c",
   "metadata": {},
   "outputs": [],
   "source": [
    "def set_alarm():\n",
    "    hour = int(input(\"Please enter an hour : \"))\n",
    "    minute = int(input(\"Please enter a minutes value : \"))\n",
    "    am_pm = input(\"AM or PM : \").strip().upper()\n",
    "    # use the input variables and combine with current date to set an alarm for today, \n",
    "    # we'll see if current time is greater to return a remaining time value until the alarm goes off\n",
    "    alarm = f'{datetime.now().year} {datetime.now().month} {datetime.now().day} {hour}:{minute}{am_pm}'\n",
    "    alarm_dt = datetime.strptime(alarm, '%Y %m %d %I:%M%p')\n",
    "    # Setting alarm to a datetime object with the current date and will check to see if greater than current time \n",
    "    # for logic of how much time til the alarm goes off\n",
    "    cur_time = datetime.now()\n",
    "    cur_time = datetime(cur_time.year, cur_time.month, cur_time.day, cur_time.hour, cur_time.minute)\n",
    "    return alarm_dt, cur_time"
   ]
  },
  {
   "cell_type": "markdown",
   "id": "8376f255",
   "metadata": {},
   "source": []
  },
  {
   "cell_type": "code",
   "execution_count": 84,
   "id": "63c7495c",
   "metadata": {},
   "outputs": [
    {
     "name": "stdout",
     "output_type": "stream",
     "text": [
      "Please enter an hour : 7\n",
      "Please enter a minutes value : 45\n",
      "AM or PM : AM\n"
     ]
    }
   ],
   "source": [
    "alarm_cur_time = set_alarm()"
   ]
  },
  {
   "cell_type": "code",
   "execution_count": 92,
   "id": "e47fd48d",
   "metadata": {},
   "outputs": [
    {
     "data": {
      "text/plain": [
       "(True,\n",
       " datetime.datetime(2023, 8, 11, 7, 45),\n",
       " datetime.datetime(2023, 8, 12, 7, 45))"
      ]
     },
     "execution_count": 92,
     "metadata": {},
     "output_type": "execute_result"
    }
   ],
   "source": [
    "alarm_cur_time[0] < alarm_cur_time[1], alarm_cur_time[0], alarm_cur_time[0] + timedelta(days=1)"
   ]
  },
  {
   "cell_type": "markdown",
   "id": "23f77fe2",
   "metadata": {},
   "source": [
    "* So we can see (imported timedelta from datetime as well) that we can simply add a day if the alarm time (which we default to today) has already occurred and thus is advanced one day so we can get the difference\n",
    "\n",
    "* Alright we can finish it now"
   ]
  },
  {
   "cell_type": "markdown",
   "id": "b943cad0",
   "metadata": {},
   "source": [
    "```python\n",
    "days, seconds = duration.days, duration.seconds\n",
    "hours = days * 24 + seconds // 3600\n",
    "minutes = (seconds % 3600) // 60\n",
    "seconds = seconds % 60\n",
    "```\n",
    "* This would be how you convertime a timedelta to minutes/hours and seconds in python"
   ]
  },
  {
   "cell_type": "code",
   "execution_count": 113,
   "id": "e5e70792",
   "metadata": {},
   "outputs": [
    {
     "name": "stdout",
     "output_type": "stream",
     "text": [
      "Your alarm for : Saturday, Aug 12 at 07:45 AM\n"
     ]
    }
   ],
   "source": [
    "tom = datetime(2023, 8, 12, 7, 45)\n",
    "print(f'Your alarm for : {tom.strftime(\"%A, %b %d at %I:%M %p\")}')"
   ]
  },
  {
   "cell_type": "code",
   "execution_count": 95,
   "id": "03bc4eb1",
   "metadata": {},
   "outputs": [
    {
     "name": "stdout",
     "output_type": "stream",
     "text": [
      "Please enter an hour : 7\n",
      "Please enter a minutes value : 45\n",
      "AM or PM : am\n",
      "17 1025 61500\n"
     ]
    }
   ],
   "source": [
    "sample_diff = set_alarm()\n",
    "\n",
    "hour = sample_diff.seconds // 3600\n",
    "minutes = sample_diff.seconds // 60\n",
    "print(hour, minutes, sample_diff.seconds)\n",
    "print()"
   ]
  },
  {
   "cell_type": "code",
   "execution_count": 174,
   "id": "1ef1cbf8",
   "metadata": {},
   "outputs": [],
   "source": [
    "def set_alarm():\n",
    "    hour = int(input(\"Please enter an hour : \"))\n",
    "    minute = int(input(\"Please enter a minutes value : \"))\n",
    "    am_pm = input(\"AM or PM : \").strip().upper()\n",
    "    # use the input variables and combine with current date to set an alarm for today, \n",
    "    # we'll see if current time is greater to return a remaining time value until the alarm goes off\n",
    "    alarm = f'{datetime.now().year} {datetime.now().month} {datetime.now().day} {hour}:{minute}{am_pm}'\n",
    "    alarm_dt = datetime.strptime(alarm, '%Y %m %d %I:%M%p')\n",
    "    # Setting alarm to a datetime object with the current date and will check to see if greater than current time \n",
    "    # for logic of how much time til the alarm goes off\n",
    "    cur_time = datetime.now()\n",
    "    cur_time = datetime(cur_time.year, cur_time.month, cur_time.day, cur_time.hour, cur_time.minute)\n",
    "    # Set the remaining time til alarm one day in the future \n",
    "    if alarm_dt < cur_time:\n",
    "        alarm_dt = alarm_dt + timedelta(days=1)\n",
    "        next_day_delta = alarm_dt - cur_time\n",
    "        next_day_delta_hrs = next_day_delta.seconds // 3600 # floor division for any remainder to translate to minutes\n",
    "        next_day_delta_mins = (next_day_delta.seconds % 3600) // 60 # min\n",
    "        # https://stackoverflow.com/questions/45965007/multiline-f-string-in-python (i still don't know why this is so fussy)\n",
    "        return_string = (\n",
    "        f\"\"\"Your alarm for : {alarm_dt.strftime(\"%A, %b %d at %I:%M %p\")}\\n\"\"\"\n",
    "        f\"\"\"Will go off in : {next_day_delta_hrs}hrs and {next_day_delta_mins}mins\"\"\"\n",
    "        )\n",
    "        print(return_string)\n",
    "        return \n",
    "#         return (\n",
    "#             f'Your alarm for : {alarm_dt.strftime(\"%A, %b %d at %I:%M %p\")}\\n'\n",
    "#             f'Will go off in : {next_day_delta_hrs}hrs and {next_day_delta_mins}mins'\n",
    "#         )\n",
    "    else:\n",
    "        # no mutating of the alarm time and let's see the difference\n",
    "        same_day_delta = alarm_dt - cur_time\n",
    "        same_day_delta_hrs = same_day_delta.seconds // 3600\n",
    "        same_day_delta_mins = (same_day_delta.seconds % 3600) // 60\n",
    "        alarm_string = (\n",
    "        f\"\"\"Your alarm for : {alarm_dt.strftime(\"%A, %b %d at %I:%M %p\")}\\n\"\"\"\n",
    "        f\"\"\"Will go off in : {same_day_delta_hrs}hrs and {same_day_delta_mins}mins\"\"\"\n",
    "        )\n",
    "        print(alarm_string)\n",
    "        return\n",
    "        "
   ]
  },
  {
   "cell_type": "code",
   "execution_count": 175,
   "id": "e6905d08",
   "metadata": {},
   "outputs": [
    {
     "name": "stdout",
     "output_type": "stream",
     "text": [
      "Please enter an hour : 7\n",
      "Please enter a minutes value : 45\n",
      "AM or PM : am\n",
      "Your alarm for : Saturday, Aug 12 at 07:45 AM\n",
      "Will go off in : 16hrs and 4mins\n"
     ]
    }
   ],
   "source": [
    "set_alarm()"
   ]
  },
  {
   "cell_type": "code",
   "execution_count": 176,
   "id": "004880a1",
   "metadata": {
    "scrolled": true
   },
   "outputs": [
    {
     "name": "stdout",
     "output_type": "stream",
     "text": [
      "Please enter an hour : 7\n",
      "Please enter a minutes value : 45\n",
      "AM or PM : pm\n",
      "Your alarm for : Friday, Aug 11 at 07:45 PM\n",
      "Will go off in : 4hrs and 4mins\n"
     ]
    }
   ],
   "source": [
    "set_alarm()"
   ]
  },
  {
   "cell_type": "code",
   "execution_count": 177,
   "id": "dbd1d3cb",
   "metadata": {},
   "outputs": [
    {
     "name": "stdout",
     "output_type": "stream",
     "text": [
      "2023-08-11 15:42:00.290074\n"
     ]
    }
   ],
   "source": [
    "print(datetime.now())"
   ]
  },
  {
   "cell_type": "markdown",
   "id": "c4770f74",
   "metadata": {},
   "source": [
    "### **Day 43: Student Marks**\n",
    "* Write a function called `student_marks` that records the marks achieved by students in a test. \n",
    "* The function should ask the user to input the name of the student and then ask the user to input the marks achieved by the student. \n",
    "* The information should be stored in a dictionary. \n",
    "    - The name is the key, and the mark is a value. \n",
    "* When the user enters \"done,\" the function should return a dictionary of the names and values entered."
   ]
  },
  {
   "cell_type": "code",
   "execution_count": 183,
   "id": "805296a4",
   "metadata": {},
   "outputs": [],
   "source": [
    "def student_marks():\n",
    "    student_grades = {}\n",
    "    while True:\n",
    "        student_name = input('Please enter the name of the student : ')\n",
    "        if student_name in student_grades:\n",
    "            print(student_grades)\n",
    "            raise ValueError('Student already exists')\n",
    "        else:\n",
    "            student_grades[student_name] = []\n",
    "            add_scores = True\n",
    "            while add_scores:\n",
    "                student_score = int(input(\"Please enter the score for the student : \"))\n",
    "                student_grades[student_name].append(student_score)\n",
    "                another_score = input('Would you like to enter another score : y/n ').strip().lower()\n",
    "                if another_score != 'y':\n",
    "                    add_scores = False\n",
    "                    more_students = input('Would you like to add another student : y/n ').strip().lower()\n",
    "                    if more_students != 'y':\n",
    "                        return student_grades\n",
    "                    else:\n",
    "                        continue"
   ]
  },
  {
   "cell_type": "code",
   "execution_count": 181,
   "id": "ee0a4a5e",
   "metadata": {},
   "outputs": [
    {
     "name": "stdout",
     "output_type": "stream",
     "text": [
      "Please enter the name of the student : Keith\n",
      "Please enter the score for the student : 85\n",
      "Would you like to enter another score : y/n y\n",
      "Please enter the score for the student : 90\n",
      "Would you like to enter another score : y/n n\n",
      "Would you like to add another student : y/n y\n",
      "Please enter the name of the student : Steve\n",
      "Please enter the score for the student : 89\n",
      "Would you like to enter another score : y/n y\n",
      "Please enter the score for the student : 91\n",
      "Would you like to enter another score : y/n n\n",
      "Would you like to add another student : y/n n\n"
     ]
    },
    {
     "data": {
      "text/plain": [
       "{'Keith': [85, 90], 'Steve': [89, 91]}"
      ]
     },
     "execution_count": 181,
     "metadata": {},
     "output_type": "execute_result"
    }
   ],
   "source": [
    "student_marks()"
   ]
  },
  {
   "cell_type": "code",
   "execution_count": 185,
   "id": "e6fbd78a",
   "metadata": {},
   "outputs": [
    {
     "name": "stdout",
     "output_type": "stream",
     "text": [
      "Please enter the name of the student : Keith\n",
      "Please enter the score for the student : 79\n",
      "Would you like to enter another score : y/n y\n",
      "Please enter the score for the student : 83\n",
      "Would you like to enter another score : y/n n\n",
      "Would you like to add another student : y/n Keith\n"
     ]
    },
    {
     "data": {
      "text/plain": [
       "{'Keith': [79, 83]}"
      ]
     },
     "execution_count": 185,
     "metadata": {},
     "output_type": "execute_result"
    }
   ],
   "source": [
    "student_marks()"
   ]
  },
  {
   "cell_type": "markdown",
   "id": "9555d5cd",
   "metadata": {},
   "source": [
    "### **Day 44: Save Emails**\n",
    "* Create a function called `save_emails`\n",
    "* This function takes no arguments but asks the uer to input an email, and it saves the emails in a CSV file.\n",
    "* The user can input as many emails as they want. Once they hit \"done\", the function saves the emails and closes the file\n",
    "* Create another function called `open_emails`. \n",
    "* This function opens and reads the content of the CSV file. Each email requires its own line. "
   ]
  },
  {
   "cell_type": "code",
   "execution_count": 12,
   "id": "eaf079e7",
   "metadata": {},
   "outputs": [
    {
     "name": "stdout",
     "output_type": "stream",
     "text": [
      "Valid Email\n",
      "Valid Email\n",
      "Invalid Email\n"
     ]
    }
   ],
   "source": [
    "import re\n",
    " \n",
    "# Define a function for\n",
    "# for validating an Email\n",
    "def check(s):\n",
    "    pat = r'\\b[A-Za-z0-9._%+-]+@[A-Za-z0-9.-]+\\.[A-Z|a-z]{2,7}\\b'\n",
    "    if re.match(pat,s):\n",
    "        print(\"Valid Email\")\n",
    "        return 'valid'\n",
    "    else:\n",
    "        print(\"Invalid Email\")\n",
    "        return 'invalid'\n",
    " \n",
    "# Driver Code\n",
    "if __name__ =='__main__':\n",
    " \n",
    "    # Enter the email\n",
    "    email =\"ankitrai326@gmail.com\"\n",
    " \n",
    "    # calling run function\n",
    "    check(email)\n",
    " \n",
    "    email =\"my.ownsite@our-earth.org\"\n",
    "    check(email)\n",
    " \n",
    "    email =\"ankitrai326.com\"\n",
    "    check(email)"
   ]
  },
  {
   "cell_type": "code",
   "execution_count": 40,
   "id": "19d73333",
   "metadata": {},
   "outputs": [],
   "source": [
    "import csv\n",
    "import glob\n",
    "def save_emails():\n",
    "    user_emails = set()\n",
    "    while True:\n",
    "        user_email = input(\"Please enter the user email : \")\n",
    "        email_check = check(user_email)\n",
    "        if email_check == 'valid':\n",
    "            user_emails.add(user_email)\n",
    "            while True:\n",
    "                try:\n",
    "                    more_emails = input('Would you like to add more emails? : y|n : ').strip()\n",
    "                except ValueError as e:\n",
    "                    print(f'{e} : {user_email}')\n",
    "                    continue\n",
    "                if more_emails.lower() == 'y':\n",
    "                    break # we should now go back to the outer while Loop for email enter\n",
    "                else:\n",
    "                    print(f'Our user emails being written to a csv file : {user_emails}')\n",
    "                    with open('emails.csv', 'w') as f:\n",
    "                        writer = csv.writer(f)\n",
    "                        # I guess the writer is looking for an iterable and will use one str character if found\n",
    "                        writer.writerow(['email']) # https://stackoverflow.com/questions/1816880/why-does-csvwriter-writerow-put-a-comma-after-each-character?rq=3\n",
    "                        writer.writerows([email] for email in user_emails)\n",
    "                    print('Emails available in local directory named emails.csv')\n",
    "                    return glob.glob('*.csv') # this should then in theory return all the csv files in the path\n",
    "        else:\n",
    "            print(f'Entered Email : {user_email} was invalid')\n",
    "            try_again = input('Would you like to try to enter another email? : y|n : ').strip()\n",
    "            if try_again == 'y':\n",
    "                continue\n",
    "            else:\n",
    "                return user_emails"
   ]
  },
  {
   "cell_type": "code",
   "execution_count": 17,
   "id": "f2ab1117",
   "metadata": {},
   "outputs": [
    {
     "name": "stdout",
     "output_type": "stream",
     "text": [
      "Please enter the user email : hellsite@hell.com\n",
      "Valid Email\n",
      "Would you like to add more emails? : y|n : y\n",
      "Please enter the user email : crispy@burned.com\n",
      "Valid Email\n",
      "Would you like to add more emails? : y|n : y\n",
      "Please enter the user email : dynamite@dynamite.com\n",
      "Valid Email\n",
      "Would you like to add more emails? : y|n : n\n",
      "{'dynamite@dynamite.com', 'crispy@burned.com', 'hellsite@hell.com'}\n"
     ]
    },
    {
     "data": {
      "text/plain": [
       "{'crispy@burned.com', 'dynamite@dynamite.com', 'hellsite@hell.com'}"
      ]
     },
     "execution_count": 17,
     "metadata": {},
     "output_type": "execute_result"
    }
   ],
   "source": [
    "save_emails()"
   ]
  },
  {
   "cell_type": "markdown",
   "id": "dbb55ec1",
   "metadata": {},
   "source": [
    "* So that's a dry run of above now we need to write the emails to a csv"
   ]
  },
  {
   "cell_type": "code",
   "execution_count": 41,
   "id": "4576166d",
   "metadata": {},
   "outputs": [
    {
     "name": "stdout",
     "output_type": "stream",
     "text": [
      "Please enter the user email : vader@dside.com\n",
      "Valid Email\n",
      "Would you like to add more emails? : y|n : y\n",
      "Please enter the user email : luke@test.com\n",
      "Valid Email\n",
      "Would you like to add more emails? : y|n : n\n",
      "Our user emails being written to a csv file : {'vader@dside.com', 'luke@test.com'}\n",
      "Emails available in local directory named emails.csv\n"
     ]
    }
   ],
   "source": [
    "hey = save_emails()"
   ]
  },
  {
   "cell_type": "code",
   "execution_count": 38,
   "id": "5fe93995",
   "metadata": {},
   "outputs": [
    {
     "data": {
      "text/plain": [
       "['emails.csv', 'university_records_2.csv', 'university_records.csv']"
      ]
     },
     "execution_count": 38,
     "metadata": {},
     "output_type": "execute_result"
    }
   ],
   "source": [
    "hey"
   ]
  },
  {
   "cell_type": "markdown",
   "id": "96c881cb",
   "metadata": {},
   "source": [
    "* Sweet! The glob worked but we did get all of the csv files lol"
   ]
  },
  {
   "cell_type": "code",
   "execution_count": 27,
   "id": "2fde7424",
   "metadata": {},
   "outputs": [],
   "source": [
    "def open_emails(email_csv):\n",
    "    # File path here could make this trickier but will just read in the csv file we created above\n",
    "    with open(email_csv, 'r') as f:\n",
    "        csv_file = csv.reader(f)\n",
    "        for line in csv_file: #we'll omit the title we added in the other function\n",
    "            print(line)"
   ]
  },
  {
   "cell_type": "code",
   "execution_count": 42,
   "id": "623171b5",
   "metadata": {},
   "outputs": [
    {
     "name": "stdout",
     "output_type": "stream",
     "text": [
      "['email']\n",
      "['vader@dside.com']\n",
      "['luke@test.com']\n"
     ]
    }
   ],
   "source": [
    "open_emails(hey[0])"
   ]
  },
  {
   "cell_type": "code",
   "execution_count": null,
   "id": "3800682d",
   "metadata": {},
   "outputs": [],
   "source": []
  }
 ],
 "metadata": {
  "kernelspec": {
   "display_name": "Python 3 (ipykernel)",
   "language": "python",
   "name": "python3"
  },
  "language_info": {
   "codemirror_mode": {
    "name": "ipython",
    "version": 3
   },
   "file_extension": ".py",
   "mimetype": "text/x-python",
   "name": "python",
   "nbconvert_exporter": "python",
   "pygments_lexer": "ipython3",
   "version": "3.9.12"
  }
 },
 "nbformat": 4,
 "nbformat_minor": 5
}
