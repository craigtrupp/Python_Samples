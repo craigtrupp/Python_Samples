{
 "cells": [
  {
   "cell_type": "markdown",
   "id": "12fb9ec7",
   "metadata": {},
   "source": [
    "### **Day 24: Average Calories**\n",
    "* Write a function called `average_calories` that calculates the average calorie intake of a user. \n",
    "* The function should ask the user to input their calorie intake for any number of days, and once they hit \"done,\" it should calculate and return the average intake."
   ]
  },
  {
   "cell_type": "code",
   "execution_count": 1,
   "id": "2de458b9",
   "metadata": {},
   "outputs": [],
   "source": [
    "def average_calories():\n",
    "    calorie_intake = []\n",
    "    while True:\n",
    "        try:\n",
    "            cal_value = float(input('Please enter your caloric intake numeric value : '))\n",
    "            calorie_intake.append(cal_value)\n",
    "            try:\n",
    "                more_values = input(\"More values? : 'y' or 'n'\").lower()\n",
    "            except ValueError:\n",
    "                return f'Average caloric intake from available data : {sum(calorie_intake)/len(calorie_intake)}'\n",
    "            if more_values == 'y':\n",
    "                continue\n",
    "            else:\n",
    "                return f'Average caloric intake from available data : {sum(calorie_intake)/len(calorie_intake)}'\n",
    "        except ValueError as e:\n",
    "            print('Please enter a valid number')\n",
    "            continue"
   ]
  },
  {
   "cell_type": "code",
   "execution_count": 2,
   "id": "190bda34",
   "metadata": {},
   "outputs": [
    {
     "name": "stdout",
     "output_type": "stream",
     "text": [
      "Please enter your caloric intake numeric value : 750\n",
      "More values? : 'y' or 'n'y\n",
      "Please enter your caloric intake numeric value : 800\n",
      "More values? : 'y' or 'n'n\n"
     ]
    },
    {
     "data": {
      "text/plain": [
       "'Average caloric intake from available data : 775.0'"
      ]
     },
     "execution_count": 2,
     "metadata": {},
     "output_type": "execute_result"
    }
   ],
   "source": [
    "average_calories()"
   ]
  },
  {
   "cell_type": "code",
   "execution_count": 3,
   "id": "fb7d07e0",
   "metadata": {},
   "outputs": [
    {
     "name": "stdout",
     "output_type": "stream",
     "text": [
      "Please enter your caloric intake numeric value : 1500\n",
      "More values? : 'y' or 'n'y\n",
      "Please enter your caloric intake numeric value : 2500\n",
      "More values? : 'y' or 'n'y\n",
      "Please enter your caloric intake numeric value : 3500\n",
      "More values? : 'y' or 'n'what\n"
     ]
    },
    {
     "data": {
      "text/plain": [
       "'Average caloric intake from available data : 2500.0'"
      ]
     },
     "execution_count": 3,
     "metadata": {},
     "output_type": "execute_result"
    }
   ],
   "source": [
    "average_calories()"
   ]
  },
  {
   "cell_type": "markdown",
   "id": "8e824220",
   "metadata": {},
   "source": [
    "* The function below would be ... an endless loop if one numeric value is never entered\n",
    "* Nested `try/except` block would execute if valid intake is continually given as shown above\n",
    "    - If on more input values you don't get a valid boolean (more or less) it will simply executed what values it has and return an average\n",
    "    - `more_values` variable available in scope from successful try return which will re-enter the true while coniditon for more user_input"
   ]
  },
  {
   "cell_type": "markdown",
   "id": "e79088c1",
   "metadata": {},
   "source": [
    "`Extra Challenge:`\n",
    "\n",
    "* Create a Nested List \n",
    "* Write a function called `nested_lists` that takes any number of lists and creates a 2-dimensional nested list of lists. \n",
    "* For example, if you pass the following lists as arguments: [1, 2, 3, 5], [1, 2, 3, 4], [1, 3, 4, 5]. Your code should return: [[1, 2, 3, 5], [1, 2, 3, 4], [1, 3, 4, 5]]\n"
   ]
  },
  {
   "cell_type": "code",
   "execution_count": 4,
   "id": "015704a8",
   "metadata": {},
   "outputs": [
    {
     "data": {
      "text/plain": [
       "[[1, 2, 3, 5], [1, 2, 3, 4], [1, 3, 4, 5]]"
      ]
     },
     "execution_count": 4,
     "metadata": {},
     "output_type": "execute_result"
    }
   ],
   "source": [
    "def nested_list(*args):\n",
    "    return [list for list in args]\n",
    "\n",
    "nested_list([1,2,3,5], [1,2,3,4], [1,3,4,5])"
   ]
  },
  {
   "cell_type": "markdown",
   "id": "73689bd7",
   "metadata": {},
   "source": [
    "### **Day 25: All the Same**\n",
    "\n",
    "* Write a function called `all_the_same` that takes one argument, a string, a list, or a tuple, and checks if all the elements are the same. If the elements are the same, the function should return True. If not, it should return False. \n",
    "* For example, [\"Mary\", \"Mary\", \"Mary\"] should return True."
   ]
  },
  {
   "cell_type": "code",
   "execution_count": 5,
   "id": "82aa3577",
   "metadata": {},
   "outputs": [],
   "source": [
    "def all_the_same(test_arg):\n",
    "    # isolate first character in the argument\n",
    "    if len(test_arg) <= 1:\n",
    "        return 'Not long enought to check'\n",
    "    else:\n",
    "        first_item = test_arg[0]\n",
    "        for subsequent_items in range(1, len(test_arg)):\n",
    "            if test_arg[subsequent_items] != first_item:\n",
    "                return False\n",
    "            else:\n",
    "                continue\n",
    "    return True"
   ]
  },
  {
   "cell_type": "code",
   "execution_count": 6,
   "id": "5e2bab0e",
   "metadata": {},
   "outputs": [
    {
     "data": {
      "text/plain": [
       "True"
      ]
     },
     "execution_count": 6,
     "metadata": {},
     "output_type": "execute_result"
    }
   ],
   "source": [
    "all_the_same(['Mary', 'Mary', 'Mary'])"
   ]
  },
  {
   "cell_type": "code",
   "execution_count": 7,
   "id": "15bf3e63",
   "metadata": {},
   "outputs": [
    {
     "data": {
      "text/plain": [
       "False"
      ]
     },
     "execution_count": 7,
     "metadata": {},
     "output_type": "execute_result"
    }
   ],
   "source": [
    "all_the_same(['Mary', 'Mary', 'mary', 'Mary'])"
   ]
  },
  {
   "cell_type": "markdown",
   "id": "c70e9c62",
   "metadata": {},
   "source": [
    "#### `Extra Challenge: Reverse a String` \n",
    "* str1 = \"the love is real\" \n",
    "* Write a function called `read_backwards` that takes a string as an argument and reverses it. The string above, for example, should return: \"real is love the.\""
   ]
  },
  {
   "cell_type": "code",
   "execution_count": 8,
   "id": "21e2dbc0",
   "metadata": {},
   "outputs": [],
   "source": [
    "def read_backwards(sample_str):\n",
    "    # split (default is white space), reverse the elements in the list, join and return\n",
    "    return ' '.join(sample_str.split()[::-1])"
   ]
  },
  {
   "cell_type": "code",
   "execution_count": 9,
   "id": "592f0498",
   "metadata": {},
   "outputs": [
    {
     "data": {
      "text/plain": [
       "'real is love the'"
      ]
     },
     "execution_count": 9,
     "metadata": {},
     "output_type": "execute_result"
    }
   ],
   "source": [
    "read_backwards('the love is real')"
   ]
  },
  {
   "cell_type": "markdown",
   "id": "beaecb53",
   "metadata": {},
   "source": [
    "### **Day 26: Sort Words**\n",
    "* Write a function called `sort_words` that takes a string of words as an argument, removes the whitespaces, and returns a list of letters sorted in alphabetical order. \n",
    "* Letters will be separated by commas. \n",
    "* All letters should appear once in the list. \n",
    "    - This means that you sort and remove duplicates. \n",
    "* For example, \"love life\" should return as ['e, f, i, l, o, v'].\n"
   ]
  },
  {
   "cell_type": "code",
   "execution_count": 10,
   "id": "7f0d2b44",
   "metadata": {},
   "outputs": [],
   "source": [
    "def sort_words(str_words):\n",
    "    import re\n",
    "    letters = re.findall('[a-z]', str_words.lower())\n",
    "    letters_no_dupes = list(set(letters))\n",
    "    sorted_return = sorted(letters_no_dupes)\n",
    "    print(f'Original string with potential duplicates : {letters}')\n",
    "    print(f'String with no dupes : {letters_no_dupes}')\n",
    "    return sorted_return"
   ]
  },
  {
   "cell_type": "code",
   "execution_count": 11,
   "id": "f47f01d9",
   "metadata": {},
   "outputs": [
    {
     "name": "stdout",
     "output_type": "stream",
     "text": [
      "Original string with potential duplicates : ['l', 'o', 'v', 'e', 'l', 'i', 'f', 'e']\n",
      "String with no dupes : ['f', 'e', 'o', 'i', 'v', 'l']\n"
     ]
    },
    {
     "data": {
      "text/plain": [
       "['e', 'f', 'i', 'l', 'o', 'v']"
      ]
     },
     "execution_count": 11,
     "metadata": {},
     "output_type": "execute_result"
    }
   ],
   "source": [
    "sort_words('love life')"
   ]
  },
  {
   "cell_type": "markdown",
   "id": "056d73e9",
   "metadata": {},
   "source": [
    "#### `Extra Challenge: Length of Words`\n",
    "```python\n",
    "s = 'Hi my name is Richard'\n",
    "```\n",
    "* Write a function called `string_length` that takes a string of words (words and spaces) as argument. \n",
    "* This function should return the length of all the words in the string. \n",
    "* Return the results in the form of a dictionary. \n",
    "    - The string above should return:{'Hi': 2, 'my': 2, 'name': 4, 'is': 2, 'Richard': 7}"
   ]
  },
  {
   "cell_type": "code",
   "execution_count": 12,
   "id": "ec29e12f",
   "metadata": {},
   "outputs": [],
   "source": [
    "s = 'Hi, my name is Richard,'\n",
    "def string_length(str_words):\n",
    "    import re\n",
    "    words = re.findall('\\w+', str_words)\n",
    "    return {x:len(x) for x in words}"
   ]
  },
  {
   "cell_type": "code",
   "execution_count": 13,
   "id": "b5078727",
   "metadata": {},
   "outputs": [
    {
     "data": {
      "text/plain": [
       "{'Hi': 2, 'my': 2, 'name': 4, 'is': 2, 'Richard': 7}"
      ]
     },
     "execution_count": 13,
     "metadata": {},
     "output_type": "execute_result"
    }
   ],
   "source": [
    "string_length(s)"
   ]
  },
  {
   "cell_type": "markdown",
   "id": "d3c86c83",
   "metadata": {},
   "source": [
    "### **Day 27: Unique Numbers** \n",
    "\n",
    "* Write a function called `unique_numbers` that takes a list of numbers as an argument. \n",
    "* Your function is going to find all the unique numbers in the list. \n",
    "* It will then sum up the unique numbers. \n",
    "* You will calculate the difference between the sum of all the numbers in the original list and the sum of the unique numbers in the list. \n",
    "* If the difference is an even number, your function should return the original list. \n",
    "* If the difference is an odd number, your function should return a list with unique numbers only. \n",
    "* For example [1, 2, 4, 5, 6, 7, 8, 8] should return [1, 2, 4, 5, 6, 7, 8, 8].\n"
   ]
  },
  {
   "cell_type": "code",
   "execution_count": 14,
   "id": "e460cdc1",
   "metadata": {},
   "outputs": [],
   "source": [
    "def unique_numbers(lst_nums):\n",
    "    sum_orig_list = sum(lst_nums)\n",
    "    sum_unique_lst_numbs = sum(list(set(lst_nums)))\n",
    "    # using parentheses allowed to the if to evaluate\n",
    "    if (sum_orig_list - sum_unique_lst_numbs) % 2 == 0:\n",
    "        return lst_nums\n",
    "    else:\n",
    "        return list(set(lst_nums))\n",
    "        "
   ]
  },
  {
   "cell_type": "code",
   "execution_count": 15,
   "id": "600ffb5b",
   "metadata": {},
   "outputs": [
    {
     "data": {
      "text/plain": [
       "[1, 2, 4, 5, 6, 7, 8, 8]"
      ]
     },
     "execution_count": 15,
     "metadata": {},
     "output_type": "execute_result"
    }
   ],
   "source": [
    "unique_numbers([1,2,4,5,6,7,8,8])"
   ]
  },
  {
   "cell_type": "code",
   "execution_count": 16,
   "id": "d4b93329",
   "metadata": {},
   "outputs": [
    {
     "data": {
      "text/plain": [
       "[1, 3, 9]"
      ]
     },
     "execution_count": 16,
     "metadata": {},
     "output_type": "execute_result"
    }
   ],
   "source": [
    "unique_numbers([1, 3, 3, 9]) # list would be 16 and 13 for respective sum (3) = else clause for unique"
   ]
  },
  {
   "cell_type": "markdown",
   "id": "f5fd75d1",
   "metadata": {},
   "source": [
    "#### `Extra Challenge: Difference of Two Lists`\n",
    "* Write a function called `difference` that takes two lists as arguments. \n",
    "* This function should return all the elements that are in `list a` but not in `list b` \n",
    "* and all the elements in `list b` but not in `list a`\n",
    "* For example: list1 = [1, 2, 4, 5, 6] list2 = [1, 2, 5, 7, 9] should return: [4, 6, 7, 9]\n",
    "\n"
   ]
  },
  {
   "cell_type": "code",
   "execution_count": 17,
   "id": "d2d5516d",
   "metadata": {},
   "outputs": [],
   "source": [
    "def difference(lst_a, lst_b):\n",
    "    set_a, set_b = set(lst_a), set(lst_b)\n",
    "    print(set_a, set_b)\n",
    "    set_a_unq = set_a.difference(set_b)\n",
    "    set_b_unq = set_b.difference(set_a)\n",
    "    # we can iterate and use the **extend** list method to return one set\n",
    "    combined = [x for x in set_a_unq] # None type (need)\n",
    "    combined.extend([x for x in set_b_unq]) # have to mutate after for values to extend (mutates object in place)\n",
    "    return set_a_unq, set_b_unq, combined"
   ]
  },
  {
   "cell_type": "code",
   "execution_count": 18,
   "id": "819df023",
   "metadata": {},
   "outputs": [
    {
     "name": "stdout",
     "output_type": "stream",
     "text": [
      "{1, 2, 4, 5, 6} {1, 2, 5, 7, 9}\n"
     ]
    },
    {
     "data": {
      "text/plain": [
       "({4, 6}, {7, 9}, [4, 6, 9, 7])"
      ]
     },
     "execution_count": 18,
     "metadata": {},
     "output_type": "execute_result"
    }
   ],
   "source": [
    "difference([1,2,4,5,6], [1,2,5,7,9])"
   ]
  },
  {
   "cell_type": "markdown",
   "id": "e63a863b",
   "metadata": {},
   "source": [
    "* With list comprehension"
   ]
  },
  {
   "cell_type": "code",
   "execution_count": 19,
   "id": "1c4ea92e",
   "metadata": {},
   "outputs": [],
   "source": [
    "def difference_lc(lst_a, lst_b):\n",
    "    return [x for x in lst_a if x not in lst_b] + [x for x in lst_b if x not in lst_a]"
   ]
  },
  {
   "cell_type": "code",
   "execution_count": 20,
   "id": "acbe9c86",
   "metadata": {},
   "outputs": [
    {
     "data": {
      "text/plain": [
       "[4, 6, 7, 9]"
      ]
     },
     "execution_count": 20,
     "metadata": {},
     "output_type": "execute_result"
    }
   ],
   "source": [
    "difference_lc([1,2,4,5,6], [1,2,5,7,9])"
   ]
  },
  {
   "cell_type": "markdown",
   "id": "ce62a146",
   "metadata": {},
   "source": [
    "### **Day 28: Return Indexes** \n",
    "* Write a function called `index_position`. \n",
    "    - This function takes a string as a parameter and returns the positions, or indexes, of all lowercase letters in the string. \n",
    "    - For example, \"LovE\" should return [1, 2]."
   ]
  },
  {
   "cell_type": "code",
   "execution_count": 21,
   "id": "1a8587b4",
   "metadata": {},
   "outputs": [],
   "source": [
    "def index_position(str_prm):\n",
    "    return [f'lowercase letter of : {letter} at index position {i}' for i,letter in \n",
    "            enumerate(str_prm) if letter.islower()]"
   ]
  },
  {
   "cell_type": "code",
   "execution_count": 22,
   "id": "5a05e94d",
   "metadata": {},
   "outputs": [
    {
     "data": {
      "text/plain": [
       "['lowercase letter of : o at index position 1',\n",
       " 'lowercase letter of : v at index position 2']"
      ]
     },
     "execution_count": 22,
     "metadata": {},
     "output_type": "execute_result"
    }
   ],
   "source": [
    "index_position('LovE')"
   ]
  },
  {
   "cell_type": "markdown",
   "id": "e0394837",
   "metadata": {},
   "source": [
    "#### `Extra Challenge: Largest Number`\n",
    "* Write a function called `largest_number` that takes a list of integers and re-arranges the individual digits to create the largest number possible. \n",
    "* For example, if you pass the following as an argument, list1 = [3, 67, 87, 9, 2]. \n",
    "    - Your code should return the number in this exact format: 9,877,632 as the largest number.\n"
   ]
  },
  {
   "cell_type": "code",
   "execution_count": 23,
   "id": "8e91f449",
   "metadata": {},
   "outputs": [],
   "source": [
    "def largest_number_test(int_lst):\n",
    "    individual_nums = []\n",
    "    # mutate values to a str to check for length and separate numbers\n",
    "    str_lst = [str(x) for x in int_lst]\n",
    "    for str_num in str_lst:\n",
    "        while len(str_num) > 1:\n",
    "            # add first index of string to list and\n",
    "            individual_nums.append(int(str_num[0]))\n",
    "            # set new value of string to be evaluated in next while check\n",
    "            str_num = str_num[1:]\n",
    "        # if less append int value to individual_nums\n",
    "        individual_nums.append(int(str_num[0]))\n",
    "    return individual_nums"
   ]
  },
  {
   "cell_type": "code",
   "execution_count": 24,
   "id": "67f49141",
   "metadata": {},
   "outputs": [
    {
     "data": {
      "text/plain": [
       "[3, 6, 7, 8, 7, 4, 5, 3, 9, 2]"
      ]
     },
     "execution_count": 24,
     "metadata": {},
     "output_type": "execute_result"
    }
   ],
   "source": [
    "largest_number_test([3, 67, 87453, 9, 2])"
   ]
  },
  {
   "cell_type": "markdown",
   "id": "7735ae7f",
   "metadata": {},
   "source": [
    "#### Quick Explanation of While\n",
    "* For the value **87453** in the list above here is how it works in slicing a new value of a string to in a way recursively cut down the value to a single value\n",
    "    - First Loop (87453)\n",
    "        - appends the 8 to the list\n",
    "        - resets the value ( in the while condition : str value of each index in the argument) being mutated to 7453\n",
    "    - Second Loop(7453)\n",
    "        - appends the 7 to the list\n",
    "        - resets the value to 453\n",
    "* Most importantly this works as the while value in the condition is being `mutated` after each capture of the int value at the beginning of the string (so in a sense just chopping and checking the value)"
   ]
  },
  {
   "cell_type": "code",
   "execution_count": 25,
   "id": "5e0a6e0b",
   "metadata": {},
   "outputs": [],
   "source": [
    "def largest_number(int_lst):\n",
    "    individual_nums = []\n",
    "    # mutate values to a str to check for length and separate numbers\n",
    "    str_lst = [str(x) for x in int_lst]\n",
    "    for str_num in str_lst:\n",
    "        while len(str_num) > 1:\n",
    "            # add first index of string to list and\n",
    "            individual_nums.append(int(str_num[0]))\n",
    "            # set new value of string to be evaluated in next while check\n",
    "            str_num = str_num[1:]\n",
    "        # if less append int value to individual_nums\n",
    "        individual_nums.append(int(str_num[0]))\n",
    "    return sorted(individual_nums, reverse=True)"
   ]
  },
  {
   "cell_type": "code",
   "execution_count": 26,
   "id": "11811694",
   "metadata": {},
   "outputs": [
    {
     "name": "stdout",
     "output_type": "stream",
     "text": [
      "Here is the individual integers sorted : [9, 8, 7, 7, 6, 3, 2]\n",
      "Here is the string of all integers combined and sorted : 9877632\n"
     ]
    }
   ],
   "source": [
    "test = largest_number([3, 67, 87, 9, 2])\n",
    "print(f'Here is the individual integers sorted : {test}')\n",
    "# Convert each index back to a str to create a string \n",
    "test_str = ''.join([str(x) for x in test])\n",
    "print(f'Here is the string of all integers combined and sorted : {test_str}')"
   ]
  },
  {
   "cell_type": "markdown",
   "id": "ce275476",
   "metadata": {},
   "source": [
    "* Have to then mutate the string value (last ouput above) to an int so the string can then be formated"
   ]
  },
  {
   "cell_type": "code",
   "execution_count": 27,
   "id": "4894cf5c",
   "metadata": {},
   "outputs": [
    {
     "name": "stdout",
     "output_type": "stream",
     "text": [
      "Python 3 formatted string with commas : 9,877,632\n",
      "Python 2 formatted string with commas : 9,877,632\n"
     ]
    }
   ],
   "source": [
    "num_sorted_value = int(test_str) # can't format a str needs to be an int\n",
    "test_str_formatted_3, test_str_formatted_2 = f'{num_sorted_value:,}', '{:,}'.format(num_sorted_value)\n",
    "print(f'Python 3 formatted string with commas : {test_str_formatted_3}')\n",
    "print(f'Python 2 formatted string with commas : {test_str_formatted_2}')"
   ]
  },
  {
   "cell_type": "markdown",
   "id": "720204e5",
   "metadata": {},
   "source": [
    "### **Day 29: Middle Figure**\n",
    "\n",
    "* Write a function called `middle_figure` that takes two parameters, a and b. \n",
    "* The two parameters are strings. \n",
    "* The function joins the two strings and finds the middle element. \n",
    "* If the combined string has a middle element, the function should return the element; otherwise, it should return \"no middle figure.\" \n",
    "* Use \"make love\" as an argument for a, and \"not wars\" as an argument for b. \n",
    "* Your function should return \"e\" as the middle element. Whitespaces should be removed."
   ]
  },
  {
   "cell_type": "code",
   "execution_count": 28,
   "id": "4e30d275",
   "metadata": {},
   "outputs": [],
   "source": [
    "def middle_figure(a, b):\n",
    "    import re\n",
    "    all_words = []\n",
    "    for passed_string in [a, b]:\n",
    "        found_words = re.findall(r'\\w+', passed_string)\n",
    "        # unpack list return into all words list to avoid list of lists\n",
    "        all_words.extend(found_words)\n",
    "    # all found words now in all_words as one single array, will join for combined string\n",
    "    combined_string = ''.join(all_words)\n",
    "    if len(combined_string) % 2 != 0:\n",
    "        print('This combined string has an odd length and thus ... a middle element!')\n",
    "        # Can take advantage of zero indexing for str and use floor division to get the middle argument \n",
    "        # Example 15 // 2 == 7 and a str of len 15 would have a middle argument at 7 with the zero indexing of a str\n",
    "        middle_element = combined_string[len(combined_string) // 2]\n",
    "        return f'The middle element for the combined string of {combined_string} is : {middle_element}'\n",
    "    return all_words, combined_string, len(combined_string)"
   ]
  },
  {
   "cell_type": "code",
   "execution_count": 29,
   "id": "c71c2858",
   "metadata": {},
   "outputs": [
    {
     "name": "stdout",
     "output_type": "stream",
     "text": [
      "This combined string has an odd length and thus ... a middle element!\n"
     ]
    },
    {
     "data": {
      "text/plain": [
       "'The middle element for the combined string of makelovenotwars is : e'"
      ]
     },
     "execution_count": 29,
     "metadata": {},
     "output_type": "execute_result"
    }
   ],
   "source": [
    "middle_figure('make love', 'not wars')"
   ]
  },
  {
   "cell_type": "markdown",
   "id": "ce255db2",
   "metadata": {},
   "source": [
    "### **Day 30: Most Repeated Name**\n",
    "\n",
    "* Write a function called `repeated_name` that finds the most repeated name in the following list.\n",
    "```python\n",
    "name = [\"John\", \"Peter\", \"John\", \"Peter\", \"Jones\", \"Peter\"]\n",
    "```"
   ]
  },
  {
   "cell_type": "code",
   "execution_count": 30,
   "id": "06f9d8d1",
   "metadata": {},
   "outputs": [],
   "source": [
    "def repeated_names(lst):\n",
    "    import collections\n",
    "    return collections.Counter(lst)"
   ]
  },
  {
   "cell_type": "code",
   "execution_count": 31,
   "id": "dbf48e78",
   "metadata": {},
   "outputs": [],
   "source": [
    "name_counter = repeated_names(['John', 'Peter', 'John', 'Peter', 'Jones', 'Peter'])"
   ]
  },
  {
   "cell_type": "code",
   "execution_count": 32,
   "id": "c1f274f9",
   "metadata": {},
   "outputs": [
    {
     "data": {
      "text/plain": [
       "[('Peter', 3), ('John', 2), ('Jones', 1)]"
      ]
     },
     "execution_count": 32,
     "metadata": {},
     "output_type": "execute_result"
    }
   ],
   "source": [
    "name_counter.most_common()"
   ]
  },
  {
   "cell_type": "markdown",
   "id": "ee45ca55",
   "metadata": {},
   "source": [
    "* Looking at the `dir` of the return counter object showed a most_common function that returns a tuple of all items and their respective counted in sorted order for their respective counts"
   ]
  },
  {
   "cell_type": "code",
   "execution_count": 33,
   "id": "42dfab6d",
   "metadata": {},
   "outputs": [
    {
     "data": {
      "text/plain": [
       "'Peter'"
      ]
     },
     "execution_count": 33,
     "metadata": {},
     "output_type": "execute_result"
    }
   ],
   "source": [
    "most_common_name = name_counter.most_common()[0][0] # index first sorted item (most return) and the name from the tuple object\n",
    "most_common_name"
   ]
  },
  {
   "cell_type": "markdown",
   "id": "003814d9",
   "metadata": {},
   "source": [
    "#### **`Extra Challenge: Sort by Last Name`** \n",
    "\n",
    "You work for a local school in your area. The school has a list of names of students saved in a list. The school has asked you to write a program that takes a list of names and sorts them alphabetically. The names should be sorted by last names. Here is a list of names:\n",
    "```python\n",
    "[\"Beyoncé Knowles\", \"Alicia Keys\", \"Katie Perry\", \"Chris Brown\", \"Tom Cruise”]\n",
    "```\n",
    "\n",
    "Your code should not just sort them alphabetically; it should also switch the names (the last\n",
    "name must be the first). \n",
    "* Here is how your code output should look: \n",
    "```python\n",
    "['Brown Chris', 'Cruise Tom', 'Keys Alicia', 'Knowles Beyoncé', 'Perry Katie'] \n",
    "```\n",
    "\n",
    "* The function should be called `sorted_names`.\n"
   ]
  },
  {
   "cell_type": "code",
   "execution_count": 52,
   "id": "358c4530",
   "metadata": {},
   "outputs": [],
   "source": [
    "def sorted_names(names):\n",
    "    # let's make a list of tuples for each name and then use the key in sorted with a lambda (split on space in name)\n",
    "    name_tuples = [tuple(x.split(' ')) for x in names]\n",
    "    # key is item to sort by (default ascending order)(using the last name or second item in each tuple)\n",
    "    lst_name_sorted = sorted(name_tuples, key=lambda x:x[1])\n",
    "    lst_name_sorted_no_tuples = [f'{x[0]} {x[1]}' for x in lst_name_sorted]\n",
    "    # Switch names (last first)\n",
    "    switched_sorted = [f'{x[1]} {x[0]}' for x in lst_name_sorted]\n",
    "    # print sorted and original names before return the above list\n",
    "    print(f'Original list provided : {names}. Sorted by last name : {lst_name_sorted_no_tuples}')\n",
    "    return f'Here is the output with the last and first name switched after sorted by last name : {switched_sorted}'"
   ]
  },
  {
   "cell_type": "code",
   "execution_count": 53,
   "id": "c81a90b0",
   "metadata": {},
   "outputs": [
    {
     "name": "stdout",
     "output_type": "stream",
     "text": [
      "Original list provided : ['Beyoncé Knowles', 'Alicia Keys', 'Katie Perry', 'Chris Brown', 'Tom Cruise']. Sorted by last name : ['Chris Brown', 'Tom Cruise', 'Alicia Keys', 'Beyoncé Knowles', 'Katie Perry']\n"
     ]
    },
    {
     "data": {
      "text/plain": [
       "\"Here is the output with the last and first name switched after sorted by last name : ['Brown Chris', 'Cruise Tom', 'Keys Alicia', 'Knowles Beyoncé', 'Perry Katie']\""
      ]
     },
     "execution_count": 53,
     "metadata": {},
     "output_type": "execute_result"
    }
   ],
   "source": [
    "sorted_names([\"Beyoncé Knowles\", \"Alicia Keys\", \"Katie Perry\", \"Chris Brown\", \"Tom Cruise\"])"
   ]
  },
  {
   "cell_type": "code",
   "execution_count": 38,
   "id": "2091524d",
   "metadata": {},
   "outputs": [
    {
     "data": {
      "text/plain": [
       "('Chris', 'Brown')"
      ]
     },
     "execution_count": 38,
     "metadata": {},
     "output_type": "execute_result"
    }
   ],
   "source": [
    "tuple('Chris Brown'.split(' ')) # transform list value to a tuple"
   ]
  },
  {
   "cell_type": "markdown",
   "id": "b6ea09b9",
   "metadata": {},
   "source": [
    "### **Day 31: Longest Word**\n",
    "* Write a function that has one parameter and takes a list of words as an argument. \n",
    "* The function returns the longest word from the list. \n",
    "* Name the function `longest_word`. \n",
    "* The function should return the longest word and the number of letters in that word. \n",
    "    - For example, if you pass ['Java', 'JavaScript', 'Python'], your function should return [10, JavaScript] as the longest word.\n"
   ]
  },
  {
   "cell_type": "code",
   "execution_count": 11,
   "id": "2e1061e8",
   "metadata": {},
   "outputs": [],
   "source": [
    "def longest_word(lst_words):\n",
    "    # We want to use reduce here to cut through the list\n",
    "    import functools\n",
    "    longest_word = functools.reduce(lambda a, b: a if len(a) > len(b) else b, lst_words) # return is a string\n",
    "    return [len(longest_word) ,longest_word]"
   ]
  },
  {
   "cell_type": "code",
   "execution_count": 12,
   "id": "1dca4610",
   "metadata": {},
   "outputs": [
    {
     "data": {
      "text/plain": [
       "[10, 'JavaScript']"
      ]
     },
     "execution_count": 12,
     "metadata": {},
     "output_type": "execute_result"
    }
   ],
   "source": [
    "longest_word(['Java', 'JavaScript', 'Python'])"
   ]
  },
  {
   "cell_type": "markdown",
   "id": "240922a9",
   "metadata": {},
   "source": [
    "#### `Extra Challenge: Create User`\n",
    "* Write a function called create_user. \n",
    "    - This function asks the user to enter their `name, age, and password`. \n",
    "    - The function saves this information in a dictionary. \n",
    "    - For example, if the user enters Peter as his name, 18 as his age, and \"love\" as his password, the function should save the information as: {\"name\": \"Peter\", \"age\": \"18\", \"password\": \"love\"}\n",
    "\n",
    "* Once the information is saved, the function should print to the user, \n",
    "    - \"User saved. Please login\" \n",
    "* The function should then ask the user to re-enter their name and password. \n",
    "* If the name and password match what is saved in the dictionary, the function should return \"Logged in successfully.\" \n",
    "* If the name and password do not match what is saved in the dictionary, the function should print \"Wrong password or user name, please try again\". \n",
    "* The function should keep running until the user enters the correct logging details."
   ]
  },
  {
   "cell_type": "code",
   "execution_count": 71,
   "id": "88d9e672",
   "metadata": {},
   "outputs": [],
   "source": [
    "def create_user():\n",
    "    print('Time to create a user')\n",
    "    user_properties = {}\n",
    "    user_name, user_age, user_pw = False, False, False\n",
    "    while not user_name:\n",
    "        try:\n",
    "            user_name = str(input('Please enter your first_name : ').strip())\n",
    "            if (len(user_name) >= 2 and user_name.isalpha()):\n",
    "                user_properties['name'] = user_name\n",
    "                user_name = True\n",
    "            else:\n",
    "                raise TypeError\n",
    "        except TypeError:\n",
    "            print('Letters only please')\n",
    "            continue\n",
    "    # next block (age)\n",
    "    while not user_age:\n",
    "        try:\n",
    "            user_age = int(input('Please enter your age : '))\n",
    "            user_properties['age'] = str(user_age)\n",
    "            user_age = True\n",
    "        except ValueError:\n",
    "            print('Valid age please')\n",
    "            continue\n",
    "    # last block password\n",
    "    while not user_pw:\n",
    "        try:\n",
    "            user_pw = input('Please enter your password which must be at least six characters longs : ').strip()\n",
    "            if len(user_pw) >= 6:\n",
    "                user_properties['password'] = user_pw\n",
    "                user_pw = True\n",
    "            else:\n",
    "                raise TypeError\n",
    "        except TypeError:\n",
    "            print('Please enter a valid password')\n",
    "            continue\n",
    "    # now with user_properties set\n",
    "    user_login = False\n",
    "    while not user_login:\n",
    "        try:\n",
    "            print('Please enter your name and password')\n",
    "            name_attempt = str(input('Please enter your user_name : ').strip())\n",
    "            pass_attempt = str(input('Please enter your password : '))\n",
    "            if name_attempt == user_properties['name'] and pass_attempt == user_properties['password']:\n",
    "                print('You have Logged in successfully, {}!'.format(user_properties['name']))\n",
    "                user_login = True\n",
    "                return user_properties\n",
    "            else:\n",
    "                raise ValueError\n",
    "        except ValueError:\n",
    "            print('Your name and password did not match your user details, please try again')\n",
    "            continue"
   ]
  },
  {
   "cell_type": "code",
   "execution_count": 72,
   "id": "dbc46438",
   "metadata": {},
   "outputs": [
    {
     "name": "stdout",
     "output_type": "stream",
     "text": [
      "Time to create a user\n",
      "Please enter your first_name : \n",
      "Letters only please\n",
      "Please enter your first_name : Craig\n",
      "Please enter your age : eight\n",
      "Valid age please\n",
      "Please enter your age : 32\n",
      "Please enter your password which must be at least six characters longs : gooners\n",
      "Please enter your name and password\n",
      "Please enter your user_name : craig\n",
      "Please enter your password : gooners\n",
      "Your name and password did not match your user details, please try again\n",
      "Please enter your name and password\n",
      "Please enter your user_name : Craig\n",
      "Please enter your password : Gooners\n",
      "Your name and password did not match your user details, please try again\n",
      "Please enter your name and password\n",
      "Please enter your user_name : Craig\n",
      "Please enter your password : gooners\n",
      "You have Logged in successfully, Craig!\n"
     ]
    },
    {
     "data": {
      "text/plain": [
       "{'name': 'Craig', 'age': '32', 'password': 'gooners'}"
      ]
     },
     "execution_count": 72,
     "metadata": {},
     "output_type": "execute_result"
    }
   ],
   "source": [
    "create_user()"
   ]
  },
  {
   "cell_type": "markdown",
   "id": "70df618e",
   "metadata": {},
   "source": [
    "### **Day 32: Password Validator**\n",
    "* Write a function called `password_validator`. \n",
    "* The function asks the user to enter a password. \n",
    "* A valid password should have at least **one uppercase letter, one lowercase letter, and one number**. \n",
    "* It should not be less than 8 characters long. \n",
    "* When the user enters a password, the function should check if the password is valid. \n",
    "* If the password is valid, the function should return the valid password. \n",
    "* If the password is not valid, the function should inform the user of the errors in the password and prompt the user to enter another password. The code should only stop once the user enters a valid password."
   ]
  },
  {
   "cell_type": "code",
   "execution_count": 52,
   "id": "af53464c",
   "metadata": {},
   "outputs": [
    {
     "data": {
      "text/plain": [
       "['C']"
      ]
     },
     "execution_count": 52,
     "metadata": {},
     "output_type": "execute_result"
    }
   ],
   "source": [
    "import re\n",
    "re.findall(r'[A-Z]', 'Craig')"
   ]
  },
  {
   "cell_type": "code",
   "execution_count": 50,
   "id": "89dcc5c3",
   "metadata": {},
   "outputs": [
    {
     "name": "stdout",
     "output_type": "stream",
     "text": [
      "upper [A-Z] Craig\n",
      "lower [a-z] Craig\n",
      "number [\\d] Craig\n"
     ]
    },
    {
     "data": {
      "text/plain": [
       "{'upper': ['C'], 'lower': ['r', 'a', 'i', 'g'], 'number': [], 'length': False}"
      ]
     },
     "execution_count": 50,
     "metadata": {},
     "output_type": "execute_result"
    }
   ],
   "source": [
    "password_reqs = {'upper': r'[A-Z]', 'lower': r'[a-z]', 'number': r'[\\d]', 'length': 8}\n",
    "\n",
    "def password_value_check(user_value=None, password_reqs=password_reqs):\n",
    "    import re\n",
    "    password_results = {}\n",
    "    if not user_value:\n",
    "        raise ValueError('No user_password value submitted')\n",
    "    else: \n",
    "        for key, value in password_reqs.items():\n",
    "            if key != 'length':\n",
    "                print(key, value, user_value)\n",
    "                # see how many items we get in for each basic regEx check\n",
    "                password_results[key] = re.findall(value, user_value)\n",
    "            else:\n",
    "                password_results[key] = password_reqs[key] <= len('Craig')\n",
    "        return password_results\n",
    "    \n",
    "password_value_check('Craig', password_reqs)  "
   ]
  },
  {
   "cell_type": "code",
   "execution_count": 79,
   "id": "22a00be9",
   "metadata": {},
   "outputs": [],
   "source": [
    "def password_value_check(user_value=None, password_reqs=password_reqs):\n",
    "    import re\n",
    "    password_results = {}\n",
    "    if not user_value:\n",
    "        raise ValueError('No user_password value submitted')\n",
    "    else: \n",
    "        for key, value in password_reqs.items():\n",
    "            if key != 'length':\n",
    "                # see how many items we get in for each basic regEx check\n",
    "                password_results[key] = re.findall(value, user_value)\n",
    "            else:\n",
    "                password_results[key] = password_reqs[key] <= len(user_value)\n",
    "        return password_results\n",
    "\n",
    "def password_validator():\n",
    "    valid_user_pw = False\n",
    "    password_reqs = {'upper': r'[A-Z]', 'lower': r'[a-z]', 'number': r'[\\d]', 'length': 8}\n",
    "    while not valid_user_pw:\n",
    "        print(\n",
    "        '''\n",
    "        Please enter your password. See the below Requirements\\n\n",
    "        1) At least One Uppercase character\n",
    "        2) At least One Lowercase character\n",
    "        3) At least One Digit\n",
    "        4) At least 8 characters long\n",
    "        '''\n",
    "        )\n",
    "        user_password_check = {}\n",
    "        user_password = input('Please enter your password : ').strip() # trim leading/trailing whitespace\n",
    "        user_value_req_returns = password_value_check(user_password, password_reqs)\n",
    "        # create another key/value pair for each password reqs and valiade all keys are True\n",
    "        # check length of regular expression found all basic checks at least greater > 1\n",
    "        user_value_req_checks = {k:len(v) >= 1 for k, v in user_value_req_returns.items() if k != 'length'}\n",
    "        # now just take the conditional check from the helper function and add to the checks from the \n",
    "        # returns performed by helper function\n",
    "        user_value_req_checks['length'] = user_value_req_returns['length']\n",
    "        # Likely a better way to return but just for fun we can return the counts/check values\n",
    "        print(f'''\n",
    "        Respective password value for spec_characters & length check  : {user_value_req_returns}\n",
    "        Did they pass the requirements stated? : {user_value_req_checks}\n",
    "        ''')\n",
    "        # see if all values in user_value_req_checks True, if so return the password, else continue with while loop\n",
    "        if all(value == True for value in user_value_req_checks.values()):\n",
    "            valid_user_pw = True\n",
    "            return f'Here is your valid password : {user_password}'\n",
    "        else:\n",
    "            failed_conditions = {key for key, value in user_value_req_checks.items() if value != True}\n",
    "            print(f'''\n",
    "            These respective condition(s) failed : {failed_conditions}\n",
    "            ''')\n",
    "            continue\n",
    "        "
   ]
  },
  {
   "cell_type": "code",
   "execution_count": 80,
   "id": "61701e92",
   "metadata": {},
   "outputs": [
    {
     "name": "stdout",
     "output_type": "stream",
     "text": [
      "\n",
      "        Please enter your password. See the below Requirements\n",
      "\n",
      "        1) At least One Uppercase character\n",
      "        2) At least One Lowercase character\n",
      "        3) At least One Digit\n",
      "        4) At least 8 characters long\n",
      "        \n",
      "Please enter your password : yogurt\n",
      "\n",
      "        Respective password value for spec_characters & length check  : {'upper': [], 'lower': ['y', 'o', 'g', 'u', 'r', 't'], 'number': [], 'length': False}\n",
      "        Did they pass the requirements stated? : {'upper': False, 'lower': True, 'number': False, 'length': False}\n",
      "        \n",
      "\n",
      "            These respective condition(s) failed : {'upper', 'number', 'length'}\n",
      "            \n",
      "\n",
      "        Please enter your password. See the below Requirements\n",
      "\n",
      "        1) At least One Uppercase character\n",
      "        2) At least One Lowercase character\n",
      "        3) At least One Digit\n",
      "        4) At least 8 characters long\n",
      "        \n",
      "Please enter your password : Yogurt1\n",
      "\n",
      "        Respective password value for spec_characters & length check  : {'upper': ['Y'], 'lower': ['o', 'g', 'u', 'r', 't'], 'number': ['1'], 'length': False}\n",
      "        Did they pass the requirements stated? : {'upper': True, 'lower': True, 'number': True, 'length': False}\n",
      "        \n",
      "\n",
      "            These respective condition(s) failed : {'length'}\n",
      "            \n",
      "\n",
      "        Please enter your password. See the below Requirements\n",
      "\n",
      "        1) At least One Uppercase character\n",
      "        2) At least One Lowercase character\n",
      "        3) At least One Digit\n",
      "        4) At least 8 characters long\n",
      "        \n",
      "Please enter your password : YELLINGGG1\n",
      "\n",
      "        Respective password value for spec_characters & length check  : {'upper': ['Y', 'E', 'L', 'L', 'I', 'N', 'G', 'G', 'G'], 'lower': [], 'number': ['1'], 'length': True}\n",
      "        Did they pass the requirements stated? : {'upper': True, 'lower': False, 'number': True, 'length': True}\n",
      "        \n",
      "\n",
      "            These respective condition(s) failed : {'lower'}\n",
      "            \n",
      "\n",
      "        Please enter your password. See the below Requirements\n",
      "\n",
      "        1) At least One Uppercase character\n",
      "        2) At least One Lowercase character\n",
      "        3) At least One Digit\n",
      "        4) At least 8 characters long\n",
      "        \n",
      "Please enter your password : VaderRules29\n",
      "\n",
      "        Respective password value for spec_characters & length check  : {'upper': ['V', 'R'], 'lower': ['a', 'd', 'e', 'r', 'u', 'l', 'e', 's'], 'number': ['2', '9'], 'length': True}\n",
      "        Did they pass the requirements stated? : {'upper': True, 'lower': True, 'number': True, 'length': True}\n",
      "        \n"
     ]
    },
    {
     "data": {
      "text/plain": [
       "'Here is your valid password : VaderRules29'"
      ]
     },
     "execution_count": 80,
     "metadata": {},
     "output_type": "execute_result"
    }
   ],
   "source": [
    "password_validator()"
   ]
  },
  {
   "cell_type": "markdown",
   "id": "dfd0abc3",
   "metadata": {},
   "source": [
    "#### `Extra Challenge: Valid Email`\n",
    "```python\n",
    "emails = ['ben@mail.com', 'john@mail.cm', 'kenny@gmail.com', '@list.com']\n",
    "```\n",
    "* Write a function called `email_validator` that takes a list of emails and checks if the emails are valid. \n",
    "    * Only valid emails are returned by the function. \n",
    "    * A valid email address will have the following: \n",
    "        - the @ symbol (if the @ sign is at the beginning of the name, the email is invalid). \n",
    "        - If there is more than one @ sign, the email is invalid. \n",
    "        - All valid emails must end with a dot com (.com); otherwise, the email is invalid. \n",
    "    * For example, the list of emails above should output the following as valid emails: ['ben@mail.com', 'kenny@gmail.com'] If no emails in the list are valid, the function should return `\"all emails are invalid.\"`\n"
   ]
  },
  {
   "cell_type": "code",
   "execution_count": 139,
   "id": "ff4f4679",
   "metadata": {},
   "outputs": [
    {
     "name": "stdout",
     "output_type": "stream",
     "text": [
      "Your email does not have a valid .com ending signature : john@mail.cm\n",
      "Your email address @ alias occurred prior to a recognizable addres : @list.com\n",
      "['ben@mail.com', 'kenny@gmail.com']\n",
      "\n",
      "\n",
      "Your email address @ alias occurred prior to a recognizable addres : @easter.com\n",
      "Your email has more than one at sign : h3ll.com\n",
      "Your email has more than one at sign : dinos@ur@extinct.com\n",
      "all emails are invalid\n"
     ]
    }
   ],
   "source": [
    "def email_validator(lst_emails):\n",
    "    valid_emails = []\n",
    "    # The `continue` statement in Python is used to skip the remaining code inside a loop for the current iteration only.\n",
    "    for eml in lst_emails:\n",
    "        valid_ending = re.search(r'.com$', eml) # looking at ending of string\n",
    "        # None type return is not found\n",
    "        if valid_ending is None:\n",
    "            print(f'Your email does not have a valid .com ending signature : {eml}')\n",
    "            continue # move to next email\n",
    "        valid_at_alias = re.findall(r'@', eml) # counting all occurences of found '@'\n",
    "        if len(valid_at_alias) != 1:\n",
    "            print(f'Your email has more than one at sign : {eml}')\n",
    "            continue # move to next email\n",
    "        at_location = re.search(r'[@]', eml).span()[0] # picking up location of @ (must have ... three characters before lol)\n",
    "        if at_location <= 2:\n",
    "            print(f'Your email address @ alias occurred prior to a recognizable addres : {eml}')\n",
    "            continue\n",
    "        # we should have broke if any exception found in which case will simply add the email now\n",
    "        valid_emails.append(eml)\n",
    "    return valid_emails if len(valid_emails) >= 1 else 'all emails are invalid'\n",
    "\n",
    "print(email_validator(['ben@mail.com', 'john@mail.cm', 'kenny@gmail.com', '@list.com']))\n",
    "print('\\n')\n",
    "print(email_validator(['@easter.com', 'h3ll.com', 'dinos@ur@extinct.com']))"
   ]
  },
  {
   "cell_type": "code",
   "execution_count": 127,
   "id": "303a92b5",
   "metadata": {},
   "outputs": [
    {
     "data": {
      "text/plain": [
       "(re.Match, NoneType)"
      ]
     },
     "execution_count": 127,
     "metadata": {},
     "output_type": "execute_result"
    }
   ],
   "source": [
    "hi = re.search(r'.com$', 'em@ail@email.com')\n",
    "hi_bye = re.search(r'.com$', 'em@ail@email.comz')\n",
    "type(hi), type(hi_bye)"
   ]
  },
  {
   "cell_type": "code",
   "execution_count": 140,
   "id": "0a743b3a",
   "metadata": {},
   "outputs": [
    {
     "data": {
      "text/plain": [
       "<re.Match object; span=(0, 12), match='Isaac Newton'>"
      ]
     },
     "execution_count": 140,
     "metadata": {},
     "output_type": "execute_result"
    }
   ],
   "source": [
    "m = re.match(r\"(\\w+) (\\w+)\", \"Isaac Newton, physicist\")\n",
    "m"
   ]
  },
  {
   "cell_type": "code",
   "execution_count": 129,
   "id": "081b68e1",
   "metadata": {},
   "outputs": [
    {
     "name": "stdout",
     "output_type": "stream",
     "text": [
      "None Type is caught by None\n"
     ]
    }
   ],
   "source": [
    "if hi_bye is None:\n",
    "    print('None Type is caught by None')"
   ]
  },
  {
   "cell_type": "code",
   "execution_count": 135,
   "id": "98ef2bd7",
   "metadata": {},
   "outputs": [
    {
     "data": {
      "text/plain": [
       "(2, 3)"
      ]
     },
     "execution_count": 135,
     "metadata": {},
     "output_type": "execute_result"
    }
   ],
   "source": [
    "re.search(r'[@]', 'em@ail@.com').span() # returns the index where it's found (just the first one )"
   ]
  }
 ],
 "metadata": {
  "kernelspec": {
   "display_name": "Python 3 (ipykernel)",
   "language": "python",
   "name": "python3"
  },
  "language_info": {
   "codemirror_mode": {
    "name": "ipython",
    "version": 3
   },
   "file_extension": ".py",
   "mimetype": "text/x-python",
   "name": "python",
   "nbconvert_exporter": "python",
   "pygments_lexer": "ipython3",
   "version": "3.9.12"
  }
 },
 "nbformat": 4,
 "nbformat_minor": 5
}
