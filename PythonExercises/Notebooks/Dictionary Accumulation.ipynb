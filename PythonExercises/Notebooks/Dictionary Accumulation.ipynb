{
 "cells": [
  {
   "cell_type": "markdown",
   "id": "309a132e",
   "metadata": {},
   "source": [
    "#### Total Credits\n",
    "* The dictionary Junior shows a schedule for a junior year semester. The key is the course name and the value is the number of credits. Find the total number of credits taken this semester and assign it to the variable credits. Do not hardcode this – use dictionary accumulation!"
   ]
  },
  {
   "cell_type": "code",
   "execution_count": 1,
   "id": "59ce325b",
   "metadata": {},
   "outputs": [
    {
     "name": "stdout",
     "output_type": "stream",
     "text": [
      "18\n"
     ]
    }
   ],
   "source": [
    "Junior = {'SI 206':4, 'SI 310':4, 'BL 300':3, 'TO 313':3, 'BCOM 350':1, 'MO 300':3}\n",
    "credits = 0\n",
    "for credit in Junior.values(): # values a dict_list is iterable\n",
    "    credits += credit\n",
    "print(credits)\n"
   ]
  },
  {
   "cell_type": "markdown",
   "id": "efdf9524",
   "metadata": {},
   "source": [
    "#### Get/Set Values\n",
    "* Create a dictionary, freq, that displays each character in string str1 as the key and its frequency as the value."
   ]
  },
  {
   "cell_type": "code",
   "execution_count": 2,
   "id": "90ad63a3",
   "metadata": {},
   "outputs": [
    {
     "name": "stdout",
     "output_type": "stream",
     "text": [
      "{'p': 9, 'e': 8, 't': 1, 'r': 3, ' ': 7, 'i': 3, 'c': 3, 'k': 3, 'd': 2, 'a': 1, 'o': 1, 'f': 1, 'l': 1, 's': 1}\n"
     ]
    }
   ],
   "source": [
    "str1 = \"peter piper picked a peck of pickled peppers\"\n",
    "freq = {}\n",
    "for char in str1:\n",
    "    freq[char] = freq.get(char, 0) + 1 # get/set/update key in one line! Second argument sets default value if not found in dictionary\n",
    "    \n",
    "print(freq)"
   ]
  },
  {
   "cell_type": "markdown",
   "id": "4fd032ee",
   "metadata": {},
   "source": [
    "* Provided is a string saved to the variable name s1. Create a dictionary named counts that contains each letter in s1 and the number of times it occurs."
   ]
  },
  {
   "cell_type": "code",
   "execution_count": 3,
   "id": "e2696e33",
   "metadata": {},
   "outputs": [
    {
     "name": "stdout",
     "output_type": "stream",
     "text": [
      "{'h': 1, 'e': 1, 'l': 2, 'o': 1}\n"
     ]
    }
   ],
   "source": [
    "s1 = \"hello\"\n",
    "counts = {}\n",
    "for char in s1:\n",
    "    counts[char] = counts.get(char, 0) + 1\n",
    "print(counts)"
   ]
  },
  {
   "cell_type": "markdown",
   "id": "5a508ef8",
   "metadata": {},
   "source": [
    "* Create a dictionary, freq_words, that contains each word in string str1 as the key and its frequency as the value."
   ]
  },
  {
   "cell_type": "code",
   "execution_count": 4,
   "id": "bae4afb3",
   "metadata": {},
   "outputs": [
    {
     "name": "stdout",
     "output_type": "stream",
     "text": [
      "{'I': 2, 'wish': 2, 'with': 2, 'all': 1, 'my': 1, 'heart': 1, 'to': 1, 'fly': 1, 'dragons': 1, 'in': 1, 'a': 1, 'land': 1, 'apart': 1}\n"
     ]
    }
   ],
   "source": [
    "str1 = \"I wish I wish with all my heart to fly with dragons in a land apart\"\n",
    "\n",
    "freq_words = {}\n",
    "for word in str1.split():\n",
    "    freq_words[word] = freq_words.get(word, 0) + 1\n",
    "print(freq_words)\n"
   ]
  },
  {
   "cell_type": "code",
   "execution_count": 5,
   "id": "98aba205",
   "metadata": {},
   "outputs": [
    {
     "name": "stdout",
     "output_type": "stream",
     "text": [
      "{'Singing': 1, 'in': 2, 'the': 2, 'rain': 2, 'and': 1, 'playing': 1, 'are': 1, 'two': 1, 'entirely': 1, 'different': 1, 'situations': 1, 'but': 1, 'both': 1, 'can': 1, 'be': 1, 'good': 1}\n"
     ]
    }
   ],
   "source": [
    "sent = \"Singing in the rain and playing in the rain are two entirely different situations but both can be good\"\n",
    "wrd_d = {}\n",
    "for word in sent.split():\n",
    "    wrd_d[word] = wrd_d.get(word, 0) + 1\n",
    "print(wrd_d)\n"
   ]
  },
  {
   "cell_type": "markdown",
   "id": "67ddcd63",
   "metadata": {},
   "source": [
    "#### Most Occuring Char\n",
    "* Create the dictionary characters that shows each character from the string sally and its frequency. Then, find the most frequent letter based on the dictionary. Assign this letter to the variable best_char."
   ]
  },
  {
   "cell_type": "code",
   "execution_count": 7,
   "id": "ecff7f25",
   "metadata": {},
   "outputs": [
    {
     "name": "stdout",
     "output_type": "stream",
     "text": [
      "{'s': 8, 'a': 3, 'l': 6, 'y': 2, ' ': 7, 'e': 6, 'h': 3, 'b': 1, 't': 1, 'o': 1, 'r': 1}\n",
      "[8, 3, 6, 2, 7, 6, 3, 1, 1, 1, 1]\n",
      "0\n",
      "['s', 'a', 'l', 'y', ' ', 'e', 'h', 'b', 't', 'o', 'r']\n",
      "s\n",
      "dict_items([('s', 8), ('a', 3), ('l', 6), ('y', 2), (' ', 7), ('e', 6), ('h', 3), ('b', 1), ('t', 1), ('o', 1), ('r', 1)])\n"
     ]
    }
   ],
   "source": [
    "sally = \"sally sells sea shells by the sea shore\"\n",
    "characters = {}\n",
    "for char in sally:\n",
    "    characters[char] = characters.get(char,0) + 1\n",
    "\n",
    "print(characters)\n",
    "values = list(characters.values())    \n",
    "max_value_idx = values.index(max(values)) # most frequent letter count index position in the values list \n",
    "print(values)\n",
    "print(max_value_idx)\n",
    "best_char = list(characters.keys())[max_value_idx]\n",
    "print(list(characters.keys())) # subscriptable list we are passing our max_value idx to\n",
    "print(best_char) # character with highest counts\n",
    "## just to see thep pairs\n",
    "print(characters.items())\n"
   ]
  },
  {
   "cell_type": "code",
   "execution_count": 13,
   "id": "2477921b",
   "metadata": {},
   "outputs": [],
   "source": [
    "most_occuring_keys_sorted = sorted(characters, key=lambda x: characters[x], reverse=True)"
   ]
  },
  {
   "cell_type": "code",
   "execution_count": 14,
   "id": "80722f84",
   "metadata": {},
   "outputs": [
    {
     "name": "stdout",
     "output_type": "stream",
     "text": [
      "The character with the highest occurences was, s, which occured : 8 times!\n"
     ]
    }
   ],
   "source": [
    "print(\"The character with the highest occurences was, {}, which occured : {} times!\".format(most_occuring_keys_sorted[0], characters[most_occuring_keys_sorted[0]]))"
   ]
  },
  {
   "cell_type": "code",
   "execution_count": 23,
   "id": "c41c4eba",
   "metadata": {},
   "outputs": [
    {
     "name": "stdout",
     "output_type": "stream",
     "text": [
      "s\n"
     ]
    }
   ],
   "source": [
    "# This works too haha\n",
    "best_char = max(characters, key=lambda x: characters[x])\n",
    "print(best_char)"
   ]
  },
  {
   "cell_type": "code",
   "execution_count": 21,
   "id": "870a9d12",
   "metadata": {},
   "outputs": [
    {
     "name": "stdout",
     "output_type": "stream",
     "text": [
      "[('b', 1), ('t', 1), ('o', 1), ('r', 1), ('y', 2), ('a', 3), ('h', 3), ('l', 6), ('e', 6), (' ', 7), ('s', 8)]\n",
      "{'b': 1, 't': 1, 'o': 1, 'r': 1, 'y': 2, 'a': 3, 'h': 3, 'l': 6, 'e': 6, ' ': 7, 's': 8}\n",
      "{'s': 8, ' ': 7, 'l': 6, 'e': 6, 'a': 3, 'h': 3, 'y': 2, 'b': 1, 't': 1, 'o': 1, 'r': 1}\n",
      "Result dictionary sorted by values (in reversed order) : {'s': 8, ' ': 7, 'l': 6, 'e': 6, 'a': 3, 'h': 3, 'y': 2, 'b': 1, 't': 1, 'o': 1, 'r': 1}\n"
     ]
    }
   ],
   "source": [
    "print(list(sorted(characters.items(), key = lambda ele: ele[1]))) # items method to use second item in tuple (key's value as key to sort by)\n",
    "characters_sorted = {k:v for k, v in sorted(characters.items(), key = lambda ele: ele[1])}\n",
    "print(characters_sorted)\n",
    "characters_sorted_reversed = {k:v for k, v in sorted(characters.items(), key= lambda x: x[1], reverse=True)}\n",
    "print(characters_sorted_reversed)\n",
    "print(\"Result dictionary sorted by values (in reversed order) : \"+ str(characters_sorted_reversed))"
   ]
  },
  {
   "cell_type": "code",
   "execution_count": 15,
   "id": "52fd3582",
   "metadata": {},
   "outputs": [
    {
     "name": "stdout",
     "output_type": "stream",
     "text": [
      "The original dictionary is :{'Gfg': 5, 'is': 7, 'Best': 2, 'for': 9, 'geeks': 8}\n",
      "Result dictionary sorted by keys :{'Best': 2, 'Gfg': 5, 'for': 9, 'geeks': 8, 'is': 7}\n",
      "Result dictionary sorted by keys (in reversed order) :{'is': 7, 'geeks': 8, 'for': 9, 'Gfg': 5, 'Best': 2}\n"
     ]
    }
   ],
   "source": [
    "# Python3 code to demonstrate working of \n",
    "# Sort a Dictionary\n",
    "# Sort by Keys\n",
    "  \n",
    "# initializing dictionary\n",
    "test_dict = {\"Gfg\": 5,\"is\": 7,\"Best\": 2,\"for\": 9,\"geeks\": 8}\n",
    "  \n",
    "# printing original dictionary\n",
    "print(\"The original dictionary is :\"+ str(test_dict))\n",
    "  \n",
    "# using items() to get all items \n",
    "# lambda function is passed in key to perform sort by key \n",
    "res = {key: val for key, val in sorted(test_dict.items(), key = lambda ele: ele[0])}\n",
    "  \n",
    "# printing result \n",
    "print(\"Result dictionary sorted by keys :\"+ str(res)) \n",
    "  \n",
    "# using items() to get all items \n",
    "# lambda function is passed in key to perform sort by key \n",
    "# adding\"reversed = True\"for reversed order\n",
    "res = {key: val for key, val in sorted(test_dict.items(), key = lambda ele: ele[0], reverse = True)}\n",
    "  \n",
    "# printing result \n",
    "print(\"Result dictionary sorted by keys (in reversed order) :\"+ str(res)) "
   ]
  },
  {
   "cell_type": "code",
   "execution_count": 16,
   "id": "820ea3ef",
   "metadata": {},
   "outputs": [
    {
     "name": "stdout",
     "output_type": "stream",
     "text": [
      "The original dictionary is :{'Gfg': 5, 'is': 7, 'Best': 2, 'for': 9, 'geeks': 8}\n",
      "Result dictionary sorted by values :{'Best': 2, 'Gfg': 5, 'is': 7, 'geeks': 8, 'for': 9}\n",
      "Result dictionary sorted by values (in reversed order) :{'for': 9, 'geeks': 8, 'is': 7, 'Gfg': 5, 'Best': 2}\n"
     ]
    }
   ],
   "source": [
    "# Python3 code to demonstrate working of \n",
    "# Sort a Dictionary\n",
    "# Sort by Values \n",
    "  \n",
    "# initializing dictionary\n",
    "test_dict = {\"Gfg\": 5,\"is\": 7,\"Best\": 2,\"for\": 9,\"geeks\": 8}\n",
    "  \n",
    "# printing original dictionary\n",
    "print(\"The original dictionary is :\"+ str(test_dict))\n",
    "  \n",
    "# using items() to get all items \n",
    "# lambda function is passed in key to perform sort by key \n",
    "# passing 2nd element of items()\n",
    "res = {key: val for key, val in sorted(test_dict.items(), key = lambda ele: ele[1])}\n",
    "  \n",
    "# printing result \n",
    "print(\"Result dictionary sorted by values :\"+ str(res)) \n",
    "  \n",
    "# using items() to get all items \n",
    "# lambda function is passed in key to perform sort by key \n",
    "# passing 2nd element of items()\n",
    "# adding\"reversed = True\"for reversed order\n",
    "res = {key: val for key, val in sorted(test_dict.items(), key = lambda ele: ele[1], reverse = True)}\n",
    "  \n",
    "# printing result \n",
    "print(\"Result dictionary sorted by values (in reversed order) :\"+ str(res))"
   ]
  },
  {
   "cell_type": "code",
   "execution_count": null,
   "id": "89509f90",
   "metadata": {},
   "outputs": [],
   "source": []
  }
 ],
 "metadata": {
  "kernelspec": {
   "display_name": "Python 3 (ipykernel)",
   "language": "python",
   "name": "python3"
  },
  "language_info": {
   "codemirror_mode": {
    "name": "ipython",
    "version": 3
   },
   "file_extension": ".py",
   "mimetype": "text/x-python",
   "name": "python",
   "nbconvert_exporter": "python",
   "pygments_lexer": "ipython3",
   "version": "3.9.12"
  }
 },
 "nbformat": 4,
 "nbformat_minor": 5
}
