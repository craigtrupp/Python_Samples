{
 "cells": [
  {
   "cell_type": "markdown",
   "id": "e669d429",
   "metadata": {},
   "source": [
    "### Need to Scrape in the Dataset First Using Beautiful Soup"
   ]
  },
  {
   "cell_type": "code",
   "execution_count": 24,
   "id": "a7b232b1",
   "metadata": {},
   "outputs": [],
   "source": [
    "import pandas as pd\n",
    "import requests\n",
    "import matplotlib.pyplot as plt\n",
    "import seaborn as sns\n",
    "import numpy as np\n",
    "from bs4 import BeautifulSoup"
   ]
  },
  {
   "cell_type": "code",
   "execution_count": 4,
   "id": "215ed5ac",
   "metadata": {},
   "outputs": [],
   "source": [
    "table_url = \"https://www.nu3.de/blogs/nutrition/food-carbon-footprint-index-2018\"\n",
    "data = requests.get(table_url).text"
   ]
  },
  {
   "cell_type": "code",
   "execution_count": 6,
   "id": "dcfd0e4e",
   "metadata": {},
   "outputs": [
    {
     "name": "stdout",
     "output_type": "stream",
     "text": [
      "1\n"
     ]
    }
   ],
   "source": [
    "soup = BeautifulSoup(data, 'html.parser')\n",
    "\n",
    "# just looks like the one table but let's chekck to see\n",
    "print(len(soup.find_all('table')))"
   ]
  },
  {
   "cell_type": "code",
   "execution_count": 12,
   "id": "e48019b5",
   "metadata": {},
   "outputs": [
    {
     "name": "stdout",
     "output_type": "stream",
     "text": [
      "<tr>\n",
      "<td colspan=\"1\" height=\"17\" width=\"2%\"> </td>\n",
      "<td colspan=\"1\" width=\"5%\"> </td>\n",
      "<td colspan=\"15\" width=\"54%\">Animal Products</td>\n",
      "<td colspan=\"9\" width=\"32%\">Non-Animal Products</td>\n",
      "<td colspan=\"1\" width=\"7%\">Animal vs. Non-Animal Products:</td>\n",
      "</tr>\n",
      "<tr>\n",
      "<td colspan=\"1\"> </td>\n",
      "<td colspan=\"1\"> </td>\n",
      "<td colspan=\"2\"><span class=\"thead-icon icon-4\" title=\"Pork\"> </span></td>\n",
      "<td colspan=\"2\"><span class=\"thead-icon icon-5\" title=\"Poultry\"> </span></td>\n",
      "<td colspan=\"2\"><span class=\"thead-icon icon-6\" title=\"Beef\"> </span></td>\n",
      "<td colspan=\"2\"><span class=\"thead-icon icon-7\" title=\"Lamb &amp; Goat\"> </span></td>\n",
      "<td colspan=\"2\"><span class=\"thead-icon icon-8\" title=\"Fish\"> </span></td>\n",
      "<td colspan=\"2\"><span class=\"thead-icon icon-9\" title=\"Eggs\"> </span></td>\n",
      "<td colspan=\"2\"><span class=\"thead-icon icon-10\" title=\"Milk - inc. cheese\"> </span></td>\n",
      "<td colspan=\"1\"> </td>\n",
      "<td colspan=\"2\"><span class=\"thead-icon icon-12\" title=\"Wheat and Wheat Products\"> </span></td>\n",
      "<td colspan=\"2\"><span class=\"thead-icon icon-13\" title=\"Rice\"> </span></td>\n",
      "<td colspan=\"2\"><span class=\"thead-icon icon-14\" title=\"Soybeans\"> </span></td>\n",
      "<td colspan=\"2\"><span class=\"thead-icon icon-15\" title=\"Nuts inc. Peanut Butter\"> </span></td>\n",
      "<td colspan=\"1\"></td>\n",
      "<td colspan=\"1\">Difference - Kg CO2/person/year</td>\n",
      "</tr>\n"
     ]
    },
    {
     "data": {
      "text/plain": [
       "[None, None]"
      ]
     },
     "execution_count": 12,
     "metadata": {},
     "output_type": "execute_result"
    }
   ],
   "source": [
    "food_table = soup.find('table')\n",
    "columns = food_table.find_all('tr')[0:2]\n",
    "[print(x) for x in columns]"
   ]
  },
  {
   "cell_type": "markdown",
   "id": "783ee9ae",
   "metadata": {},
   "source": [
    "### Well ... I found the data set, we forge on "
   ]
  },
  {
   "cell_type": "code",
   "execution_count": 13,
   "id": "13aae99a",
   "metadata": {},
   "outputs": [
    {
     "data": {
      "text/html": [
       "<div>\n",
       "<style scoped>\n",
       "    .dataframe tbody tr th:only-of-type {\n",
       "        vertical-align: middle;\n",
       "    }\n",
       "\n",
       "    .dataframe tbody tr th {\n",
       "        vertical-align: top;\n",
       "    }\n",
       "\n",
       "    .dataframe thead th {\n",
       "        text-align: right;\n",
       "    }\n",
       "</style>\n",
       "<table border=\"1\" class=\"dataframe\">\n",
       "  <thead>\n",
       "    <tr style=\"text-align: right;\">\n",
       "      <th></th>\n",
       "      <th>country</th>\n",
       "      <th>food_category</th>\n",
       "      <th>consumption</th>\n",
       "      <th>co2_emission</th>\n",
       "    </tr>\n",
       "  </thead>\n",
       "  <tbody>\n",
       "    <tr>\n",
       "      <th>1</th>\n",
       "      <td>Argentina</td>\n",
       "      <td>pork</td>\n",
       "      <td>10.51</td>\n",
       "      <td>37.20</td>\n",
       "    </tr>\n",
       "    <tr>\n",
       "      <th>2</th>\n",
       "      <td>Argentina</td>\n",
       "      <td>poultry</td>\n",
       "      <td>38.66</td>\n",
       "      <td>41.53</td>\n",
       "    </tr>\n",
       "    <tr>\n",
       "      <th>3</th>\n",
       "      <td>Argentina</td>\n",
       "      <td>beef</td>\n",
       "      <td>55.48</td>\n",
       "      <td>1712.00</td>\n",
       "    </tr>\n",
       "    <tr>\n",
       "      <th>4</th>\n",
       "      <td>Argentina</td>\n",
       "      <td>lamb_goat</td>\n",
       "      <td>1.56</td>\n",
       "      <td>54.63</td>\n",
       "    </tr>\n",
       "    <tr>\n",
       "      <th>5</th>\n",
       "      <td>Argentina</td>\n",
       "      <td>fish</td>\n",
       "      <td>4.36</td>\n",
       "      <td>6.96</td>\n",
       "    </tr>\n",
       "  </tbody>\n",
       "</table>\n",
       "</div>"
      ],
      "text/plain": [
       "     country food_category  consumption  co2_emission\n",
       "1  Argentina          pork        10.51         37.20\n",
       "2  Argentina       poultry        38.66         41.53\n",
       "3  Argentina          beef        55.48       1712.00\n",
       "4  Argentina     lamb_goat         1.56         54.63\n",
       "5  Argentina          fish         4.36          6.96"
      ]
     },
     "execution_count": 13,
     "metadata": {},
     "output_type": "execute_result"
    }
   ],
   "source": [
    "food_consumption = pd.read_csv('../Datasets/food_consumption.csv', index_col=0)\n",
    "food_consumption.head()"
   ]
  },
  {
   "cell_type": "code",
   "execution_count": 14,
   "id": "ef9dacbd",
   "metadata": {},
   "outputs": [
    {
     "data": {
      "text/plain": [
       "country          0\n",
       "food_category    0\n",
       "consumption      0\n",
       "co2_emission     0\n",
       "dtype: int64"
      ]
     },
     "execution_count": 14,
     "metadata": {},
     "output_type": "execute_result"
    }
   ],
   "source": [
    "food_consumption.isna().sum()"
   ]
  },
  {
   "cell_type": "code",
   "execution_count": 15,
   "id": "980347d5",
   "metadata": {},
   "outputs": [
    {
     "data": {
      "text/plain": [
       "['pork',\n",
       " 'poultry',\n",
       " 'beef',\n",
       " 'lamb_goat',\n",
       " 'fish',\n",
       " 'eggs',\n",
       " 'dairy',\n",
       " 'wheat',\n",
       " 'rice',\n",
       " 'soybeans',\n",
       " 'nuts']"
      ]
     },
     "execution_count": 15,
     "metadata": {},
     "output_type": "execute_result"
    }
   ],
   "source": [
    "# We Want rice, let's see what values we have\n",
    "food_consumption['food_category'].unique().tolist()"
   ]
  },
  {
   "cell_type": "code",
   "execution_count": 18,
   "id": "e4af6633",
   "metadata": {},
   "outputs": [
    {
     "data": {
      "text/html": [
       "<div>\n",
       "<style scoped>\n",
       "    .dataframe tbody tr th:only-of-type {\n",
       "        vertical-align: middle;\n",
       "    }\n",
       "\n",
       "    .dataframe tbody tr th {\n",
       "        vertical-align: top;\n",
       "    }\n",
       "\n",
       "    .dataframe thead th {\n",
       "        text-align: right;\n",
       "    }\n",
       "</style>\n",
       "<table border=\"1\" class=\"dataframe\">\n",
       "  <thead>\n",
       "    <tr style=\"text-align: right;\">\n",
       "      <th></th>\n",
       "      <th>country</th>\n",
       "      <th>food_category</th>\n",
       "      <th>consumption</th>\n",
       "      <th>co2_emission</th>\n",
       "    </tr>\n",
       "  </thead>\n",
       "  <tbody>\n",
       "    <tr>\n",
       "      <th>9</th>\n",
       "      <td>Argentina</td>\n",
       "      <td>rice</td>\n",
       "      <td>8.77</td>\n",
       "      <td>11.22</td>\n",
       "    </tr>\n",
       "    <tr>\n",
       "      <th>20</th>\n",
       "      <td>Australia</td>\n",
       "      <td>rice</td>\n",
       "      <td>11.03</td>\n",
       "      <td>14.12</td>\n",
       "    </tr>\n",
       "    <tr>\n",
       "      <th>31</th>\n",
       "      <td>Albania</td>\n",
       "      <td>rice</td>\n",
       "      <td>7.78</td>\n",
       "      <td>9.96</td>\n",
       "    </tr>\n",
       "    <tr>\n",
       "      <th>42</th>\n",
       "      <td>Iceland</td>\n",
       "      <td>rice</td>\n",
       "      <td>3.89</td>\n",
       "      <td>4.98</td>\n",
       "    </tr>\n",
       "    <tr>\n",
       "      <th>53</th>\n",
       "      <td>New Zealand</td>\n",
       "      <td>rice</td>\n",
       "      <td>9.16</td>\n",
       "      <td>11.72</td>\n",
       "    </tr>\n",
       "  </tbody>\n",
       "</table>\n",
       "</div>"
      ],
      "text/plain": [
       "        country food_category  consumption  co2_emission\n",
       "9     Argentina          rice         8.77         11.22\n",
       "20    Australia          rice        11.03         14.12\n",
       "31      Albania          rice         7.78          9.96\n",
       "42      Iceland          rice         3.89          4.98\n",
       "53  New Zealand          rice         9.16         11.72"
      ]
     },
     "metadata": {},
     "output_type": "display_data"
    },
    {
     "data": {
      "text/plain": [
       "array([[<AxesSubplot:title={'center':'consumption'}>,\n",
       "        <AxesSubplot:title={'center':'co2_emission'}>]], dtype=object)"
      ]
     },
     "execution_count": 18,
     "metadata": {},
     "output_type": "execute_result"
    },
    {
     "data": {
      "image/png": "[encoded data removed]",
      "text/plain": [
       "<Figure size 640x480 with 2 Axes>"
      ]
     },
     "metadata": {},
     "output_type": "display_data"
    }
   ],
   "source": [
    "# Subset for food_category equals rice\n",
    "rice_consumption = food_consumption[food_consumption['food_category'] == 'rice']\n",
    "\n",
    "display(rice_consumption.head())\n",
    "\n",
    "# Create Histogram of co2_emission for rice and show plot\n",
    "rice_consumption.hist()"
   ]
  },
  {
   "cell_type": "code",
   "execution_count": 22,
   "id": "cdb38d08",
   "metadata": {},
   "outputs": [
    {
     "data": {
      "image/png": "[encoded data removed]",
      "text/plain": [
       "<Figure size 640x480 with 1 Axes>"
      ]
     },
     "metadata": {},
     "output_type": "display_data"
    }
   ],
   "source": [
    "# Try seaborn out here\n",
    "sns.histplot(data=rice_consumption, x='co2_emission').set_title(\n",
    "    'co2 Emission Rice Histogram Distribution Across Countries')\n",
    "plt.show()"
   ]
  },
  {
   "cell_type": "code",
   "execution_count": 25,
   "id": "fa124267",
   "metadata": {},
   "outputs": [
    {
     "data": {
      "text/plain": [
       "mean      37.591615\n",
       "median    15.200000\n",
       "Name: co2_emission, dtype: float64"
      ]
     },
     "execution_count": 25,
     "metadata": {},
     "output_type": "execute_result"
    }
   ],
   "source": [
    "# calculate mean and median of co2_emission for rice\n",
    "rice_consumption['co2_emission'].agg([np.mean, np.median])"
   ]
  },
  {
   "cell_type": "markdown",
   "id": "84d21029",
   "metadata": {},
   "source": [
    "### Quartiles, quantiles, and quintiles\n",
    "\n",
    "Quantiles are a great way of summarizing numerical data since they can be used to measure center and spread, as well as to get a sense of where a data point stands in relation to the rest of the data set. For example, you might want to give a discount to the 10% most active users on a website.\n",
    "\n",
    "* Split up a dataset into 4, 5, & 10 (quartiles, quintiles, deciles)"
   ]
  },
  {
   "cell_type": "code",
   "execution_count": 42,
   "id": "379d02ac",
   "metadata": {},
   "outputs": [
    {
     "data": {
      "text/plain": [
       "array([   0.    ,    5.21  ,   16.53  ,   62.5975, 1712.    ])"
      ]
     },
     "metadata": {},
     "output_type": "display_data"
    },
    {
     "data": {
      "text/plain": [
       "array([   0.   ,    3.54 ,   11.026,   25.59 ,   99.978, 1712.   ])"
      ]
     },
     "metadata": {},
     "output_type": "display_data"
    },
    {
     "data": {
      "text/plain": [
       "array([0.00000e+00, 6.68000e-01, 3.54000e+00, 7.04000e+00, 1.10260e+01,\n",
       "       1.65300e+01, 2.55900e+01, 4.42710e+01, 9.99780e+01, 2.03629e+02,\n",
       "       1.71200e+03])"
      ]
     },
     "metadata": {},
     "output_type": "display_data"
    }
   ],
   "source": [
    "# numpy.quantile(a=input_array or object (pandas column/series), q=quantile or sequence of quantiles (0-1 inclusive))\n",
    "# numpy.linspace(start, stop, num) (convenient here to create or decile or types)\n",
    "\n",
    "# quartiles\n",
    "quartiles_co2_emission = np.quantile(food_consumption['co2_emission'], np.linspace(0, 1, 5))\n",
    "display(quartiles_co2_emission)\n",
    "\n",
    "# quintiles\n",
    "quintiles = np.quantile(food_consumption['co2_emission'], np.linspace(0, 1, 6))\n",
    "display(quintiles)\n",
    "\n",
    "# deciles\n",
    "deciles = np.quantile(food_consumption['co2_emission'], np.linspace(0, 1, 11))\n",
    "display(deciles)\n"
   ]
  },
  {
   "cell_type": "code",
   "execution_count": 38,
   "id": "3cba8d81",
   "metadata": {},
   "outputs": [
    {
     "data": {
      "text/plain": [
       "array([   0.   ,    3.54 ,   11.026,   25.59 ,   99.978, 1712.   ])"
      ]
     },
     "execution_count": 38,
     "metadata": {},
     "output_type": "execute_result"
    }
   ],
   "source": [
    "np.quantile(food_consumption['co2_emission'], np.linspace(0, 1, 6))"
   ]
  },
  {
   "cell_type": "markdown",
   "id": "55b3b724",
   "metadata": {},
   "source": [
    "* Calculate the variance and standard deviation of co2_emission for each food_category by grouping and aggregating.\n",
    "    * Create a histogram of co2_emission for the beef food_category and show the plot.\n",
    "    * Create a histogram of co2_emission for the eggs food_category and show the plot."
   ]
  },
  {
   "cell_type": "code",
   "execution_count": 45,
   "id": "d979da7c",
   "metadata": {},
   "outputs": [
    {
     "data": {
      "text/html": [
       "<div>\n",
       "<style scoped>\n",
       "    .dataframe tbody tr th:only-of-type {\n",
       "        vertical-align: middle;\n",
       "    }\n",
       "\n",
       "    .dataframe tbody tr th {\n",
       "        vertical-align: top;\n",
       "    }\n",
       "\n",
       "    .dataframe thead th {\n",
       "        text-align: right;\n",
       "    }\n",
       "</style>\n",
       "<table border=\"1\" class=\"dataframe\">\n",
       "  <thead>\n",
       "    <tr style=\"text-align: right;\">\n",
       "      <th></th>\n",
       "      <th>var</th>\n",
       "      <th>std</th>\n",
       "    </tr>\n",
       "    <tr>\n",
       "      <th>food_category</th>\n",
       "      <th></th>\n",
       "      <th></th>\n",
       "    </tr>\n",
       "  </thead>\n",
       "  <tbody>\n",
       "    <tr>\n",
       "      <th>beef</th>\n",
       "      <td>88748.408132</td>\n",
       "      <td>297.906710</td>\n",
       "    </tr>\n",
       "    <tr>\n",
       "      <th>dairy</th>\n",
       "      <td>17671.891985</td>\n",
       "      <td>132.935669</td>\n",
       "    </tr>\n",
       "    <tr>\n",
       "      <th>eggs</th>\n",
       "      <td>21.371819</td>\n",
       "      <td>4.622966</td>\n",
       "    </tr>\n",
       "    <tr>\n",
       "      <th>fish</th>\n",
       "      <td>921.637349</td>\n",
       "      <td>30.358481</td>\n",
       "    </tr>\n",
       "    <tr>\n",
       "      <th>lamb_goat</th>\n",
       "      <td>16475.518363</td>\n",
       "      <td>128.356996</td>\n",
       "    </tr>\n",
       "    <tr>\n",
       "      <th>nuts</th>\n",
       "      <td>35.639652</td>\n",
       "      <td>5.969895</td>\n",
       "    </tr>\n",
       "    <tr>\n",
       "      <th>pork</th>\n",
       "      <td>3094.963537</td>\n",
       "      <td>55.632396</td>\n",
       "    </tr>\n",
       "    <tr>\n",
       "      <th>poultry</th>\n",
       "      <td>245.026801</td>\n",
       "      <td>15.653332</td>\n",
       "    </tr>\n",
       "    <tr>\n",
       "      <th>rice</th>\n",
       "      <td>2281.376243</td>\n",
       "      <td>47.763754</td>\n",
       "    </tr>\n",
       "    <tr>\n",
       "      <th>soybeans</th>\n",
       "      <td>0.879882</td>\n",
       "      <td>0.938020</td>\n",
       "    </tr>\n",
       "    <tr>\n",
       "      <th>wheat</th>\n",
       "      <td>71.023937</td>\n",
       "      <td>8.427570</td>\n",
       "    </tr>\n",
       "  </tbody>\n",
       "</table>\n",
       "</div>"
      ],
      "text/plain": [
       "                        var         std\n",
       "food_category                          \n",
       "beef           88748.408132  297.906710\n",
       "dairy          17671.891985  132.935669\n",
       "eggs              21.371819    4.622966\n",
       "fish             921.637349   30.358481\n",
       "lamb_goat      16475.518363  128.356996\n",
       "nuts              35.639652    5.969895\n",
       "pork            3094.963537   55.632396\n",
       "poultry          245.026801   15.653332\n",
       "rice            2281.376243   47.763754\n",
       "soybeans           0.879882    0.938020\n",
       "wheat             71.023937    8.427570"
      ]
     },
     "execution_count": 45,
     "metadata": {},
     "output_type": "execute_result"
    }
   ],
   "source": [
    "fc_var_stdv = food_consumption.groupby('food_category')['co2_emission'].agg([np.var, np.std])\n",
    "fc_var_stdv"
   ]
  },
  {
   "cell_type": "code",
   "execution_count": 58,
   "id": "399b500a",
   "metadata": {},
   "outputs": [
    {
     "data": {
      "image/png": "[encoded data removed]",
      "text/plain": [
       "<Figure size 1200x1000 with 4 Axes>"
      ]
     },
     "metadata": {},
     "output_type": "display_data"
    }
   ],
   "source": [
    "# https://www.statology.org/seaborn-subplots/fig, ax = plt.subplots(2, 2)\n",
    "beef = food_consumption[food_consumption['food_category'] == 'beef']['co2_emission']\n",
    "eggs = food_consumption.loc[food_consumption['food_category'] == 'eggs']['co2_emission']\n",
    "\n",
    "fig, axes = plt.subplots(2, 2, figsize=(12, 10))\n",
    "sns.histplot(data=beef,ax=axes[0, 0])\n",
    "sns.histplot(data=beef,ax=axes[0,1], stat='density')\n",
    "sns.histplot(data=eggs,ax=axes[1, 0])\n",
    "sns.histplot(data=eggs,ax=axes[1,1], stat='density')\n",
    "\n",
    "fig.suptitle('Co2 Emissions for Beef & Eggs')\n",
    "plt.show()"
   ]
  },
  {
   "cell_type": "markdown",
   "id": "3f02a8e4",
   "metadata": {},
   "source": [
    "### Finding outliers using IQR"
   ]
  },
  {
   "cell_type": "code",
   "execution_count": 63,
   "id": "1ee20a1e",
   "metadata": {},
   "outputs": [
    {
     "data": {
      "text/plain": [
       "country\n",
       "Albania      1777.85\n",
       "Algeria       707.88\n",
       "Angola        412.99\n",
       "Argentina    2172.40\n",
       "Armenia      1109.93\n",
       "              ...   \n",
       "Uruguay      1634.91\n",
       "Venezuela    1104.10\n",
       "Vietnam       641.51\n",
       "Zambia        225.30\n",
       "Zimbabwe      350.33\n",
       "Name: co2_emission, Length: 130, dtype: float64"
      ]
     },
     "execution_count": 63,
     "metadata": {},
     "output_type": "execute_result"
    }
   ],
   "source": [
    "# Calculate total co2_emission per country\n",
    "emissions_by_country = food_consumption.groupby('country')['co2_emission'].agg(np.sum)\n",
    "emissions_by_country"
   ]
  },
  {
   "cell_type": "code",
   "execution_count": 65,
   "id": "73b98b4e",
   "metadata": {},
   "outputs": [
    {
     "name": "stdout",
     "output_type": "stream",
     "text": [
      "Our iqr range for total emissions grouped by country is : 664.4925000000001\n",
      "-550.0787500000001 2107.89125\n"
     ]
    }
   ],
   "source": [
    "# Compute the first and third quartiles of emissions_by_country and store these as q1 and q3\n",
    "q1 = np.quantile(emissions_by_country, 0.25)\n",
    "q3 = np.quantile(emissions_by_country, 0.75)\n",
    "\n",
    "# Calcuate iqr range\n",
    "iqr = q3 - q1\n",
    "print(\"Our iqr range for total emissions grouped by country is : {}\".format(iqr))\n",
    "\n",
    "# Lower and upper cutoffs for outliers \n",
    "lower = q1 - (1.5 * iqr)\n",
    "upper = q3 + (1.5 * iqr)\n",
    "\n",
    "print(lower,upper)"
   ]
  },
  {
   "cell_type": "code",
   "execution_count": 68,
   "id": "27421670",
   "metadata": {},
   "outputs": [
    {
     "data": {
      "text/plain": [
       "country\n",
       "Argentina    2172.4\n",
       "Name: co2_emission, dtype: float64"
      ]
     },
     "execution_count": 68,
     "metadata": {},
     "output_type": "execute_result"
    }
   ],
   "source": [
    "# Subset emissions_by_country to get countries with a total emission greater than the upper cutoff or a total emission less than the lower cutoff.\n",
    "emissions_outliers = emissions_by_country.loc[(emissions_by_country < lower) | \n",
    "                                             (emissions_by_country > upper)]\n",
    "emissions_outliers"
   ]
  },
  {
   "cell_type": "markdown",
   "id": "9c75d233",
   "metadata": {},
   "source": [
    "## Random Numbers & Probabilites"
   ]
  },
  {
   "cell_type": "code",
   "execution_count": 74,
   "id": "148c5972",
   "metadata": {},
   "outputs": [
    {
     "name": "stdout",
     "output_type": "stream",
     "text": [
      "Product B    62\n",
      "Product D    40\n",
      "Product A    23\n",
      "Product C    15\n",
      "Product F    11\n",
      "Product H     8\n",
      "Product I     7\n",
      "Product E     5\n",
      "Product N     3\n",
      "Product G     2\n",
      "Product J     2\n",
      "Name: product, dtype: int64\n",
      "\n",
      "\n",
      "Product B    0.35\n",
      "Product D    0.22\n",
      "Product A    0.13\n",
      "Product C    0.08\n",
      "Product F    0.06\n",
      "Product H    0.04\n",
      "Product I    0.04\n",
      "Product E    0.03\n",
      "Product N    0.02\n",
      "Product G    0.01\n",
      "Product J    0.01\n",
      "Name: product, dtype: float64\n"
     ]
    }
   ],
   "source": [
    "# You're in charge of the sales team, and it's time for performance reviews, starting with Amir. \n",
    "# As part of the review, you want to randomly select a few of the deals that he's worked on over the past year \n",
    "# so that you can look at them more deeply. Before you start selecting deals, you'll first figure out what \n",
    "# the chances are of selecting certain deals.\n",
    "\n",
    "amir_deals = pd.read_csv('../Datasets/amir_deals.csv', index_col=0)\n",
    "\n",
    "# count deals for each product\n",
    "product_counts = amir_deals['product'].value_counts()\n",
    "print(product_counts)\n",
    "\n",
    "print('\\n')\n",
    "\n",
    "# calculate probability of picking a deal w/each product (vectorization)\n",
    "probabilities = round(product_counts/product_counts.sum(), 2)\n",
    "print(probabilities)"
   ]
  },
  {
   "cell_type": "markdown",
   "id": "c42799a4",
   "metadata": {},
   "source": [
    "#### Sampling Deals\n",
    "* Now it's time to randomly pick five deals so that you can reach out to each customer and ask if they were \n",
    "    satisfied with the service they received. \n",
    "* You'll try doing this both with and without replacement."
   ]
  },
  {
   "cell_type": "code",
   "execution_count": 79,
   "id": "4dd11204",
   "metadata": {},
   "outputs": [
    {
     "data": {
      "text/html": [
       "<div>\n",
       "<style scoped>\n",
       "    .dataframe tbody tr th:only-of-type {\n",
       "        vertical-align: middle;\n",
       "    }\n",
       "\n",
       "    .dataframe tbody tr th {\n",
       "        vertical-align: top;\n",
       "    }\n",
       "\n",
       "    .dataframe thead th {\n",
       "        text-align: right;\n",
       "    }\n",
       "</style>\n",
       "<table border=\"1\" class=\"dataframe\">\n",
       "  <thead>\n",
       "    <tr style=\"text-align: right;\">\n",
       "      <th></th>\n",
       "      <th>product</th>\n",
       "      <th>client</th>\n",
       "      <th>status</th>\n",
       "      <th>amount</th>\n",
       "      <th>num_users</th>\n",
       "    </tr>\n",
       "  </thead>\n",
       "  <tbody>\n",
       "    <tr>\n",
       "      <th>128</th>\n",
       "      <td>Product B</td>\n",
       "      <td>Current</td>\n",
       "      <td>Won</td>\n",
       "      <td>2070.25</td>\n",
       "      <td>7</td>\n",
       "    </tr>\n",
       "    <tr>\n",
       "      <th>149</th>\n",
       "      <td>Product D</td>\n",
       "      <td>Current</td>\n",
       "      <td>Won</td>\n",
       "      <td>3485.48</td>\n",
       "      <td>52</td>\n",
       "    </tr>\n",
       "    <tr>\n",
       "      <th>78</th>\n",
       "      <td>Product B</td>\n",
       "      <td>Current</td>\n",
       "      <td>Won</td>\n",
       "      <td>6252.30</td>\n",
       "      <td>27</td>\n",
       "    </tr>\n",
       "    <tr>\n",
       "      <th>105</th>\n",
       "      <td>Product D</td>\n",
       "      <td>Current</td>\n",
       "      <td>Won</td>\n",
       "      <td>4110.98</td>\n",
       "      <td>39</td>\n",
       "    </tr>\n",
       "    <tr>\n",
       "      <th>167</th>\n",
       "      <td>Product C</td>\n",
       "      <td>New</td>\n",
       "      <td>Lost</td>\n",
       "      <td>3779.86</td>\n",
       "      <td>11</td>\n",
       "    </tr>\n",
       "  </tbody>\n",
       "</table>\n",
       "</div>"
      ],
      "text/plain": [
       "       product   client status   amount  num_users\n",
       "128  Product B  Current    Won  2070.25          7\n",
       "149  Product D  Current    Won  3485.48         52\n",
       "78   Product B  Current    Won  6252.30         27\n",
       "105  Product D  Current    Won  4110.98         39\n",
       "167  Product C      New   Lost  3779.86         11"
      ]
     },
     "metadata": {},
     "output_type": "display_data"
    },
    {
     "name": "stdout",
     "output_type": "stream",
     "text": [
      "\n",
      "\n"
     ]
    },
    {
     "data": {
      "text/html": [
       "<div>\n",
       "<style scoped>\n",
       "    .dataframe tbody tr th:only-of-type {\n",
       "        vertical-align: middle;\n",
       "    }\n",
       "\n",
       "    .dataframe tbody tr th {\n",
       "        vertical-align: top;\n",
       "    }\n",
       "\n",
       "    .dataframe thead th {\n",
       "        text-align: right;\n",
       "    }\n",
       "</style>\n",
       "<table border=\"1\" class=\"dataframe\">\n",
       "  <thead>\n",
       "    <tr style=\"text-align: right;\">\n",
       "      <th></th>\n",
       "      <th>product</th>\n",
       "      <th>client</th>\n",
       "      <th>status</th>\n",
       "      <th>amount</th>\n",
       "      <th>num_users</th>\n",
       "    </tr>\n",
       "  </thead>\n",
       "  <tbody>\n",
       "    <tr>\n",
       "      <th>134</th>\n",
       "      <td>Product D</td>\n",
       "      <td>Current</td>\n",
       "      <td>Won</td>\n",
       "      <td>5992.86</td>\n",
       "      <td>98</td>\n",
       "    </tr>\n",
       "    <tr>\n",
       "      <th>102</th>\n",
       "      <td>Product H</td>\n",
       "      <td>Current</td>\n",
       "      <td>Won</td>\n",
       "      <td>5116.34</td>\n",
       "      <td>63</td>\n",
       "    </tr>\n",
       "    <tr>\n",
       "      <th>111</th>\n",
       "      <td>Product B</td>\n",
       "      <td>Current</td>\n",
       "      <td>Won</td>\n",
       "      <td>696.88</td>\n",
       "      <td>44</td>\n",
       "    </tr>\n",
       "    <tr>\n",
       "      <th>50</th>\n",
       "      <td>Product B</td>\n",
       "      <td>Current</td>\n",
       "      <td>Won</td>\n",
       "      <td>3488.36</td>\n",
       "      <td>79</td>\n",
       "    </tr>\n",
       "    <tr>\n",
       "      <th>57</th>\n",
       "      <td>Product D</td>\n",
       "      <td>Current</td>\n",
       "      <td>Won</td>\n",
       "      <td>6820.84</td>\n",
       "      <td>42</td>\n",
       "    </tr>\n",
       "  </tbody>\n",
       "</table>\n",
       "</div>"
      ],
      "text/plain": [
       "       product   client status   amount  num_users\n",
       "134  Product D  Current    Won  5992.86         98\n",
       "102  Product H  Current    Won  5116.34         63\n",
       "111  Product B  Current    Won   696.88         44\n",
       "50   Product B  Current    Won  3488.36         79\n",
       "57   Product D  Current    Won  6820.84         42"
      ]
     },
     "metadata": {},
     "output_type": "display_data"
    }
   ],
   "source": [
    "# set random seed\n",
    "np.random.seed(24)\n",
    "\n",
    "sample_without_replacement = amir_deals.sample(5, replace=False)\n",
    "display(sample_without_replacement)\n",
    "\n",
    "print('\\n')\n",
    "sample_with_replacement = amir_deals.sample(5, replace=True)\n",
    "display(sample_with_replacement)"
   ]
  },
  {
   "cell_type": "markdown",
   "id": "fe42b3a3",
   "metadata": {},
   "source": [
    "### Creating Probability Distribution"
   ]
  },
  {
   "cell_type": "code",
   "execution_count": 80,
   "id": "459609d5",
   "metadata": {},
   "outputs": [
    {
     "data": {
      "text/html": [
       "<div>\n",
       "<style scoped>\n",
       "    .dataframe tbody tr th:only-of-type {\n",
       "        vertical-align: middle;\n",
       "    }\n",
       "\n",
       "    .dataframe tbody tr th {\n",
       "        vertical-align: top;\n",
       "    }\n",
       "\n",
       "    .dataframe thead th {\n",
       "        text-align: right;\n",
       "    }\n",
       "</style>\n",
       "<table border=\"1\" class=\"dataframe\">\n",
       "  <thead>\n",
       "    <tr style=\"text-align: right;\">\n",
       "      <th></th>\n",
       "      <th>group_id</th>\n",
       "      <th>group_size</th>\n",
       "    </tr>\n",
       "  </thead>\n",
       "  <tbody>\n",
       "    <tr>\n",
       "      <th>0</th>\n",
       "      <td>A</td>\n",
       "      <td>2</td>\n",
       "    </tr>\n",
       "    <tr>\n",
       "      <th>1</th>\n",
       "      <td>B</td>\n",
       "      <td>4</td>\n",
       "    </tr>\n",
       "    <tr>\n",
       "      <th>2</th>\n",
       "      <td>C</td>\n",
       "      <td>6</td>\n",
       "    </tr>\n",
       "    <tr>\n",
       "      <th>3</th>\n",
       "      <td>D</td>\n",
       "      <td>2</td>\n",
       "    </tr>\n",
       "    <tr>\n",
       "      <th>4</th>\n",
       "      <td>E</td>\n",
       "      <td>2</td>\n",
       "    </tr>\n",
       "    <tr>\n",
       "      <th>5</th>\n",
       "      <td>F</td>\n",
       "      <td>2</td>\n",
       "    </tr>\n",
       "    <tr>\n",
       "      <th>6</th>\n",
       "      <td>G</td>\n",
       "      <td>3</td>\n",
       "    </tr>\n",
       "    <tr>\n",
       "      <th>7</th>\n",
       "      <td>H</td>\n",
       "      <td>2</td>\n",
       "    </tr>\n",
       "    <tr>\n",
       "      <th>8</th>\n",
       "      <td>I</td>\n",
       "      <td>4</td>\n",
       "    </tr>\n",
       "    <tr>\n",
       "      <th>9</th>\n",
       "      <td>J</td>\n",
       "      <td>2</td>\n",
       "    </tr>\n",
       "  </tbody>\n",
       "</table>\n",
       "</div>"
      ],
      "text/plain": [
       "  group_id  group_size\n",
       "0        A           2\n",
       "1        B           4\n",
       "2        C           6\n",
       "3        D           2\n",
       "4        E           2\n",
       "5        F           2\n",
       "6        G           3\n",
       "7        H           2\n",
       "8        I           4\n",
       "9        J           2"
      ]
     },
     "execution_count": 80,
     "metadata": {},
     "output_type": "execute_result"
    }
   ],
   "source": [
    "restaurant_groups = pd.DataFrame({'group_id':['A', 'B', 'C', 'D', 'E', 'F', 'G', 'H', 'I', 'J'],\n",
    "                                 'group_size':[2,4,6,2,2,2,3,2,4,2]})\n",
    "restaurant_groups"
   ]
  },
  {
   "cell_type": "code",
   "execution_count": 81,
   "id": "398a5441",
   "metadata": {},
   "outputs": [
    {
     "data": {
      "text/plain": [
       "<AxesSubplot:>"
      ]
     },
     "execution_count": 81,
     "metadata": {},
     "output_type": "execute_result"
    },
    {
     "data": {
      "image/png": "[encoded data removed]",
      "text/plain": [
       "<Figure size 640x480 with 1 Axes>"
      ]
     },
     "metadata": {},
     "output_type": "display_data"
    }
   ],
   "source": [
    "restaurant_groups['group_size'].hist()"
   ]
  },
  {
   "cell_type": "code",
   "execution_count": 82,
   "id": "014de9f1",
   "metadata": {},
   "outputs": [
    {
     "data": {
      "image/png": "[encoded data removed]",
      "text/plain": [
       "<Figure size 640x480 with 1 Axes>"
      ]
     },
     "metadata": {},
     "output_type": "display_data"
    }
   ],
   "source": [
    "restaurant_groups['group_size'].hist(bins=[2,3,4,5,6])\n",
    "plt.show()"
   ]
  },
  {
   "cell_type": "code",
   "execution_count": 92,
   "id": "6e8d4166",
   "metadata": {},
   "outputs": [
    {
     "name": "stdout",
     "output_type": "stream",
     "text": [
      "   group_size  probability\n",
      "0           2          0.6\n",
      "1           4          0.2\n",
      "2           6          0.1\n",
      "3           3          0.1 \n",
      "\n",
      "2.9000000000000004\n"
     ]
    }
   ],
   "source": [
    "# Count the number of each group_size in restaurant_groups, \n",
    "# then divide by the number of rows in restaurant_groups to calculate the probability of randomly \n",
    "# selecting a group of each size. Save as size_dist.\n",
    "\n",
    "size_dist = restaurant_groups['group_size'].value_counts() / restaurant_groups.shape[0]\n",
    "# value_counts series is returned divided by len of dataframe\n",
    "size_dist = size_dist.reset_index()\n",
    "size_dist.columns = ['group_size', 'probability']\n",
    "print(size_dist, '\\n')\n",
    "\n",
    "# Expected Value Group By Size (above size distribution)\n",
    "expected_value = np.sum(size_dist['group_size'] * size_dist['probability'])\n",
    "print(expected_value) # total sum of all columns multiplied by same vector (row then added)\n",
    "# 2 * .6 + 4 * .2 + 6 * .1 + 3 * .1 ~= 2.900\n",
    "\n"
   ]
  },
  {
   "cell_type": "code",
   "execution_count": null,
   "id": "72690474",
   "metadata": {},
   "outputs": [],
   "source": []
  }
 ],
 "metadata": {
  "kernelspec": {
   "display_name": "Python 3 (ipykernel)",
   "language": "python",
   "name": "python3"
  },
  "language_info": {
   "codemirror_mode": {
    "name": "ipython",
    "version": 3
   },
   "file_extension": ".py",
   "mimetype": "text/x-python",
   "name": "python",
   "nbconvert_exporter": "python",
   "pygments_lexer": "ipython3",
   "version": "3.9.12"
  }
 },
 "nbformat": 4,
 "nbformat_minor": 5
}
