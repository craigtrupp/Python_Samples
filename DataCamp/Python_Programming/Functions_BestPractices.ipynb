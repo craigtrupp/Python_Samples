{
 "cells": [
  {
   "cell_type": "markdown",
   "id": "0cfcf6d0-6857-42cc-8de0-2fe7bf405658",
   "metadata": {},
   "source": [
    "## Writing Functions in Python\n",
    "\n",
    "\n",
    "### Best Practices\n",
    "The goal of this course is to transform you into a Python expert, and so the first chapter starts off with best practices when writing functions. You'll cover docstrings and why they matter and how to know when you need to turn a chunk of code into a function. You will also learn the details of how Python passes arguments to functions, as well as some common gotchas that can cause debugging headaches when calling functions.\n",
    "\n",
    "#### DocStrings\n",
    "* The first function you write is **count_letter()**. It takes a string and a single letter and returns the number of times the letter appears in the string. You want the users of your open-source package to be able to understand how this function works easily, so you will need to give it a docstring. Build up a Google Style docstring for this function by following these steps.\n",
    "\n",
    "```python\n",
    "def count_letter(content, letter):\n",
    "  \"\"\"Count the number of times `letter` appears in `content`.\n",
    "\n",
    "  Args:\n",
    "    content (str): The string to search.\n",
    "    letter (str): The letter to search for.\n",
    "\n",
    "  Returns:\n",
    "    int\n",
    "\n",
    "  # Add a section detailing what errors might be raised\n",
    "  Raises:\n",
    "    ValueError: If `letter` is not a one-character string.\n",
    "  \"\"\"\n",
    "  if (not isinstance(letter, str)) or len(letter) != 1:\n",
    "    raise ValueError('`letter` must be a single character string.')\n",
    "  return len([char for char in content if char == letter])\n",
    "\n",
    "```\n",
    "\n",
    "#### Retrieving docstrings\n",
    "You and a group of friends are working on building an amazing new Python IDE (integrated development environment -- like PyCharm, Spyder, Eclipse, Visual Studio, etc.). The team wants to add a feature that displays a tooltip with a function's docstring whenever the user starts typing the function name. That way, the user doesn't have to go elsewhere to look up the documentation for the function they are trying to use. You've been asked to complete the build_tooltip() function that retrieves a docstring from an arbitrary function.\n",
    "\n",
    "You will be reusing the count_letter() function that you developed in the last exercise to show that we can properly extract its docstring\n",
    "\n",
    "```python\n",
    "# Get the \"count_letter\" docstring by using an attribute of the function\n",
    "docstring = count_letter.__doc__\n",
    "\n",
    "border = '#' * 28\n",
    "print('{}\\n{}\\n{}'.format(border, docstring, border))\n",
    "\n",
    "############################\n",
    "Count the number of times `letter` appears in `content`.\n",
    "\n",
    "  Args:\n",
    "    content (str): The string to search.\n",
    "    letter (str): The letter to search for.\n",
    "\n",
    "  Returns:\n",
    "    int\n",
    "\n",
    "  Raises:\n",
    "    ValueError: If `letter` is not a one-character string.\n",
    "  \n",
    "############################\n",
    "\n",
    "```\n",
    "\n",
    "#### Inspect Module Cleaner DocString Retrieval\n",
    "```python\n",
    "import inspect\n",
    "\n",
    "# Inspect the count_letter() function to get its docstring\n",
    "docstring = inspect.getdoc(count_letter)\n",
    "\n",
    "border = '#' * 28\n",
    "print('{}\\n{}\\n{}'.format(border, docstring, border))\n",
    "\n",
    "############################\n",
    "Count the number of times `letter` appears in `content`.\n",
    "\n",
    "Args:\n",
    "  content (str): The string to search.\n",
    "  letter (str): The letter to search for.\n",
    "\n",
    "Returns:\n",
    "  int\n",
    "\n",
    "Raises:\n",
    "  ValueError: If `letter` is not a one-character string.\n",
    "############################\n",
    "\n",
    "```\n",
    "\n",
    "#### Function to retrieve docstring\n",
    "```python\n",
    "import inspect\n",
    "\n",
    "def build_tooltip(function):\n",
    "  \"\"\"Create a tooltip for any function that shows the\n",
    "  function's docstring.\n",
    "\n",
    "  Args:\n",
    "    function (callable): The function we want a tooltip for.\n",
    "\n",
    "  Returns:\n",
    "    str\n",
    "  \"\"\"\n",
    "  # Get the docstring for the \"function\" argument by using inspect\n",
    "  docstring = inspect.getdoc(function)\n",
    "  border = '#' * 28\n",
    "  return '{}\\n{}\\n{}'.format(border, docstring, border)\n",
    "\n",
    "print(build_tooltip(count_letter))\n",
    "print(build_tooltip(range))\n",
    "print(build_tooltip(print))\n",
    "\n",
    "############################\n",
    "Count the number of times `letter` appears in `content`.\n",
    "\n",
    "Args:\n",
    "  content (str): The string to search.\n",
    "  letter (str): The letter to search for.\n",
    "\n",
    "Returns:\n",
    "  int\n",
    "\n",
    "Raises:\n",
    "  ValueError: If `letter` is not a one-character string.\n",
    "############################\n",
    "############################\n",
    "range(stop) -> range object\n",
    "range(start, stop[, step]) -> range object\n",
    "\n",
    "Return an object that produces a sequence of integers from start (inclusive)\n",
    "to stop (exclusive) by step.  range(i, j) produces i, i+1, i+2, ..., j-1.\n",
    "start defaults to 0, and stop is omitted!  range(4) produces 0, 1, 2, 3.\n",
    "These are exactly the valid indices for a list of 4 elements.\n",
    "When step is given, it specifies the increment (or decrement).\n",
    "############################\n",
    "############################\n",
    "print(value, ..., sep=' ', end='\\n', file=sys.stdout, flush=False)\n",
    "\n",
    "Prints the values to a stream, or to sys.stdout by default.\n",
    "Optional keyword arguments:\n",
    "file:  a file-like object (stream); defaults to the current sys.stdout.\n",
    "sep:   string inserted between values, default a space.\n",
    "end:   string appended after the last value, default a newline.\n",
    "flush: whether to forcibly flush the stream.\n",
    "############################\n",
    "```"
   ]
  },
  {
   "cell_type": "markdown",
   "id": "d2358e58-18f9-46be-bde2-7280159299b9",
   "metadata": {},
   "source": [
    "### Function Splitting Up \n",
    "\n",
    "```python\n",
    "def mean_and_median(values):\n",
    "  \"\"\"Get the mean and median of a sorted list of `values`\n",
    "\n",
    "  Args:\n",
    "    values (iterable of float): A list of numbers\n",
    "\n",
    "  Returns:\n",
    "    tuple (float, float): The mean and median\n",
    "  \"\"\"\n",
    "  mean = sum(values) / len(values)\n",
    "  midpoint = int(len(values) / 2)\n",
    "  if len(values) % 2 == 0:\n",
    "    median = (values[midpoint - 1] + values[midpoint]) / 2\n",
    "  else:\n",
    "    median = values[midpoint]\n",
    "\n",
    "  return mean, median\n",
    "\n",
    "\n",
    "def median(values):\n",
    "  \"\"\"Get the median of a sorted list of values\n",
    "\n",
    "  Args:\n",
    "    values (iterable of float): A list of numbers\n",
    "\n",
    "  Returns:\n",
    "    float\n",
    "  \"\"\"\n",
    "  # Write the median() function\n",
    "  midpoint = int(len(values)/2)\n",
    "  if len(values) % 2 == 0:\n",
    "    # zero indexing to get say [1,2,3,4] (median)\n",
    "    # values[midpoint - 1] == 2 & values[midpoint + 1] == 3\n",
    "    median = (values[midpoint - 1] + values[midpoint]) / 2\n",
    "  else:\n",
    "    median = values[midpoint]\n",
    "  return median\n",
    "```"
   ]
  },
  {
   "cell_type": "markdown",
   "id": "65ac28d2-4c0d-4a29-9cd1-79497cf6b14b",
   "metadata": {},
   "source": [
    "#### Mutable or immutable?\n",
    "The following function adds a mapping between a string and the lowercase version of that string to a dictionary. What do you expect the values of d and s to be after the function is called?\n",
    "\n",
    "```python\n",
    "def store_lower(_dict, _string):\n",
    "  \"\"\"Add a mapping between `_string` and a lowercased version of `_string` to `_dict`\n",
    "\n",
    "  Args:\n",
    "    _dict (dict): The dictionary to update.\n",
    "    _string (str): The string to add.\n",
    "  \"\"\"\n",
    "  orig_string = _string\n",
    "  _string = _string.lower()\n",
    "  _dict[orig_string] = _string\n",
    "\n",
    "d = {}\n",
    "s = 'Hello'\n",
    "\n",
    "store_lower(d, s)\n",
    "```\n",
    "* d = {}, s = 'Hello'\n",
    "* d = {}, s = 'hello'\n",
    "* d = {'Hello': 'hello'}, s = 'Hello'\n",
    "* d = {'Hello': 'hello'}, s = 'hello'\n",
    "* d = {'hello': 'hello'}, s = 'hello'\n",
    "\n",
    "**d = {'Hello': 'hello'}, s = 'Hello'**\n",
    "* Dictionaries are mutable objects in Python, so the function can directly change it in the _dict[_orig_string] = _string statement. Strings, on the other hand, are immutable. When the function creates the lowercase version, it has to assign it to the _string variable. This disconnects what happens to _string from the external s variable."
   ]
  },
  {
   "cell_type": "markdown",
   "id": "a938e91b-f618-4cb9-a0f1-39f8fbfd1101",
   "metadata": {},
   "source": [
    "#### Best practice for default arguments\n",
    "One of your co-workers (who obviously didn't take this course) has written this function for adding a column to a pandas DataFrame. Unfortunately, they used a mutable variable as a default argument value! Please show them a better way to do this so that they don't get unexpected behavior.\n",
    "\n",
    "```python\n",
    "# Use an immutable variable for the default argument\n",
    "def better_add_column(values, df=None):\n",
    "  \"\"\"Add a column of `values` to a DataFrame `df`.\n",
    "  The column will be named \"col_<n>\" where \"n\" is\n",
    "  the numerical index of the column.\n",
    "\n",
    "  Args:\n",
    "    values (iterable): The values of the new column\n",
    "    df (DataFrame, optional): The DataFrame to update.\n",
    "      If no DataFrame is passed, one is created by default.\n",
    "\n",
    "  Returns:\n",
    "    DataFrame\n",
    "  \"\"\"\n",
    "  # Update the function to create a default DataFrame\n",
    "  if df is None:\n",
    "    df = pandas.DataFrame()\n",
    "  df['col_{}'.format(len(df.columns))] = values\n",
    "  return df\n",
    "```"
   ]
  },
  {
   "cell_type": "markdown",
   "id": "759f58a1-bc02-4f0e-9b9c-de921750dd83",
   "metadata": {},
   "source": [
    "### Context Managers\n",
    "* If you've ever seen the \"with\" keyword in Python and wondered what its deal was, then this is the chapter for you! Context managers are a convenient way to provide connections in Python and guarantee that those connections get cleaned up when you are done using them. This chapter will show you how to use context managers, as well as how to write your own"
   ]
  },
  {
   "cell_type": "markdown",
   "id": "c6788245-45c1-4b38-9dde-026aadf2555d",
   "metadata": {},
   "source": [
    "```python\n",
    "# Open \"alice.txt\" and assign the file to \"file\"\n",
    "with open('alice.txt') as file:\n",
    "  text = file.read()\n",
    "\n",
    "n = 0\n",
    "for word in text.split():\n",
    "  if word.lower() in ['cat', 'cats']:\n",
    "    n += 1\n",
    "\n",
    "print('Lewis Carroll uses the word \"cat\" {} times'.format(n))\n",
    "Lewis Carroll uses the word \"cat\" 24 times\n",
    "```\n",
    "\n",
    "#### The speed of cats\n",
    "You're working on a new web service that processes Instagram feeds to identify which pictures contain cats (don't ask why -- it's the internet). The code that processes the data is slower than you would like it to be, so you are working on tuning it up to run faster. Given an image, image, you have two functions that can process it:\n",
    "\n",
    "process_with_numpy(image)\n",
    "process_with_pytorch(image)\n",
    "Your colleague wrote a context manager, timer(), that will print out how long the code inside the context block takes to run. She is suggesting you use it to see which of the two options is faster. Time each function to determine which one to use in your web service.\n",
    "\n",
    "```python\n",
    "image = get_image_from_instagram()\n",
    "\n",
    "# Time how long process_with_numpy(image) takes to run\n",
    "with timer():\n",
    "  print('Numpy version')\n",
    "  process_with_numpy(image)\n",
    "\n",
    "# Time how long process_with_pytorch(image) takes to run\n",
    "with timer():\n",
    "  print('Pytorch version')\n",
    "  process_with_pytorch(image)\n",
    "    \n",
    "Numpy version\n",
    "Processing..........done!\n",
    "Elapsed: 1.52 seconds\n",
    "Pytorch version\n",
    "Processing..........done!\n",
    "Elapsed: 0.33 seconds\n",
    "```"
   ]
  },
  {
   "cell_type": "markdown",
   "id": "3f14839f-a828-417c-b137-02c18453cbda",
   "metadata": {},
   "source": [
    "#### The timer() context manager\n",
    "A colleague of yours is working on a web service that processes Instagram photos. Customers are complaining that the service takes too long to identify whether or not an image has a cat in it, so your colleague has come to you for help. You decide to write a context manager that they can use to time how long their functions take to run.\n",
    "\n",
    "* Remember that context managers use yield to return control to the context.\n",
    "\n",
    "```python\n",
    "# Add a decorator that will make timer() a context manager\n",
    "@contextlib.contextmanager\n",
    "def timer():\n",
    "  \"\"\"Time the execution of a context block.\n",
    "\n",
    "  Yields:\n",
    "    None\n",
    "  \"\"\"\n",
    "  start = time.time()\n",
    "  # Send control back to the context block\n",
    "  yield\n",
    "  end = time.time()\n",
    "  print('Elapsed: {:.2f}s'.format(end - start))\n",
    "\n",
    "with timer():\n",
    "  print('This should take approximately 0.25 seconds')\n",
    "  time.sleep(0.25)\n",
    "    \n",
    "This should take approximately 0.25 seconds\n",
    "Elapsed: 0.25s\n",
    "```\n",
    "* Notice that the three elements of a context manager are all here: a function definition, a yield statement, and the @contextlib.contextmanager decorator. \n",
    "\n",
    "\n",
    "#### Read-only open context manager\n",
    "```python\n",
    "@contextlib.contextmanager\n",
    "def open_read_only(filename):\n",
    "  \"\"\"Open a file in read-only mode.\n",
    "\n",
    "  Args:\n",
    "    filename (str): The location of the file to read\n",
    "\n",
    "  Yields:\n",
    "    file object\n",
    "  \"\"\"\n",
    "  read_only_file = open(filename, mode='r')\n",
    "  # Yield read_only_file so it can be assigned to my_file\n",
    "  yield read_only_file\n",
    "  # Close read_only_file\n",
    "  read_only_file.close()\n",
    "\n",
    "with open_read_only('my_file.txt') as my_file:\n",
    "  print(my_file.read())\n",
    "\n",
    "    Congratulations! You wrote a context manager that acts like \"open()\" but operates in read-only mode!\n",
    "\n",
    "```"
   ]
  },
  {
   "cell_type": "markdown",
   "id": "e01f54c6-88bc-4b96-8a5e-7ac2d7ddaaca",
   "metadata": {},
   "source": [
    "#### Scraping the NASDAQ\n",
    "Training deep neural nets is expensive! You might as well invest in NVIDIA stock since you're spending so much on GPUs. To pick the best time to invest, you are going to collect and analyze some data on how their stock is doing. The context manager stock('NVDA') will connect to the NASDAQ and return an object that you can use to get the latest price by calling its .price() method.\n",
    "\n",
    "You want to connect to stock('NVDA') and record 10 timesteps of price data by writing it to the file NVDA.txt.\n",
    "\n",
    "```python\n",
    "# Use the \"stock('NVDA')\" context manager\n",
    "# and assign the result to the variable \"nvda\"\n",
    "with stock('NVDA') as nvda:\n",
    "  # Open 'NVDA.txt' for writing as f_out\n",
    "  with open('NVDA.txt', 'w') as f_out:\n",
    "    for _ in range(10):\n",
    "      value = nvda.price()\n",
    "      print('Logging ${:.2f} for NVDA'.format(value))\n",
    "      f_out.write('{:.2f}\\n'.format(value))\n",
    "    \n",
    "Opening stock ticker for NVDA\n",
    "Logging $140.39 for NVDA\n",
    "Logging $140.33 for NVDA\n",
    "Logging $140.27 for NVDA\n",
    "Logging $140.23 for NVDA\n",
    "Logging $140.20 for NVDA\n",
    "Logging $140.28 for NVDA\n",
    "Logging $140.34 for NVDA\n",
    "Logging $140.39 for NVDA\n",
    "Logging $140.29 for NVDA\n",
    "Logging $140.27 for NVDA\n",
    "Closing stock ticker\n",
    "```\n",
    "\n",
    "#### Changing the Working Directory\n",
    "```python\n",
    "def in_dir(directory):\n",
    "  \"\"\"Change current working directory to `directory`,\n",
    "  allow the user to run some code, and change back.\n",
    "\n",
    "  Args:\n",
    "    directory (str): The path to a directory to work in.\n",
    "  \"\"\"\n",
    "  current_dir = os.getcwd()\n",
    "  os.chdir(directory)\n",
    "\n",
    "  # Add code that lets you handle errors\n",
    "  try:\n",
    "    yield\n",
    "  # Ensure the directory is reset,\n",
    "  # whether there was an error or not\n",
    "  finally:\n",
    "    os.chdir(current_dir)\n",
    "```\n",
    "* Now, even if someone writes buggy code when using your context manager, you will be sure to change the current working directory back to what it was when they called in_dir(). This is important to do because your users might be relying on their working directory being what it was when they started the script. in_dir() is a great example of the CHANGE/RESET pattern that indicates you should use a context manager."
   ]
  },
  {
   "cell_type": "markdown",
   "id": "36420026-2b99-4413-8bf8-d14c10cd3378",
   "metadata": {},
   "source": [
    "## Decorators\n",
    "* Decorators are an extremely powerful concept in Python. They allow you to modify the behavior of a function without changing the code of the function itself. This chapter will lay the foundational concepts needed to thoroughly understand decorators (functions as objects, scope, and closures), and give you a good introduction into how decorators are used and defined. \n",
    "\n",
    "<br>\n",
    "\n",
    "#### Building a command line data app\n",
    "You are building a command line tool that lets a user interactively explore a dataset. We've defined four functions: mean(), std(), minimum(), and maximum() that users can call to analyze their data. Help finish this section of the code so that your users can call any of these functions by typing the function name at the input prompt.\n",
    "\n",
    "Note: The function get_user_input() in this exercise is a mock version of asking the user to enter a command. It randomly returns one of the four function names. In real life, you would ask for input and wait until the user entered a value.\n",
    "\n",
    "```python\n",
    "# Add the missing function references to the function map\n",
    "function_map = {\n",
    "  'mean': mean,\n",
    "  'std': std,\n",
    "  'minimum': minimum,\n",
    "  'maximum': maximum\n",
    "}\n",
    "\n",
    "data = load_data()\n",
    "print(data)\n",
    "\n",
    "func_name = get_user_input()\n",
    "\n",
    "# Call the chosen function and pass \"data\" as an argument\n",
    "function_map[func_name](data)\n",
    "\n",
    "   height  weight\n",
    "0    72.1     198\n",
    "1    69.8     204\n",
    "2    63.2     164\n",
    "3    64.7     238\n",
    "Type a command: \n",
    "> maximum\n",
    "height     72.1\n",
    "weight    238.0\n",
    "dtype: float64\n",
    "```\n",
    "\n",
    "\n",
    "#### Reviewing your co-worker's code\n",
    "Your co-worker is asking you to review some code that they've written and give them some tips on how to get it ready for production. You know that having a docstring is considered best practice for maintainable, reusable functions, so as a sanity check you decide to run this has_docstring() function on all of their functions.\n",
    "\n",
    "```python\n",
    "def has_docstring(func):\n",
    "  \"\"\"Check to see if the function \n",
    "  `func` has a docstring.\n",
    "\n",
    "  Args:\n",
    "    func (callable): A function.\n",
    "\n",
    "  Returns:\n",
    "    bool\n",
    "  \"\"\"\n",
    "  return func.__doc__ is not None\n",
    "```\n",
    "\n",
    "```python\n",
    "# Call has_docstring() on the log_product() function\n",
    "ok = has_docstring(log_product)\n",
    "\n",
    "if not ok:\n",
    "  print(\"log_product() doesn't have a docstring!\")\n",
    "else:\n",
    "  print(\"log_product() looks ok\")\n",
    "\n",
    "log_product() doesn't have a docstring!\n",
    "```\n",
    "\n",
    "#### Returning functions for a math game\n",
    "You are building an educational math game where the player enters a math term, and your program returns a function that matches that term. For instance, if the user types \"add\", your program returns a function that adds two numbers. So far you've only implemented the \"add\" function. Now you want to include a \"subtract\" function."
   ]
  },
  {
   "cell_type": "code",
   "execution_count": 1,
   "id": "f10001e9-4444-4d7f-a54b-e3b607690323",
   "metadata": {
    "executionTime": 78,
    "lastSuccessfullyExecutedCode": "def create_math_function(func_name):\n  if func_name == 'add':\n    def add(a, b):\n      return a + b\n    return add\n  elif func_name == 'subtract':\n    # Define the subtract() function\n    def subtract(a, b):\n      return a - b\n    return subtract\n  else:\n    print(\"I don't know that one\")\n    \nadd = create_math_function('add')\nprint('5 + 2 = {}'.format(add(5, 2)))\n\nsubtract = create_math_function('subtract')\nprint('5 - 2 = {}'.format(subtract(5, 2)))"
   },
   "outputs": [
    {
     "name": "stdout",
     "output_type": "stream",
     "text": [
      "5 + 2 = 7\n",
      "5 - 2 = 3\n"
     ]
    }
   ],
   "source": [
    "def create_math_function(func_name):\n",
    "  if func_name == 'add':\n",
    "    def add(a, b):\n",
    "      return a + b\n",
    "    return add\n",
    "  elif func_name == 'subtract':\n",
    "    # Define the subtract() function\n",
    "    def subtract(a, b):\n",
    "      return a - b\n",
    "    return subtract\n",
    "  else:\n",
    "    print(\"I don't know that one\")\n",
    "    \n",
    "add = create_math_function('add')\n",
    "print('5 + 2 = {}'.format(add(5, 2)))\n",
    "\n",
    "subtract = create_math_function('subtract')\n",
    "print('5 - 2 = {}'.format(subtract(5, 2)))"
   ]
  },
  {
   "cell_type": "markdown",
   "id": "a4a43278-7dd3-4cf4-8ea6-8b15597d463f",
   "metadata": {},
   "source": [
    "* Notice how we assign the return value from create_math_function() to the add and subtract variables in the script. Since create_math_function() returns a function, we can then call _those variables_ as functions.\n",
    "\n",
    "![Screen Shot 2023-03-08 at 11.42.19 AM](Screen%20Shot%202023-03-08%20at%2011.42.19%20AM.png)\n",
    "\n",
    "#### Understanding scope\n",
    "What four values does this script print?\n",
    "```python\n",
    "x = 50\n",
    "\n",
    "def one():\n",
    "  x = 10\n",
    "\n",
    "def two():\n",
    "  global x\n",
    "  x = 30\n",
    "\n",
    "def three():\n",
    "  x = 100\n",
    "  print(x)\n",
    "\n",
    "for func in [one, two, three]:\n",
    "  func()\n",
    "  print(x)\n",
    "```\n",
    "* Order of printout for function invocations\n",
    "1. one() doesn't change the global x, so the first print() statement prints 50.\n",
    "2. two() does change the global x so the second print() statement prints 30.\n",
    "3. The print() statement inside the function three() is referencing the x value that is local to three(), so it prints 100. But three() does not change the global x value so the last print() statement prints 30 again.\n",
    "\n",
    "\n"
   ]
  },
  {
   "cell_type": "code",
   "execution_count": 2,
   "id": "299d2689-5b3d-4ba7-9183-746d7f99e67f",
   "metadata": {
    "executionTime": 49,
    "lastSuccessfullyExecutedCode": "x = 50\n\ndef one():\n    x = 10\n    \ndef two():\n    global x \n    x = 30\n    \ndef three():\n    x = 100\n    print(x)\n    \nfor func in [one, two, three]:\n    func()\n    print(x)"
   },
   "outputs": [
    {
     "name": "stdout",
     "output_type": "stream",
     "text": [
      "50\n",
      "30\n",
      "100\n",
      "30\n"
     ]
    }
   ],
   "source": [
    "x = 50\n",
    "\n",
    "def one():\n",
    "    x = 10\n",
    "    \n",
    "def two():\n",
    "    global x \n",
    "    x = 30\n",
    "    \n",
    "def three():\n",
    "    x = 100\n",
    "    print(x)\n",
    "    \n",
    "for func in [one, two, three]:\n",
    "    func()\n",
    "    print(x)"
   ]
  },
  {
   "cell_type": "markdown",
   "id": "28460daf-0f20-4b8e-9a4c-a311644582f3",
   "metadata": {},
   "source": [
    "#### Modifying variables outside local scope\n",
    "Sometimes your functions will need to modify a variable that is outside of the local scope of that function. While it's generally not best practice to do so, it's still good to know how in case you need to do it. Update these functions so they can modify variables that would usually be outside of their scope."
   ]
  },
  {
   "cell_type": "code",
   "execution_count": 3,
   "id": "02ae47ce-aabf-4165-b91a-592a1cb3a2b2",
   "metadata": {
    "executionTime": 69,
    "lastSuccessfullyExecutedCode": "call_count = 0\n\ndef my_function():\n  # Use a keyword that lets us update call_count \n  global call_count\n  call_count += 1\n  \n  print(\"You've called my_function() {} times!\".format(\n    call_count\n  ))\n  \nfor _ in range(20):\n  my_function()"
   },
   "outputs": [
    {
     "name": "stdout",
     "output_type": "stream",
     "text": [
      "You've called my_function() 1 times!\n",
      "You've called my_function() 2 times!\n",
      "You've called my_function() 3 times!\n",
      "You've called my_function() 4 times!\n",
      "You've called my_function() 5 times!\n",
      "You've called my_function() 6 times!\n",
      "You've called my_function() 7 times!\n",
      "You've called my_function() 8 times!\n",
      "You've called my_function() 9 times!\n",
      "You've called my_function() 10 times!\n",
      "You've called my_function() 11 times!\n",
      "You've called my_function() 12 times!\n",
      "You've called my_function() 13 times!\n",
      "You've called my_function() 14 times!\n",
      "You've called my_function() 15 times!\n",
      "You've called my_function() 16 times!\n",
      "You've called my_function() 17 times!\n",
      "You've called my_function() 18 times!\n",
      "You've called my_function() 19 times!\n",
      "You've called my_function() 20 times!\n"
     ]
    }
   ],
   "source": [
    "call_count = 0\n",
    "\n",
    "def my_function():\n",
    "  # Use a keyword that lets us update call_count \n",
    "  global call_count\n",
    "  call_count += 1\n",
    "  \n",
    "  print(\"You've called my_function() {} times!\".format(\n",
    "    call_count\n",
    "  ))\n",
    "  \n",
    "for _ in range(20):\n",
    "  my_function()"
   ]
  },
  {
   "cell_type": "markdown",
   "id": "ecf4ea1c-96ed-4993-8ddb-3ea2040d2ecf",
   "metadata": {},
   "source": [
    "* Add a keyword that lets us modify file_contents from inside save_contents().\n",
    "\t* From the perspective of the code in save_contents(), variables defined in read_files() are not in the local scope or the global scope.\n",
    "\n",
    "```python\n",
    "def read_files():\n",
    "  file_contents = None\n",
    "  \n",
    "  def save_contents(filename):\n",
    "    # Add a keyword that lets us modify file_contents\n",
    "    nonlocal file_contents\n",
    "    if file_contents is None:\n",
    "      file_contents = []\n",
    "    with open(filename) as fin:\n",
    "      file_contents.append(fin.read())\n",
    "      \n",
    "  for filename in ['1984.txt', 'MobyDick.txt', 'CatsEye.txt']:\n",
    "    save_contents(filename)\n",
    "    \n",
    "  return file_contents\n",
    "\n",
    "print('\\n'.join(read_files()))\n",
    "\n",
    "It was a bright day in April, and the clocks were striking thirteen.\n",
    "Call me Ishmael.\n",
    "Time is not a line but a dimension, like the dimensions of space.\n",
    "```\n",
    "* initially on the first call of save_contents (with 1984.txt), the file_contents is None and is set to a list\n",
    "*  The next call would see the nonlocal usage on the file_contents has updated the variable to a list and the value would not be none as to not remove the previous read call on the first iteration through files\n",
    "*  Essentially the dubbing of the nonlocal on the file_contents helps sets the context/assignment to the variable in the nested function above to set to a list if None and adjust the variable overall so to not delete items appended to the list \n",
    "\n",
    "<br>\n",
    "\n",
    "* Add a keyword to done in check_is_done() so that wait_until_done() eventually stops looping.\n",
    "```python\n",
    "def wait_until_done():\n",
    "  def check_is_done():\n",
    "    # Add a keyword so that wait_until_done() \n",
    "    # doesn't run forever\n",
    "    global done\n",
    "    if random.random() < 0.1:\n",
    "      done = True\n",
    "      \n",
    "  while not done:\n",
    "    check_is_done()\n",
    "\n",
    "done = False\n",
    "wait_until_done()\n",
    "\n",
    "print('Work done? {}'.format(done))\n",
    "Work done? True\n",
    "```\n",
    "* By adding `global` done in check_is_done(), you ensure that the done being referenced is the one that was set to False before wait_until_done() was called. Without this keyword, wait_until_done() would loop forever because the done = True in check_is_done() would only be changing a variable that is local to check_is_done().\n"
   ]
  },
  {
   "cell_type": "markdown",
   "id": "6433b1d2-df01-4348-abf8-280fa160406a",
   "metadata": {},
   "source": [
    "### Closures\n",
    "* Nonlocal variables attached to a return function\n",
    "\n",
    "#### Attaching nonlocal variables to nested functions"
   ]
  },
  {
   "cell_type": "code",
   "execution_count": 14,
   "id": "5721581b-3e16-4ce5-8c88-d1b5a37b0869",
   "metadata": {
    "executionTime": 58,
    "lastSuccessfullyExecutedCode": "def foo():\n    a = 5\n    def bar():\n        print(a)\n    return bar\n\n# assing a function call to a variable\nfunc = foo() # bar function returned\nprint(func(), len(func.__closure__), func.__closure__[0].cell_contents) # length of variable or value within closure and contents"
   },
   "outputs": [
    {
     "name": "stdout",
     "output_type": "stream",
     "text": [
      "5\n",
      "None 1 5\n"
     ]
    }
   ],
   "source": [
    "def foo():\n",
    "    a = 5\n",
    "    def bar():\n",
    "        print(a)\n",
    "    return bar\n",
    "\n",
    "# assing a function call to a variable\n",
    "func = foo() # bar function returned\n",
    "print(func(), len(func.__closure__), func.__closure__[0].cell_contents) # length of variable or value within closure and contents"
   ]
  },
  {
   "cell_type": "code",
   "execution_count": 15,
   "id": "46a26d97-1ccc-42bd-af56-05cdc3adf8e9",
   "metadata": {
    "executionTime": 66,
    "lastSuccessfullyExecutedCode": "def parent(arg_1, arg_2):\n    value = 22\n    my_dict = {'chocolate':'yummy'}\n    \n    def child():\n        print(2 * value)\n        print(my_dict['chocolate'])\n        print(arg_1 + arg_2)\n        \n    return child\n\nnew_function = parent(3, 4)\nprint([cell.cell_contents for cell in new_function.__closure__])"
   },
   "outputs": [
    {
     "name": "stdout",
     "output_type": "stream",
     "text": [
      "[3, 4, {'chocolate': 'yummy'}, 22]\n"
     ]
    }
   ],
   "source": [
    "def parent(arg_1, arg_2):\n",
    "    value = 22\n",
    "    my_dict = {'chocolate':'yummy'}\n",
    "    \n",
    "    def child():\n",
    "        print(2 * value)\n",
    "        print(my_dict['chocolate'])\n",
    "        print(arg_1 + arg_2)\n",
    "        \n",
    "    return child\n",
    "\n",
    "new_function = parent(3, 4)\n",
    "print([cell.cell_contents for cell in new_function.__closure__])"
   ]
  },
  {
   "cell_type": "markdown",
   "id": "84068b15-466c-45a9-931d-47f755d10a4d",
   "metadata": {},
   "source": [
    "* Notice how our call of parent (outer function) and assigned to the new_function variable can have it's closure elements for values `(arguments 1 & 2)` and the `value` and `my_dict` avaiable with the return of the nested function\n",
    "\n",
    "\n",
    "<br>\n",
    "\n",
    "### \"Why does all of this matter?\" \n",
    "Well, in the next lesson we'll finally get to talk about **decorators** . In order to work, decorators have to make use of all of these concepts: \n",
    "* functions as objects, \n",
    "* nested functions, \n",
    "* nonlocal scope, and \n",
    "* closures. "
   ]
  },
  {
   "cell_type": "code",
   "execution_count": 17,
   "id": "708468fb-04f7-444b-bedd-18646e219b1a",
   "metadata": {
    "executionTime": 50,
    "lastSuccessfullyExecutedCode": "# Checking for Closure\n\n\n## Use an attribute of the my_func() function to show that it has a closure that is not None.\ndef return_a_func(arg1, arg2):\n  def new_func():\n    print('arg1 was {}'.format(arg1))\n    print('arg2 was {}'.format(arg2))\n  return new_func\n    \nmy_func = return_a_func(2, 17)\n\nprint(my_func.__closure__ is not None)\nprint(len(my_func.__closure__) == 2)\n\n# Get the values of the variables in the closure\nclosure_values = [\n  my_func.__closure__[i].cell_contents for i in range(2)\n]\nprint(closure_values == [2, 17], '\\n', closure_values)"
   },
   "outputs": [
    {
     "name": "stdout",
     "output_type": "stream",
     "text": [
      "True\n",
      "True\n",
      "True \n",
      " [2, 17]\n"
     ]
    }
   ],
   "source": [
    "# Checking for Closure\n",
    "\n",
    "\n",
    "## Use an attribute of the my_func() function to show that it has a closure that is not None.\n",
    "def return_a_func(arg1, arg2):\n",
    "  def new_func():\n",
    "    print('arg1 was {}'.format(arg1))\n",
    "    print('arg2 was {}'.format(arg2))\n",
    "  return new_func\n",
    "    \n",
    "my_func = return_a_func(2, 17)\n",
    "\n",
    "print(my_func.__closure__ is not None)\n",
    "print(len(my_func.__closure__) == 2)\n",
    "\n",
    "# Get the values of the variables in the closure\n",
    "closure_values = [\n",
    "  my_func.__closure__[i].cell_contents for i in range(2)\n",
    "]\n",
    "print(closure_values == [2, 17], '\\n', closure_values)"
   ]
  },
  {
   "cell_type": "code",
   "execution_count": 18,
   "id": "74e4fc8f-838b-44f8-96b6-aadcf5f7d977",
   "metadata": {
    "executionTime": 66,
    "lastSuccessfullyExecutedCode": "# Show that even if you delete my_special_function(), you can still call new_func() without any problems.\ndef my_special_function():\n  print('You are running my_special_function()')\n  \ndef get_new_func(func):\n  def call_func():\n    func()\n  return call_func\n\nnew_func = get_new_func(my_special_function)\n\n# Delete my_special_function()\ndel my_special_function\n\nnew_func()"
   },
   "outputs": [
    {
     "name": "stdout",
     "output_type": "stream",
     "text": [
      "You are running my_special_function()\n"
     ]
    }
   ],
   "source": [
    "# Show that even if you delete my_special_function(), you can still call new_func() without any problems.\n",
    "def my_special_function():\n",
    "  print('You are running my_special_function()')\n",
    "  \n",
    "def get_new_func(func):\n",
    "  def call_func():\n",
    "    func()\n",
    "  return call_func\n",
    "\n",
    "new_func = get_new_func(my_special_function)\n",
    "\n",
    "# Delete my_special_function()\n",
    "del my_special_function\n",
    "\n",
    "new_func()"
   ]
  },
  {
   "cell_type": "markdown",
   "id": "197c8aa3-a8d0-440b-914d-e56433a21422",
   "metadata": {},
   "source": [
    "* Can still call **new_func** despite deleting the outer function object"
   ]
  },
  {
   "cell_type": "code",
   "execution_count": 19,
   "id": "f9de8f11-6439-490e-b5ee-625f2328f144",
   "metadata": {
    "executionTime": 52,
    "lastSuccessfullyExecutedCode": "# Show that you still get the original message even if you overwrite my_special_function() with the new function.\ndef my_special_function():\n  print('You are running my_special_function()')\n  \ndef get_new_func(func):\n  def call_func():\n    func()\n  return call_func\n\n# Overwrite `my_special_function` with the new function\nmy_special_function = get_new_func(my_special_function)\n\nmy_special_function()"
   },
   "outputs": [
    {
     "name": "stdout",
     "output_type": "stream",
     "text": [
      "You are running my_special_function()\n"
     ]
    }
   ],
   "source": [
    "# Show that you still get the original message even if you overwrite my_special_function() with the new function.\n",
    "def my_special_function():\n",
    "  print('You are running my_special_function()')\n",
    "  \n",
    "def get_new_func(func):\n",
    "  def call_func():\n",
    "    func()\n",
    "  return call_func\n",
    "\n",
    "# Overwrite `my_special_function` with the new function\n",
    "my_special_function = get_new_func(my_special_function)\n",
    "\n",
    "my_special_function()"
   ]
  },
  {
   "cell_type": "markdown",
   "id": "9569c7cf-4592-401f-82e5-9ba869c1fc9e",
   "metadata": {},
   "source": [
    "<br>\n",
    "\n",
    "### Back to Decorators\n",
    "* A decorator is a wrapper that you can place around a function that changes that function's behavior."
   ]
  },
  {
   "cell_type": "code",
   "execution_count": 22,
   "id": "e3d6a5f9-e426-4355-8c14-c2333af23319",
   "metadata": {
    "executionTime": 80,
    "lastSuccessfullyExecutedCode": "def multiply(a, b):\n    return a * b\n\ndef double_args(func):\n    # Define a new function that we can modify\n    def wrapper(a, b):\n        # For now just call the unmodified function\n        return func(a, b)\n    # Return the new function\n    return wrapper\n\n# Assign below variable to a call of double_args with multipy function\nnew_multiply = double_args(multiply)\n\n# Print type of new_multiply, and closure wrapper object\nprint(type(new_multiply), new_multiply.__closure__)\n\nprint(new_multiply(1, 5))"
   },
   "outputs": [
    {
     "name": "stdout",
     "output_type": "stream",
     "text": [
      "<class 'function'> (<cell at 0x7f08d51ea220: function object at 0x7f08d52309d0>,)\n",
      "5\n"
     ]
    }
   ],
   "source": [
    "def multiply(a, b):\n",
    "    return a * b\n",
    "\n",
    "def double_args(func):\n",
    "    # Define a new function that we can modify\n",
    "    def wrapper(a, b):\n",
    "        # For now just call the unmodified function\n",
    "        return func(a, b)\n",
    "    # Return the new function\n",
    "    return wrapper\n",
    "\n",
    "# Assign below variable to a call of double_args with multipy function\n",
    "new_multiply = double_args(multiply)\n",
    "\n",
    "# Print type of new_multiply, and closure wrapper object\n",
    "print(type(new_multiply), new_multiply.__closure__)\n",
    "\n",
    "print(new_multiply(1, 5))"
   ]
  },
  {
   "cell_type": "code",
   "execution_count": 24,
   "id": "b301eb2d-94b7-42b2-ac00-e974671afbc1",
   "metadata": {
    "executionTime": 74,
    "lastSuccessfullyExecutedCode": "# Modify to double\n\ndef multiply(a, b):\n    return a * b \n\ndef double_args(func):\n    # Define a new function that we can modify\n    def wrapper(a, b):\n        # double the values prior to multiplying\n        return func(a * 2, b * 2)\n    return wrapper \n\nnew_multiply = double_args(multiply)\nprint(new_multiply(1, 5))"
   },
   "outputs": [
    {
     "name": "stdout",
     "output_type": "stream",
     "text": [
      "20\n"
     ]
    }
   ],
   "source": [
    "# Modify to double\n",
    "\n",
    "def multiply(a, b):\n",
    "    return a * b \n",
    "\n",
    "def double_args(func):\n",
    "    # Define a new function that we can modify\n",
    "    def wrapper(a, b):\n",
    "        # double the values prior to multiplying\n",
    "        return func(a * 2, b * 2)\n",
    "    return wrapper \n",
    "\n",
    "new_multiply = double_args(multiply)\n",
    "print(new_multiply(1, 5))"
   ]
  },
  {
   "cell_type": "markdown",
   "id": "1acfaa13-66d0-4c69-92a3-b118fa35dfc9",
   "metadata": {},
   "source": [
    "#### Now let's actually modify the function our decorator is decorating. \n",
    "This time, wrapper() will still call whatever function is passed to double_args(), but it will double every argument when it calls the original function. See how it calls func() with a times 2 and b times 2? As usual, we will call double_args() on the multiply() function and assign the result to new_multiply(). Now, what happens when we call new_multiply() with 1 and 5 as arguments? \n",
    "* Well, new_multiply() is equal to wrapper(), which calls multiply() after doubling each argument. So 1 becomes 2 and 5 becomes 10, giving us 2 times 10, which equals 20.\n",
    "\n",
    "\n",
    "#### General Decorator Syntax\n",
    "* define decorator function first\n",
    "* preface function to decorate with an @ call with the name of the decorator function"
   ]
  },
  {
   "cell_type": "code",
   "execution_count": 25,
   "id": "4c92afb4-530d-4660-80c7-13ea0241e1b2",
   "metadata": {
    "executionTime": 57,
    "lastSuccessfullyExecutedCode": "# Decorator function (accepts function, returns wrapper to decorate function)\n\ndef double_args(func):\n    # define function to modify\n    def wrapper(a, b):\n        # func is still available to return from our outer function \n        return func(a * 2, b * 2)\n    return wrapper \n\n@double_args\ndef multiply(a, b):\n    return a * b\n\nprint(multiply(3, 5))"
   },
   "outputs": [
    {
     "name": "stdout",
     "output_type": "stream",
     "text": [
      "60\n"
     ]
    }
   ],
   "source": [
    "# Decorator function (accepts function, returns wrapper to decorate function)\n",
    "\n",
    "def double_args(func):\n",
    "    # define function to modify\n",
    "    def wrapper(a, b):\n",
    "        # func is still available to return from our outer function \n",
    "        return func(a * 2, b * 2)\n",
    "    return wrapper \n",
    "\n",
    "@double_args\n",
    "def multiply(a, b):\n",
    "    return a * b\n",
    "\n",
    "print(multiply(3, 5))"
   ]
  },
  {
   "cell_type": "markdown",
   "id": "8615ea2e-be83-4169-9906-8444626b947b",
   "metadata": {},
   "source": [
    "#### Defining a decorator\n",
    "Your buddy has been working on a decorator that prints a \"before\" message before the decorated function is called and prints an \"after\" message after the decorated function is called. They are having trouble remembering how wrapping the decorated function is supposed to work. Help them out by finishing their print_before_and_after() decorator."
   ]
  },
  {
   "cell_type": "code",
   "execution_count": 26,
   "id": "14acde4a-e849-490e-a18e-d0b59e7ae45c",
   "metadata": {
    "executionTime": 76,
    "lastSuccessfullyExecutedCode": "def print_before_and_after(func):\n  def wrapper(*args):\n    print('Before {}'.format(func.__name__))\n    # Call the function being decorated with *args\n    func(*args)\n    print('After {}'.format(func.__name__))\n  # Return the nested function\n  return wrapper\n\n@print_before_and_after\ndef multiply(a, b):\n  print(a * b)\n\nmultiply(5, 10)"
   },
   "outputs": [
    {
     "name": "stdout",
     "output_type": "stream",
     "text": [
      "Before multiply\n",
      "50\n",
      "After multiply\n"
     ]
    }
   ],
   "source": [
    "def print_before_and_after(func):\n",
    "  def wrapper(*args):\n",
    "    print('Before {}'.format(func.__name__))\n",
    "    # Call the function being decorated with *args\n",
    "    func(*args)\n",
    "    print('After {}'.format(func.__name__))\n",
    "  # Return the nested function\n",
    "  return wrapper\n",
    "\n",
    "@print_before_and_after\n",
    "def multiply(a, b):\n",
    "  print(a * b)\n",
    "\n",
    "multiply(5, 10)"
   ]
  },
  {
   "cell_type": "markdown",
   "id": "0288283d-d0b1-407c-b924-cf595f70c790",
   "metadata": {},
   "source": [
    "### Real-World Examples\n",
    "\n",
    "#### Print the return type\n",
    "You are debugging a package that you've been working on with your friends. Something weird is happening with the data being returned from one of your functions, but you're not even sure which function is causing the trouble. You know that sometimes bugs can sneak into your code when you are expecting a function to return one thing, and it returns something different. For instance, if you expect a function to return a numpy array, but it returns a list, you can get unexpected behavior. To ensure this is not what is causing the trouble, you decide to write a decorator, print_return_type(), that will print out the type of the variable that gets returned from every call of any function it is decorating."
   ]
  },
  {
   "cell_type": "code",
   "execution_count": 28,
   "id": "bcd910ee-7216-48e9-b7c0-5c33418f93c4",
   "metadata": {
    "executionTime": 59,
    "lastSuccessfullyExecutedCode": "def print_return_type(func):\n  # Define wrapper(), the decorated function\n  # The new decorated function should take any positional and keyword arguments.\n  def wrapper(*args, **kwargs):\n    # Call the function being decorated\n    result = func(*args, **kwargs)\n    print('{}() returned type {}'.format(\n      func.__name__, type(result)\n    ))\n    return result\n  # Return the decorated function\n  return wrapper\n  \n@print_return_type\ndef foo(value):\n  return value\n  \nprint(foo(42))\nprint(foo([1, 2, 3]))\nprint(foo({'a': 42}))"
   },
   "outputs": [
    {
     "name": "stdout",
     "output_type": "stream",
     "text": [
      "foo() returned type <class 'int'>\n",
      "42\n",
      "foo() returned type <class 'list'>\n",
      "[1, 2, 3]\n",
      "foo() returned type <class 'dict'>\n",
      "{'a': 42}\n"
     ]
    }
   ],
   "source": [
    "def print_return_type(func):\n",
    "  # Define wrapper(), the decorated function\n",
    "  # The new decorated function should take any positional and keyword arguments.\n",
    "  def wrapper(*args, **kwargs):\n",
    "    # Call the function being decorated\n",
    "    result = func(*args, **kwargs)\n",
    "    print('{}() returned type {}'.format(\n",
    "      func.__name__, type(result)\n",
    "    ))\n",
    "    return result\n",
    "  # Return the decorated function\n",
    "  return wrapper\n",
    "  \n",
    "@print_return_type\n",
    "def foo(value):\n",
    "  return value\n",
    "  \n",
    "print(foo(42))\n",
    "print(foo([1, 2, 3]))\n",
    "print(foo({'a': 42}))"
   ]
  },
  {
   "cell_type": "markdown",
   "id": "624df8f9-0d64-4e89-8611-e90c9d71cd80",
   "metadata": {},
   "source": [
    "#### Counter\n",
    "You're working on a new web app, and you are curious about how many times each of the functions in it gets called. So you decide to write a decorator that adds a counter to each function that you decorate. \n",
    "* You could use this information in the future to determine whether there are sections of code that you could remove because they are no longer being used by the app."
   ]
  },
  {
   "cell_type": "code",
   "execution_count": 29,
   "id": "a23cc89b-18a9-4f45-8898-ac1b5b77dba0",
   "metadata": {
    "executionTime": 93,
    "lastSuccessfullyExecutedCode": "def counter(func):\n  def wrapper(*args, **kwargs):\n    wrapper.count += 1\n    # Call the function being decorated and return the result\n    return func(*args, **kwargs)\n  wrapper.count = 0\n  # Return the new decorated function\n  return wrapper\n\n# Decorate foo() with the counter() decorator\n@counter\ndef foo():\n  print('calling foo()')\n  \nfoo()\nfoo()\n\nprint('foo() was called {} times.'.format(foo.count))"
   },
   "outputs": [
    {
     "name": "stdout",
     "output_type": "stream",
     "text": [
      "calling foo()\n",
      "calling foo()\n",
      "foo() was called 2 times.\n"
     ]
    }
   ],
   "source": [
    "def counter(func):\n",
    "  def wrapper(*args, **kwargs):\n",
    "    wrapper.count += 1\n",
    "    # Call the function being decorated and return the result\n",
    "    return func(*args, **kwargs)\n",
    "  wrapper.count = 0\n",
    "  # Return the new decorated function\n",
    "  return wrapper\n",
    "\n",
    "# Decorate foo() with the counter() decorator\n",
    "@counter\n",
    "def foo():\n",
    "  print('calling foo()')\n",
    "  \n",
    "foo()\n",
    "foo()\n",
    "\n",
    "print('foo() was called {} times.'.format(foo.count))"
   ]
  },
  {
   "cell_type": "markdown",
   "id": "2a9bb4d1-aa6d-4e5d-a128-93ee61c22e13",
   "metadata": {},
   "source": [
    "#### Preserving DocStrings"
   ]
  },
  {
   "cell_type": "code",
   "execution_count": 30,
   "id": "1b965949-545b-4a71-9f39-c2672060de29",
   "metadata": {
    "executionTime": 49,
    "lastSuccessfullyExecutedCode": "from functools import wraps\n\ndef add_hello(func):\n  # Decorate wrapper() so that it keeps func()'s metadata\n  @wraps(func)\n  def wrapper(*args, **kwargs):\n    \"\"\"Print 'hello' and then call the decorated function.\"\"\"\n    print('Hello')\n    return func(*args, **kwargs)\n  return wrapper\n  \n@add_hello\ndef print_sum(a, b):\n  \"\"\"Adds two numbers and prints the sum\"\"\"\n  print(a + b)\n  \nprint_sum(10, 20)\nprint_sum_docstring = print_sum.__doc__\nprint(print_sum_docstring)"
   },
   "outputs": [
    {
     "name": "stdout",
     "output_type": "stream",
     "text": [
      "Hello\n",
      "30\n",
      "Adds two numbers and prints the sum\n"
     ]
    }
   ],
   "source": [
    "from functools import wraps\n",
    "\n",
    "def add_hello(func):\n",
    "  # Decorate wrapper() so that it keeps func()'s metadata\n",
    "  @wraps(func)\n",
    "  def wrapper(*args, **kwargs):\n",
    "    \"\"\"Print 'hello' and then call the decorated function.\"\"\"\n",
    "    print('Hello')\n",
    "    return func(*args, **kwargs)\n",
    "  return wrapper\n",
    "  \n",
    "@add_hello\n",
    "def print_sum(a, b):\n",
    "  \"\"\"Adds two numbers and prints the sum\"\"\"\n",
    "  print(a + b)\n",
    "  \n",
    "print_sum(10, 20)\n",
    "print_sum_docstring = print_sum.__doc__\n",
    "print(print_sum_docstring)"
   ]
  },
  {
   "cell_type": "markdown",
   "id": "b566cb10-12b8-4670-9551-f6926c46a07a",
   "metadata": {},
   "source": [
    "```python\n",
    "@check_everything\n",
    "def duplicate(my_list):\n",
    "  \"\"\"Return a new list that repeats the input twice\"\"\"\n",
    "  return my_list + my_list\n",
    "\n",
    "t_start = time.time()\n",
    "duplicated_list = duplicate(list(range(50)))\n",
    "t_end = time.time()\n",
    "decorated_time = t_end - t_start\n",
    "\n",
    "t_start = time.time()\n",
    "# Call the original function instead of the decorated one\n",
    "duplicated_list = duplicate.__wrapped__(list(range(50)))\n",
    "t_end = time.time()\n",
    "undecorated_time = t_end - t_start\n",
    "\n",
    "print('Decorated time: {:.5f}s'.format(decorated_time))\n",
    "print('Undecorated time: {:.5f}s'.format(undecorated_time))\n",
    "```\n",
    "* Your function ran approximately 10,000 times faster without your boss's decorator. At least they were smart enough to add @wraps(func) to the nested wrapper() function so that you were able to access the original function. You should show them the results of this test. Be sure to ask for a raise while you're at it!"
   ]
  },
  {
   "cell_type": "markdown",
   "id": "c826bb01-a62a-4ded-8c16-58cb3a2788d7",
   "metadata": {},
   "source": [
    "### Decorators that Take Arguments"
   ]
  },
  {
   "cell_type": "code",
   "execution_count": 31,
   "id": "1b436d63-81af-4e8c-a135-2569849bcf52",
   "metadata": {
    "executionTime": 43,
    "lastSuccessfullyExecutedCode": "def run_n_times(n):\n  \"\"\"Define and return a decorator\"\"\"\n  def decorator(func):\n    def wrapper(*args, **kwargs):\n      for i in range(n):\n        func(*args, **kwargs)\n    return wrapper\n  return decorator"
   },
   "outputs": [],
   "source": [
    "def run_n_times(n):\n",
    "  \"\"\"Define and return a decorator\"\"\"\n",
    "  def decorator(func):\n",
    "    def wrapper(*args, **kwargs):\n",
    "      for i in range(n):\n",
    "        func(*args, **kwargs)\n",
    "    return wrapper\n",
    "  return decorator"
   ]
  },
  {
   "cell_type": "code",
   "execution_count": 32,
   "id": "44d086a3-0869-420a-8a50-ef13dc50001f",
   "metadata": {
    "executionTime": 85,
    "lastSuccessfullyExecutedCode": "# Make print_sum() run 10 times with the run_n_times() decorator\n@run_n_times(10)\ndef print_sum(a, b):\n  print(a + b)\n  \nprint_sum(15, 20)"
   },
   "outputs": [
    {
     "name": "stdout",
     "output_type": "stream",
     "text": [
      "35\n",
      "35\n",
      "35\n",
      "35\n",
      "35\n",
      "35\n",
      "35\n",
      "35\n",
      "35\n",
      "35\n"
     ]
    }
   ],
   "source": [
    "# Make print_sum() run 10 times with the run_n_times() decorator\n",
    "@run_n_times(10)\n",
    "def print_sum(a, b):\n",
    "  print(a + b)\n",
    "  \n",
    "print_sum(15, 20)"
   ]
  },
  {
   "cell_type": "code",
   "execution_count": 33,
   "id": "12c67629-a0c8-4964-86e8-f802a68c94bb",
   "metadata": {
    "executionTime": 51,
    "lastSuccessfullyExecutedCode": "## Use run_n_times() to create a decorator run_five_times() that will run any function five times.\n\n# Use run_n_times() to create the run_five_times() decorator\nrun_five_times = run_n_times(5)\n\n@run_five_times\ndef print_sum(a, b):\n  print(a + b)\n  \nprint_sum(4, 100)"
   },
   "outputs": [
    {
     "name": "stdout",
     "output_type": "stream",
     "text": [
      "104\n",
      "104\n",
      "104\n",
      "104\n",
      "104\n"
     ]
    }
   ],
   "source": [
    "## Use run_n_times() to create a decorator run_five_times() that will run any function five times.\n",
    "\n",
    "# Use run_n_times() to create the run_five_times() decorator\n",
    "run_five_times = run_n_times(5)\n",
    "\n",
    "@run_five_times\n",
    "def print_sum(a, b):\n",
    "  print(a + b)\n",
    "  \n",
    "print_sum(4, 100)"
   ]
  },
  {
   "cell_type": "markdown",
   "id": "efcfb492-09c6-4acc-8a21-03d841e6d3a3",
   "metadata": {},
   "source": [
    "* Here's the prank: use run_n_times() to modify the built-in print() function so that it always prints 20 times!\n",
    "\n",
    "```python\n",
    "# Modify the print() function to always run 20 times\n",
    "print = run_n_times(20)(print)\n",
    "\n",
    "print('What is happening?!?!')\n",
    "\n",
    "What is happening?!?!\n",
    "What is happening?!?!\n",
    "What is happening?!?!\n",
    "What is happening?!?!\n",
    "What is happening?!?!\n",
    "What is happening?!?!\n",
    "What is happening?!?!\n",
    "What is happening?!?!\n",
    "What is happening?!?!\n",
    "What is happening?!?!\n",
    "What is happening?!?!\n",
    "What is happening?!?!\n",
    "What is happening?!?!\n",
    "What is happening?!?!\n",
    "What is happening?!?!\n",
    "What is happening?!?!\n",
    "What is happening?!?!\n",
    "What is happening?!?!\n",
    "What is happening?!?!\n",
    "What is happening?!?!\n",
    "```"
   ]
  },
  {
   "cell_type": "markdown",
   "id": "26cb951e-418e-4417-b3f9-64d56f96557f",
   "metadata": {},
   "source": [
    "### HTML Generator\n",
    "You are writing a script that generates HTML for a webpage on the fly. So far, you have written two decorators that will add bold or italics tags to any function that returns a string. You notice, however, that these two decorators look very similar. Instead of writing a bunch of other similar looking decorators, you want to create one decorator, html(), that can take any pair of opening and closing tags.\n",
    "\n",
    "```python\n",
    "def html(open_tag, close_tag):\n",
    "  def decorator(func):\n",
    "    @wraps(func)\n",
    "    def wrapper(*args, **kwargs):\n",
    "      msg = func(*args, **kwargs)\n",
    "      return '{}{}{}'.format(open_tag, msg, close_tag)\n",
    "    # Return the decorated function\n",
    "    return wrapper\n",
    "  # Return the decorator\n",
    "  return decorator\n",
    "```\n",
    "\n",
    "* Use the html() decorator to wrap the return value of hello() in the strings <b> and </b> (the HTML tags that mean \"bold\").\n",
    "```python\n",
    "# Make hello() return bolded text\n",
    "@html('<b>', '</b>')\n",
    "def hello(name):\n",
    "  return 'Hello {}!'.format(name)\n",
    "  \n",
    "print(hello('Alice'))\n",
    "<b>Hello Alice!</b>\n",
    "```\n",
    "\n",
    "* Use html() to wrap the return value of goodbye() in the strings <i> and </i> (the HTML tags that mean \"italics\").\n",
    "```python\n",
    "# Make goodbye() return italicized text\n",
    "@html('<i>', '</i>')\n",
    "def goodbye(name):\n",
    "  return 'Goodbye {}.'.format(name)\n",
    "  \n",
    "print(goodbye('Alice'))\n",
    "<i>Goodbye Alice.</i>\n",
    "```\n",
    "\n",
    "```python\n",
    "# Wrap the result of hello_goodbye() in <div> and </div>\n",
    "@html('<div>', '</div>')\n",
    "def hello_goodbye(name):\n",
    "  return '\\n{}\\n{}\\n'.format(hello(name), goodbye(name))\n",
    "  \n",
    "print(hello_goodbye('Alice'))\n",
    "<div>\n",
    "<b>Hello Alice!</b>\n",
    "<i>Goodbye Alice.</i>\n",
    "</div>\n",
    "```\n"
   ]
  },
  {
   "cell_type": "markdown",
   "id": "63f08a22-1bfe-4083-9997-6bcbb06f416b",
   "metadata": {},
   "source": [
    "### Tag your functions\n",
    "Tagging something means that you have given that thing one or more strings that act as labels. For instance, we often tag emails or photos so that we can search for them later. You've decided to write a decorator that will let you tag your functions with an arbitrary list of tags. You could use these tags for many things:\n",
    "\n",
    "Adding information about who has worked on the function, so a user can look up who to ask if they run into trouble using it.\n",
    "Labeling functions as \"experimental\" so that users know that the inputs and outputs might change in the future.\n",
    "Marking any functions that you plan to remove in a future version of the code.\n",
    "Etc."
   ]
  },
  {
   "cell_type": "code",
   "execution_count": 34,
   "id": "04b887e8-540c-4c39-a50b-39022854be14",
   "metadata": {
    "executionTime": 86,
    "lastSuccessfullyExecutedCode": "def tag(*tags):\n  # Define a new decorator, named \"decorator\", to return\n  def decorator(func):\n    # Ensure the decorated function keeps its metadata\n    @wraps(func)\n    def wrapper(*args, **kwargs):\n      # Call the function being decorated and return the result\n      return func(*args, **kwargs)\n    wrapper.tags = tags\n    return wrapper\n  # Return the new decorator\n  return decorator\n\n@tag('test', 'this is a tag')\ndef foo():\n  pass\n\nprint(foo.tags)"
   },
   "outputs": [
    {
     "name": "stdout",
     "output_type": "stream",
     "text": [
      "('test', 'this is a tag')\n"
     ]
    }
   ],
   "source": [
    "def tag(*tags):\n",
    "  # Define a new decorator, named \"decorator\", to return\n",
    "  def decorator(func):\n",
    "    # Ensure the decorated function keeps its metadata\n",
    "    @wraps(func)\n",
    "    def wrapper(*args, **kwargs):\n",
    "      # Call the function being decorated and return the result\n",
    "      return func(*args, **kwargs)\n",
    "    wrapper.tags = tags\n",
    "    return wrapper\n",
    "  # Return the new decorator\n",
    "  return decorator\n",
    "\n",
    "@tag('test', 'this is a tag')\n",
    "def foo():\n",
    "  pass\n",
    "\n",
    "print(foo.tags)"
   ]
  },
  {
   "cell_type": "markdown",
   "id": "13cd039c-6afc-4493-a29d-8f3eafd31f8d",
   "metadata": {},
   "source": [
    "### Check the return type\n",
    "Python's flexibility around data types is usually cited as one of the benefits of the language. It can sometimes cause problems though if incorrect data types go unnoticed. You've decided that in order to ensure your code is doing exactly what you want it to do, you will explicitly check the return types in all of your functions and make sure they're returning what you expect. To do that, you are going to create a decorator that checks if the return type of the decorated function is correct.\n",
    "\n",
    "Note: assert is a keyword that you can use to test whether something is true. If you type assert condition and condition is True, this function doesn't do anything. If condition is False, this function raises an error. The type of error that it raises is called an AssertionError."
   ]
  },
  {
   "cell_type": "code",
   "execution_count": 35,
   "id": "922e910b-139d-49e2-be97-0807a613a8a7",
   "metadata": {
    "executionTime": 48,
    "lastSuccessfullyExecutedCode": "def returns_dict(func):\n  # Complete the returns_dict() decorator\n  def wrapper(*args, **kwargs):\n    result = func(*args, **kwargs)\n    assert type(result) == dict\n    return result\n  return wrapper\n  \n@returns_dict\ndef foo(value):\n  return value\n\ntry:\n  print(foo([1,2,3]))\nexcept AssertionError:\n  print('foo() did not return a dict!')\n  "
   },
   "outputs": [
    {
     "name": "stdout",
     "output_type": "stream",
     "text": [
      "foo() did not return a dict!\n"
     ]
    }
   ],
   "source": [
    "def returns_dict(func):\n",
    "  # Complete the returns_dict() decorator\n",
    "  def wrapper(*args, **kwargs):\n",
    "    result = func(*args, **kwargs)\n",
    "    assert type(result) == dict\n",
    "    return result\n",
    "  return wrapper\n",
    "  \n",
    "@returns_dict\n",
    "def foo(value):\n",
    "  return value\n",
    "\n",
    "try:\n",
    "  print(foo([1,2,3]))\n",
    "except AssertionError:\n",
    "  print('foo() did not return a dict!')\n",
    "  "
   ]
  },
  {
   "cell_type": "code",
   "execution_count": 36,
   "id": "50cfd24f-9643-4445-9c7f-fb9b9ca0b72b",
   "metadata": {
    "executionTime": 82,
    "lastSuccessfullyExecutedCode": "def returns(return_type):\n  # Write a decorator that raises an AssertionError if the\n  # decorated function returns a value that is not return_type\n  def decorator(func):\n    def wrapper(*args, **kwargs):\n      result = func(*args, **kwargs)\n      assert type(result) == return_type\n      return result\n    return wrapper\n  return decorator\n  \n@returns(dict)\ndef foo(value):\n  return value\n\ntry:\n  print(foo([1,2,3]))\nexcept AssertionError:\n  print('foo() did not return a dict!')"
   },
   "outputs": [
    {
     "name": "stdout",
     "output_type": "stream",
     "text": [
      "foo() did not return a dict!\n"
     ]
    }
   ],
   "source": [
    "def returns(return_type):\n",
    "  # Write a decorator that raises an AssertionError if the\n",
    "  # decorated function returns a value that is not return_type\n",
    "  def decorator(func):\n",
    "    def wrapper(*args, **kwargs):\n",
    "      result = func(*args, **kwargs)\n",
    "      assert type(result) == return_type\n",
    "      return result\n",
    "    return wrapper\n",
    "  return decorator\n",
    "  \n",
    "@returns(dict)\n",
    "def foo(value):\n",
    "  return value\n",
    "\n",
    "try:\n",
    "  print(foo([1,2,3]))\n",
    "except AssertionError:\n",
    "  print('foo() did not return a dict!')"
   ]
  }
 ],
 "metadata": {
  "colab": {
   "name": "Welcome to DataCamp Workspaces.ipynb",
   "provenance": []
  },
  "kernelspec": {
   "display_name": "Python 3 (ipykernel)",
   "language": "python",
   "name": "python3"
  },
  "language_info": {
   "codemirror_mode": {
    "name": "ipython",
    "version": 3
   },
   "file_extension": ".py",
   "mimetype": "text/x-python",
   "name": "python",
   "nbconvert_exporter": "python",
   "pygments_lexer": "ipython3",
   "version": "3.9.12"
  }
 },
 "nbformat": 4,
 "nbformat_minor": 5
}
