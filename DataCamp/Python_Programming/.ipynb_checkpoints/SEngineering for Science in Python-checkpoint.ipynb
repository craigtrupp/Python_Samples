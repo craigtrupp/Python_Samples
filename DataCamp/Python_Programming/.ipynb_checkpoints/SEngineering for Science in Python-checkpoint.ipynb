{
 "cells": [
  {
   "cell_type": "markdown",
   "id": "9d6e0b57",
   "metadata": {},
   "source": [
    "## Software Engineering for Data Scientists in Python\n",
    "* Modularity\n",
    "* Documentation\n",
    "* Automated Testing"
   ]
  },
  {
   "cell_type": "markdown",
   "id": "c5ba1ef9",
   "metadata": {},
   "source": [
    "### Python Modularity"
   ]
  },
  {
   "cell_type": "code",
   "execution_count": 13,
   "id": "62ee152b",
   "metadata": {},
   "outputs": [
    {
     "name": "stdout",
     "output_type": "stream",
     "text": [
      "[0 3 5 6 7 8 9]\n"
     ]
    }
   ],
   "source": [
    "# import the numpy package\n",
    "import numpy as np\n",
    "\n",
    "# create an array class object\n",
    "arr = np.array([8,6,7,5,3,0,9])\n",
    "\n",
    "# use arr sort method\n",
    "arr.sort()\n",
    "\n",
    "# print sorted array\n",
    "print(arr)"
   ]
  },
  {
   "cell_type": "markdown",
   "id": "602b3c4f",
   "metadata": {},
   "source": [
    "* Note here and reminder of the np.sort method returning a NoneType and modifying the array in place"
   ]
  },
  {
   "cell_type": "code",
   "execution_count": 14,
   "id": "932ad30e",
   "metadata": {},
   "outputs": [
    {
     "data": {
      "text/plain": [
       "NoneType"
      ]
     },
     "execution_count": 14,
     "metadata": {},
     "output_type": "execute_result"
    }
   ],
   "source": [
    "type(arr.sort())"
   ]
  },
  {
   "cell_type": "markdown",
   "id": "3f5ecb47",
   "metadata": {},
   "source": [
    "### Leveraging documentation\n",
    "When writing code for Data Science, it's inevitable that you'll need to install and use someone else's code. You'll quickly learn that using someone else's code is much more pleasant when they use good software engineering practices. In particular, good documentation makes the right way to call a function obvious. In this exercise you'll use python's help() method to view a function's documentation so you can determine how to correctly call a new method."
   ]
  },
  {
   "cell_type": "markdown",
   "id": "9304a24f",
   "metadata": {},
   "source": [
    "```python\n",
    "# load the Counter function into our environment\n",
    "from collections import Counter\n",
    "\n",
    "# View the documentation for Counter.most_common\n",
    "print(help(Counter.most_common))\n",
    "\n",
    "most_common(self, n=None)\n",
    "    List the n most common elements and their counts from the most\n",
    "    common to the least.  If n is None, then list all element counts.\n",
    "    \n",
    "    >>> Counter('abracadabra').most_common(3)\n",
    "    [('a', 5), ('b', 2), ('r', 2)]\n",
    "```\n",
    "* We can see the modules most_common method and how the Counter takes arguments and the return type of each counted object being listed in a list of tuples\n",
    "\n",
    "```python\n",
    "# use Counter to find the top 5 most common words\n",
    "top_5_words = Counter(words).most_common(n=5)\n",
    "\n",
    "# display the top 5 most common words\n",
    "print(top_5_words)\n",
    "\n",
    "# Output\n",
    "[('@DataCamp', 299), ('to', 263), ('the', 251), ('in', 164), ('RT', 158)]\n",
    "\n",
    "```"
   ]
  },
  {
   "cell_type": "markdown",
   "id": "93b852f3",
   "metadata": {},
   "source": [
    "### Using pycodestyle\n",
    "We saw earlier that pycodestyle can be run from the command line to check a file for PEP 8 compliance. Sometimes it's useful to run this kind of check from a Python script."
   ]
  },
  {
   "cell_type": "markdown",
   "id": "cf593cc1",
   "metadata": {},
   "source": [
    "```python\n",
    "# Import needed package\n",
    "import pycodestyle\n",
    "\n",
    "# Create a StyleGuide instance\n",
    "style_checker = pycodestyle.StyleGuide()\n",
    "\n",
    "# Run PEP 8 check on multiple files\n",
    "result = style_checker.check_files(['nay_pep8.py', 'yay_pep8.py'])\n",
    "\n",
    "# Print result of PEP 8 style check\n",
    "print(result.messages)\n",
    "\n",
    "```\n",
    "\n",
    "```python\n",
    "nay_pep8.py:1:1: E265 block comment should start with '# '\n",
    "nay_pep8.py:2:6: E225 missing whitespace around operator\n",
    "nay_pep8.py:4:2: E131 continuation line unaligned for hanging indent\n",
    "nay_pep8.py:5:6: E131 continuation line unaligned for hanging indent\n",
    "nay_pep8.py:6:1: E122 continuation line missing indentation or outdented\n",
    "nay_pep8.py:7:1: E265 block comment should start with '# '\n",
    "nay_pep8.py:8:1: E402 module level import not at top of file\n",
    "nay_pep8.py:9:1: E265 block comment should start with '# '\n",
    "nay_pep8.py:10:1: E302 expected 2 blank lines, found 0\n",
    "nay_pep8.py:10:18: E231 missing whitespace after ','\n",
    "nay_pep8.py:11:2: E111 indentation is not a multiple of 4\n",
    "nay_pep8.py:12:2: E111 indentation is not a multiple of 4\n",
    "nay_pep8.py:14:1: E265 block comment should start with '# '\n",
    "nay_pep8.py:15:1: E305 expected 2 blank lines after class or function definition, found 1\n",
    "nay_pep8.py:16:11: E111 indentation is not a multiple of 4\n",
    "nay_pep8.py:16:11: E117 over-indented\n",
    "nay_pep8.py:16:17: E225 missing whitespace around operator\n",
    "nay_pep8.py:16:32: E222 multiple spaces after operator\n",
    "nay_pep8.py:16:32: E251 unexpected spaces around keyword / parameter equals\n",
    "nay_pep8.py:16:38: E231 missing whitespace after ','\n",
    "nay_pep8.py:16:44: E221 multiple spaces before operator\n",
    "nay_pep8.py:16:44: E251 unexpected spaces around keyword / parameter equals\n",
    "nay_pep8.py:16:47: E251 unexpected spaces around keyword / parameter equals\n",
    "nay_pep8.py:17:11: E111 indentation is not a multiple of 4\n",
    "nay_pep8.py:17:17: E201 whitespace after '('\n",
    "nay_pep8.py:17:25: E202 whitespace before ')'\n",
    "nay_pep8.py:17:27: W292 no newline at end of file\n",
    "```"
   ]
  },
  {
   "cell_type": "code",
   "execution_count": 16,
   "id": "c02fe085",
   "metadata": {},
   "outputs": [
    {
     "name": "stdout",
     "output_type": "stream",
     "text": [
      "Please help me\n",
      "PLEASE EUREKA!!\n"
     ]
    }
   ],
   "source": [
    "def print_phrase(phrase, polite=True, shout=False):\n",
    "    if polite:# It's generally polite to say please\n",
    "        phrase = 'Please ' + phrase\n",
    "\n",
    "    if shout:  #All caps looks like a written shout\n",
    "        phrase = phrase.upper() + '!!'\n",
    "\n",
    "    print(phrase)\n",
    "\n",
    "\n",
    "#Politely ask for help\n",
    "print_phrase('help me', polite=True)\n",
    " # Shout about a discovery\n",
    "print_phrase('eureka', shout=True)\n"
   ]
  },
  {
   "cell_type": "markdown",
   "id": "708e1caf",
   "metadata": {},
   "source": [
    "* See the comment and type error that would be raised\n",
    "```python\n",
    "my_script.py:2:15: E261 at least two spaces before inline comment\n",
    "my_script.py:5:16: E262 inline comment should start with '# '\n",
    "my_script.py:11:1: E265 block comment should start with '# '\n",
    "my_script.py:13:2: E114 indentation is not a multiple of four (comment)\n",
    "my_script.py:13:2: E116 unexpected indentation (comment)\n",
    "```"
   ]
  },
  {
   "cell_type": "code",
   "execution_count": 15,
   "id": "27350ce3",
   "metadata": {},
   "outputs": [
    {
     "name": "stdout",
     "output_type": "stream",
     "text": [
      "Please help me\n",
      "PLEASE EUREKA!!\n"
     ]
    }
   ],
   "source": [
    "def print_phrase(phrase, polite=True, shout=False):\n",
    "    if polite:  # It's generally polite to say please\n",
    "        phrase = 'Please ' + phrase\n",
    "\n",
    "    if shout:  # All caps looks like a written shout\n",
    "        phrase = phrase.upper() + '!!'\n",
    "\n",
    "    print(phrase)\n",
    "\n",
    "\n",
    "# Politely ask for help\n",
    "print_phrase('help me', polite=True)\n",
    "# Shout about a discovery\n",
    "print_phrase('eureka', shout=True)\n"
   ]
  },
  {
   "cell_type": "markdown",
   "id": "8cdcba57",
   "metadata": {},
   "source": [
    "* We can see the inline comments here are off and would be caught with the `StyleChecker` instance and use of the method above in the previous exercise"
   ]
  },
  {
   "cell_type": "markdown",
   "id": "514dfbb4",
   "metadata": {},
   "source": [
    "### `Writing a Python Module`\n",
    "* What are the minimal requirements to make an import-able python package?\n",
    "    - A Directory with a blank file named **__init__.py**\n",
    "    \n",
    "<br>\n",
    "\n",
    "#### Naming Convention\n",
    "* PEP 8 instructs that package names be all lowercase and only use underscores when it improves readability\n",
    "\n",
    "```python\n",
    "# example import from (text_analyzer, textAnalyzer, TextAnalyzer, & __text_analyzer__)\n",
    "\n",
    "# easiesnt and right convention\n",
    "import text_analyzer\n",
    "```"
   ]
  },
  {
   "cell_type": "markdown",
   "id": "62314bd0",
   "metadata": {},
   "source": [
    "* Recognizing packages\n",
    "The structure of your directory tree is printed below. You'll be working in the file my_script.py that you can see in the tree.\n",
    "\n",
    "```python\n",
    "recognizing_packages\n",
    "├── MY_PACKAGE\n",
    "│&nbsp;&nbsp; └── _init_.py\n",
    "├── package\n",
    "│&nbsp;&nbsp; └── __init__.py\n",
    "├── package_py\n",
    "│&nbsp;&nbsp; └── __init__\n",
    "│&nbsp;&nbsp;     └── __init__.py\n",
    "├── py_package\n",
    "│&nbsp;&nbsp; └── __init__.py\n",
    "├── pyackage\n",
    "│&nbsp;&nbsp; └── init.py\n",
    "└── my_script.py\n",
    "```\n",
    "\n",
    "* Package Selection\n",
    "\n",
    "```python\n",
    "# Import local packages\n",
    "import py_package\n",
    "import package\n",
    "\n",
    "# View the help for each package\n",
    "help(py_package)\n",
    "help(package)\n",
    "\n",
    "```"
   ]
  },
  {
   "cell_type": "markdown",
   "id": "06cca443",
   "metadata": {},
   "source": [
    "### Adding functionality to your package\n",
    "In the file counter_utils.py, you will write 2 functions to be a part of your package: plot_counter and sum_counters. The structure of your package can be seen in the tree below. For the coding portions of this exercise, you will be working in the file counter_utils.py.\n",
    "\n",
    "```python\n",
    "text_analyzer\n",
    "├── __init__.py\n",
    "└── counter_utils.py\n",
    "```"
   ]
  },
  {
   "cell_type": "code",
   "execution_count": 17,
   "id": "0d876e13",
   "metadata": {},
   "outputs": [],
   "source": [
    "# Import needed functionality\n",
    "from collections import Counter\n",
    "\n",
    "def plot_counter(counter, n_most_common=5):\n",
    "  # Subset the n_most_common items from the input counter\n",
    "  top_items = counter.most_common(n_most_common)\n",
    "  # Plot `top_items`\n",
    "  plot_counter_most_common(top_items)\n"
   ]
  },
  {
   "cell_type": "code",
   "execution_count": 18,
   "id": "9cbf32b6",
   "metadata": {},
   "outputs": [],
   "source": [
    "# Import needed functionality\n",
    "from collections import Counter\n",
    "\n",
    "def sum_counters(counters):\n",
    "  # Sum the inputted counters\n",
    "  return sum(counters, Counter())\n"
   ]
  },
  {
   "cell_type": "markdown",
   "id": "a9f66dc3",
   "metadata": {},
   "source": [
    "* You just wrote two functions for your package in the file counter_utils.py named plot_counter & sum_counters. \n",
    "\n",
    "Which of the following lines would correctly import these functions in __init__.py using relative import syntax?\n",
    "\n",
    "\n",
    "* from counter_utils import plot_counter, sum_counters\n",
    "\n",
    "* **from .counter_utils import plot_counter, sum_counters**\n",
    "\n",
    "* from . import plot_counter, sum_counters\n",
    "\n",
    "* from .counter_utils import plot_counter & sum_counters\n",
    "\n"
   ]
  },
  {
   "cell_type": "markdown",
   "id": "8016f23c",
   "metadata": {},
   "source": [
    "### Using your package's new functionality\n",
    "\n",
    "You've now created some great functionality for text analysis to your package. In this exercise, you'll leverage your package to analyze some tweets written by DataCamp & DataCamp users.\n",
    "\n",
    "The object word_counts is loaded into your environment. It contains a list of Counter objects that contain word counts from a sample of DataCamp tweets.\n",
    "\n",
    "* Structure\n",
    "```python\n",
    "working_dir\n",
    "├── text_analyzer\n",
    "│    ├── __init__.py\n",
    "│    ├── counter_utils.py\n",
    "└── my_script.py\n",
    "```\n",
    "\n",
    "```python\n",
    "# Import local package\n",
    "import text_analyzer\n",
    "\n",
    "# Sum word_counts using sum_counters from text_analyzer\n",
    "word_count_totals = text_analyzer.sum_counters(word_counts)\n",
    "\n",
    "# Plot word_count_totals using plot_counter from text_analyzer\n",
    "text_analyzer.plot_counter(word_count_totals)\n",
    "```"
   ]
  },
  {
   "cell_type": "code",
   "execution_count": null,
   "id": "641a6004",
   "metadata": {},
   "outputs": [],
   "source": []
  }
 ],
 "metadata": {
  "kernelspec": {
   "display_name": "Python 3 (ipykernel)",
   "language": "python",
   "name": "python3"
  },
  "language_info": {
   "codemirror_mode": {
    "name": "ipython",
    "version": 3
   },
   "file_extension": ".py",
   "mimetype": "text/x-python",
   "name": "python",
   "nbconvert_exporter": "python",
   "pygments_lexer": "ipython3",
   "version": "3.9.12"
  }
 },
 "nbformat": 4,
 "nbformat_minor": 5
}
